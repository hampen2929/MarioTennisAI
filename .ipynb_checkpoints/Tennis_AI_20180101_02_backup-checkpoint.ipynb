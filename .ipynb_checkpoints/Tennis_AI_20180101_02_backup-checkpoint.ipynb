{
 "cells": [
  {
   "cell_type": "markdown",
   "metadata": {
    "toc": true
   },
   "source": [
    "<h1>Table of Contents<span class=\"tocSkip\"></span></h1>\n",
    "<div class=\"toc\"><ul class=\"toc-item\"><li><span><a href=\"#import\" data-toc-modified-id=\"import-1\"><span class=\"toc-item-num\">1&nbsp;&nbsp;</span>import</a></span></li><li><span><a href=\"#parameters\" data-toc-modified-id=\"parameters-2\"><span class=\"toc-item-num\">2&nbsp;&nbsp;</span>parameters</a></span></li><li><span><a href=\"#keys\" data-toc-modified-id=\"keys-3\"><span class=\"toc-item-num\">3&nbsp;&nbsp;</span>keys</a></span><ul class=\"toc-item\"><li><span><a href=\"#memory-address\" data-toc-modified-id=\"memory-address-3.1\"><span class=\"toc-item-num\">3.1&nbsp;&nbsp;</span>memory address</a></span></li><li><span><a href=\"#bottun-pattern\" data-toc-modified-id=\"bottun-pattern-3.2\"><span class=\"toc-item-num\">3.2&nbsp;&nbsp;</span>bottun pattern</a></span><ul class=\"toc-item\"><li><span><a href=\"#use-shot-only-A\" data-toc-modified-id=\"use-shot-only-A-3.2.1\"><span class=\"toc-item-num\">3.2.1&nbsp;&nbsp;</span>use shot only A</a></span></li><li><span><a href=\"#use-shot-A-&amp;-noshot\" data-toc-modified-id=\"use-shot-A-&amp;-noshot-3.2.2\"><span class=\"toc-item-num\">3.2.2&nbsp;&nbsp;</span>use shot A &amp; noshot</a></span></li><li><span><a href=\"#use-shot-A-&amp;-B\" data-toc-modified-id=\"use-shot-A-&amp;-B-3.2.3\"><span class=\"toc-item-num\">3.2.3&nbsp;&nbsp;</span>use shot A &amp; B</a></span></li></ul></li></ul></li><li><span><a href=\"#functions\" data-toc-modified-id=\"functions-4\"><span class=\"toc-item-num\">4&nbsp;&nbsp;</span>functions</a></span><ul class=\"toc-item\"><li><span><a href=\"#reward\" data-toc-modified-id=\"reward-4.1\"><span class=\"toc-item-num\">4.1&nbsp;&nbsp;</span>reward</a></span><ul class=\"toc-item\"><li><span><a href=\"#スコア取得\" data-toc-modified-id=\"スコア取得-4.1.1\"><span class=\"toc-item-num\">4.1.1&nbsp;&nbsp;</span>スコア取得</a></span></li><li><span><a href=\"#重複するスコアの無視\" data-toc-modified-id=\"重複するスコアの無視-4.1.2\"><span class=\"toc-item-num\">4.1.2&nbsp;&nbsp;</span>重複するスコアの無視</a></span></li><li><span><a href=\"#報酬計算\" data-toc-modified-id=\"報酬計算-4.1.3\"><span class=\"toc-item-num\">4.1.3&nbsp;&nbsp;</span>報酬計算</a></span></li></ul></li></ul></li><li><span><a href=\"#execute\" data-toc-modified-id=\"execute-5\"><span class=\"toc-item-num\">5&nbsp;&nbsp;</span>execute</a></span><ul class=\"toc-item\"><li><span><a href=\"#行動とスコア\" data-toc-modified-id=\"行動とスコア-5.1\"><span class=\"toc-item-num\">5.1&nbsp;&nbsp;</span>行動とスコア</a></span></li></ul></li><li><span><a href=\"#active-game-window\" data-toc-modified-id=\"active-game-window-6\"><span class=\"toc-item-num\">6&nbsp;&nbsp;</span>active game window</a></span><ul class=\"toc-item\"><li><span><a href=\"#スコア取得のみ\" data-toc-modified-id=\"スコア取得のみ-6.1\"><span class=\"toc-item-num\">6.1&nbsp;&nbsp;</span>スコア取得のみ</a></span></li></ul></li><li><span><a href=\"#lower-left\" data-toc-modified-id=\"lower-left-7\"><span class=\"toc-item-num\">7&nbsp;&nbsp;</span>lower left</a></span></li><li><span><a href=\"#lower-right\" data-toc-modified-id=\"lower-right-8\"><span class=\"toc-item-num\">8&nbsp;&nbsp;</span>lower right</a></span></li><li><span><a href=\"#upper-left\" data-toc-modified-id=\"upper-left-9\"><span class=\"toc-item-num\">9&nbsp;&nbsp;</span>upper left</a></span></li><li><span><a href=\"#upper-right\" data-toc-modified-id=\"upper-right-10\"><span class=\"toc-item-num\">10&nbsp;&nbsp;</span>upper right</a></span></li></ul></div>"
   ]
  },
  {
   "cell_type": "markdown",
   "metadata": {},
   "source": [
    "# import"
   ]
  },
  {
   "cell_type": "code",
   "execution_count": 1,
   "metadata": {},
   "outputs": [],
   "source": [
    "import numpy as np\n",
    "import cv2\n",
    "from grabscreen import grab_screen\n",
    "from directkeys import *\n",
    "from window_controlle import active_window\n",
    "import re\n",
    "from score_check import score_check\n",
    "import sys\n",
    "import copy"
   ]
  },
  {
   "cell_type": "markdown",
   "metadata": {},
   "source": [
    "# parameters"
   ]
  },
  {
   "cell_type": "code",
   "execution_count": 2,
   "metadata": {},
   "outputs": [],
   "source": [
    "# template matching\n",
    "threshold = 0.9"
   ]
  },
  {
   "cell_type": "markdown",
   "metadata": {},
   "source": [
    "# keys"
   ]
  },
  {
   "cell_type": "markdown",
   "metadata": {},
   "source": [
    "## memory address"
   ]
  },
  {
   "cell_type": "code",
   "execution_count": 3,
   "metadata": {},
   "outputs": [],
   "source": [
    "A = 0x1E\n",
    "B = 0x30\n",
    "leftarrow = 0xcb\n",
    "rightarrow = 0xcd\n",
    "uparrow = 0xc8\n",
    "downarrow = 0xd0"
   ]
  },
  {
   "cell_type": "markdown",
   "metadata": {},
   "source": [
    "## bottun pattern"
   ]
  },
  {
   "cell_type": "markdown",
   "metadata": {},
   "source": [
    "### use shot only A"
   ]
  },
  {
   "cell_type": "markdown",
   "metadata": {},
   "source": [
    "keys_move_to_press = [leftarrow, rightarrow, uparrow, downarrow, stay]\n",
    "keys_move_name = ['left', 'right', 'up', 'down', 'stay']\n",
    "\n",
    "keys_shot_to_press = [A]\n",
    "keys_shot_name = ['A']\n",
    "\n",
    "num_move_actions = len(keys_move_to_press)\n",
    "num_shot_actions = len(keys_shot_to_press)"
   ]
  },
  {
   "cell_type": "markdown",
   "metadata": {},
   "source": [
    "### use shot A & noshot"
   ]
  },
  {
   "cell_type": "code",
   "execution_count": 4,
   "metadata": {},
   "outputs": [],
   "source": [
    "keys_move_to_press = [leftarrow, rightarrow, uparrow, downarrow, stay]\n",
    "keys_move_name = ['left', 'right', 'up', 'down', 'stay']\n",
    "\n",
    "keys_shot_to_press = [A, noshot]\n",
    "keys_shot_name = ['A', 'noshot']\n",
    "\n",
    "num_move_actions = len(keys_move_to_press)\n",
    "num_shot_actions = len(keys_shot_to_press)"
   ]
  },
  {
   "cell_type": "markdown",
   "metadata": {},
   "source": [
    "### use shot A & B"
   ]
  },
  {
   "cell_type": "markdown",
   "metadata": {},
   "source": [
    "A = 0x1E\n",
    "B = 0x30\n",
    "leftarrow = 0xcb\n",
    "rightarrow = 0xcd\n",
    "uparrow = 0xc8\n",
    "downarrow = 0xd0\n",
    "\n",
    "keys_move_to_press = [leftarrow, rightarrow, uparrow, downarrow, stay]\n",
    "keys_move_name = ['left', 'right', 'up', 'down', 'stay']\n",
    "\n",
    "\n",
    "\n",
    "num_move_actions = len(keys_move_to_press)\n",
    "num_shot_actions = len(keys_shot_to_press)"
   ]
  },
  {
   "cell_type": "markdown",
   "metadata": {},
   "source": [
    "# functions"
   ]
  },
  {
   "cell_type": "code",
   "execution_count": 5,
   "metadata": {},
   "outputs": [],
   "source": [
    "def imshow(img):\n",
    "    cv2.imshow('window',img)\n",
    "    cv2.waitKey(0)\n",
    "    cv2.destroyAllWindows()"
   ]
  },
  {
   "cell_type": "markdown",
   "metadata": {},
   "source": [
    "## reward"
   ]
  },
  {
   "cell_type": "markdown",
   "metadata": {},
   "source": [
    "### スコア取得"
   ]
  },
  {
   "cell_type": "code",
   "execution_count": 6,
   "metadata": {},
   "outputs": [],
   "source": [
    "import os\n",
    "import cv2\n",
    "import numpy as np\n",
    "\n",
    "score_value_list = ['0', '15', '30', '40', 'adv']\n",
    "\n",
    "def score_check(frame):\n",
    "    path_to_temp = './images/score_template/'\n",
    "\n",
    "    name_temp_list = os.listdir(path_to_temp)\n",
    "\n",
    "    img_temp_list = []\n",
    "    for path in name_temp_list:\n",
    "        img = cv2.imread(path_to_temp + path)\n",
    "        img_temp_list.append(img)\n",
    "\n",
    "    loc_list = []\n",
    "    for score_num in range(len(score_value_list)):\n",
    "        img_temp = img_temp_list[score_num]\n",
    "\n",
    "        result = cv2.matchTemplate(frame, img_temp, cv2.TM_CCOEFF_NORMED)\n",
    "        loc = np.where(result >= threshold)\n",
    "        loc_list.append(loc)\n",
    "\n",
    "    score_pos_list = []\n",
    "    for loc_num in range(len(loc_list)):\n",
    "        top_left = (np.nan, np.nan)\n",
    "        bottom_right = (np.nan, np.nan)\n",
    "\n",
    "        score_pos_list_buf = []\n",
    "        for num in range(len(loc_list[loc_num][0])):        \n",
    "            max_loc = (loc_list[loc_num][0][num], loc_list[loc_num][1][num])\n",
    "            top_left = max_loc\n",
    "            _, w, h = img_temp.shape[::-1]\n",
    "            bottom_right = (top_left[0] + w, top_left[1] + h)\n",
    "\n",
    "            if (top_left != np.nan) and (bottom_right != np.nan):\n",
    "                score_pos_list_buf.append([top_left, bottom_right])\n",
    "\n",
    "        score_pos_list.append(score_pos_list_buf)\n",
    "\n",
    "    half_line = frame.shape[1] / 2\n",
    "\n",
    "    my_score = np.nan\n",
    "    enemy_score = np.nan\n",
    "    for score_value_num in range(len(score_value_list)):\n",
    "        for score_buf in score_pos_list[score_value_num]:\n",
    "            if score_buf[1][0] >= half_line:\n",
    "                my_score = score_value_list[score_value_num]\n",
    "            elif score_buf[1][0] < half_line:\n",
    "                enemy_score = score_value_list[score_value_num]\n",
    "\n",
    "    score = (my_score, enemy_score)\n",
    "    return score"
   ]
  },
  {
   "cell_type": "markdown",
   "metadata": {},
   "source": [
    "### 重複するスコアの無視"
   ]
  },
  {
   "cell_type": "code",
   "execution_count": 7,
   "metadata": {},
   "outputs": [],
   "source": [
    "def ignore_duplicated_score(score, last_sore):        \n",
    "    if (score != last_score) & (np.nan not in score):\n",
    "        return score"
   ]
  },
  {
   "cell_type": "markdown",
   "metadata": {},
   "source": [
    "### 報酬計算"
   ]
  },
  {
   "cell_type": "markdown",
   "metadata": {},
   "source": [
    "def calc_reward(score, last_score):\n",
    "    if score == ('0','0'):        "
   ]
  },
  {
   "cell_type": "markdown",
   "metadata": {},
   "source": [
    "# execute"
   ]
  },
  {
   "cell_type": "markdown",
   "metadata": {},
   "source": [
    "## 行動とスコア"
   ]
  },
  {
   "cell_type": "markdown",
   "metadata": {
    "scrolled": false
   },
   "source": [
    "# active game window\n",
    "active_window()\n",
    "last_score = (np.nan, np.nan)\n",
    "score = (np.nan, np.nan)\n",
    "\n",
    "score_list = []\n",
    "\n",
    "while True:\n",
    "    # frame取得\n",
    "    frame = grab_screen()\n",
    "\n",
    "    # score取得\n",
    "    score = score_check(frame)\n",
    "\n",
    "    # 行動決定\n",
    "    action_move = int(np.random.randint(0, num_move_actions, size=1))\n",
    "    action_shot = int(np.random.randint(0, num_shot_actions, size=1))\n",
    "    \n",
    "    # ボタン選択\n",
    "    PressKey(keys_move_to_press[action_move])\n",
    "    PressKey(keys_shot_to_press[action_shot])\n",
    "\n",
    "    time.sleep(0.3)\n",
    "\n",
    "    ReleaseKey(keys_move_to_press[action_move])\n",
    "    ReleaseKey(keys_shot_to_press[action_shot])\n",
    "\n",
    "    # 表示        \n",
    "    sys.stdout.write(keys_move_name[action_move]  + ' + ')\n",
    "    sys.stdout.write(keys_shot_name[action_shot] + ' ')\n",
    "    sys.stdout.write('                            ')\n",
    "    sys.stdout.write('\\r')\n",
    "    \n",
    "    # スコアのため込み\n",
    "    if (score != last_score) & (np.nan not in score):\n",
    "        score_list.append(score)\n",
    "        \n",
    "        sys.stdout.write(str(score))\n",
    "        sys.stdout.write('                            ')\n",
    "        sys.stdout.write('\\r')\n",
    "        \n",
    "        last_score = copy.copy(score)"
   ]
  },
  {
   "cell_type": "markdown",
   "metadata": {},
   "source": [
    "## スコア取得のみ"
   ]
  },
  {
   "cell_type": "code",
   "execution_count": 8,
   "metadata": {},
   "outputs": [],
   "source": [
    "frame = grab_screen()"
   ]
  },
  {
   "cell_type": "markdown",
   "metadata": {},
   "source": [
    "# lower left\n",
    "xll_1 = 140\n",
    "xll_2 = 220\n",
    "yll_1 = 435\n",
    "yll_2 = 485\n",
    "\n",
    "# lower right\n",
    "xlr_1 = 580\n",
    "xlr_2 = 660\n",
    "ylr_1 = 435\n",
    "ylr_2 = 485\n",
    "\n",
    "# upper left\n",
    "xul_1 = 140\n",
    "xul_2 = 220\n",
    "yul_1 = 45\n",
    "yul_2 = 95\n",
    "\n",
    "# upper right\n",
    "xur_1 = 580\n",
    "xur_2 = 660\n",
    "yur_1 = 45\n",
    "yur_2 = 95"
   ]
  },
  {
   "cell_type": "code",
   "execution_count": 9,
   "metadata": {},
   "outputs": [],
   "source": [
    "# lower left\n",
    "xll_1 = 135\n",
    "xll_2 = 225\n",
    "yll_1 = 430\n",
    "yll_2 = 490\n",
    "\n",
    "# lower right\n",
    "xlr_1 = 575\n",
    "xlr_2 = 665\n",
    "ylr_1 = 430\n",
    "ylr_2 = 490\n",
    "\n",
    "# upper left\n",
    "xul_1 = 135\n",
    "xul_2 = 225\n",
    "yul_1 = 40\n",
    "yul_2 = 100\n",
    "\n",
    "# upper right\n",
    "xur_1 = 575\n",
    "xur_2 = 665\n",
    "yur_1 = 40\n",
    "yur_2 = 100"
   ]
  },
  {
   "cell_type": "code",
   "execution_count": 10,
   "metadata": {},
   "outputs": [],
   "source": [
    "frame = grab_screen()"
   ]
  },
  {
   "cell_type": "code",
   "execution_count": 11,
   "metadata": {},
   "outputs": [],
   "source": [
    "import os\n",
    "import cv2\n",
    "import numpy as np\n",
    "\n",
    "score_value_list = ['0', '15', '30', '40', 'adv']\n",
    "path_to_temp = './images/score_template/'\n",
    "name_temp_list = os.listdir(path_to_temp)\n",
    "\n",
    "img_temp_list = []\n",
    "for path in name_temp_list:\n",
    "    img = cv2.imread(path_to_temp + path)\n",
    "    img_temp_list.append(img)\n",
    "    \n",
    "def score_check(frame):\n",
    "    temp_ll = frame[yll_1:yll_2, xll_1:xll_2]\n",
    "    temp_lr = frame[ylr_1:ylr_2, xlr_1:xlr_2]\n",
    "    temp_ul = frame[yul_1:yul_2, xul_1:xul_2]\n",
    "    temp_ur = frame[yur_1:yur_2, xur_1:xur_2]\n",
    "\n",
    "    img_my_score = cv2.hconcat([temp_ll, temp_lr])\n",
    "    img_enemy_score = cv2.hconcat([temp_ul, temp_ur])\n",
    "\n",
    "    img_score_list = [img_my_score, img_enemy_score]\n",
    "\n",
    "    loc_list = []\n",
    "    for img_score_num in range(len(img_score_list)): # my and enemy\n",
    "        loc_list_buf = []\n",
    "        for img_temp_num in range(len(img_temp_list)):  # 0 ~ adv\n",
    "            result = cv2.matchTemplate(img_score_list[img_score_num], img_temp_list[img_temp_num], cv2.TM_CCOEFF_NORMED)\n",
    "\n",
    "            loc = np.where(result >= threshold)\n",
    "            loc_list_buf.append(loc)\n",
    "\n",
    "        loc_list.append(loc_list_buf)\n",
    "\n",
    "    score_extract = []\n",
    "    for loc_num in range(len(loc_list)): # my and enemy\n",
    "        my_score = np.nan\n",
    "\n",
    "        score_pos_list_buf = []\n",
    "        for num in range(len(loc_list[loc_num])): # 0~adv\n",
    "            if len(loc_list[loc_num][num][0]) > 0:\n",
    "                my_score = score_value_list[num]\n",
    "        score_extract.append(my_score)\n",
    "\n",
    "    score = (score_extract[0], score_extract[1])\n",
    "    return score"
   ]
  },
  {
   "cell_type": "code",
   "execution_count": 12,
   "metadata": {},
   "outputs": [],
   "source": [
    "imshow(frame)"
   ]
  },
  {
   "cell_type": "code",
   "execution_count": 50,
   "metadata": {},
   "outputs": [],
   "source": [
    "imshow(img_enemy_score)"
   ]
  },
  {
   "cell_type": "code",
   "execution_count": 14,
   "metadata": {},
   "outputs": [
    {
     "name": "stdout",
     "output_type": "stream",
     "text": [
      "('15', '0')                             \r"
     ]
    },
    {
     "ename": "error",
     "evalue": "CreateCompatibleDC failed",
     "output_type": "error",
     "traceback": [
      "\u001b[1;31m---------------------------------------------------------------------------\u001b[0m",
      "\u001b[1;31merror\u001b[0m                                     Traceback (most recent call last)",
      "\u001b[1;32m<ipython-input-14-5a99e9a3c33c>\u001b[0m in \u001b[0;36m<module>\u001b[1;34m\u001b[0m\n\u001b[0;32m      8\u001b[0m \u001b[1;32mwhile\u001b[0m \u001b[1;32mTrue\u001b[0m\u001b[1;33m:\u001b[0m\u001b[1;33m\u001b[0m\u001b[1;33m\u001b[0m\u001b[0m\n\u001b[0;32m      9\u001b[0m     \u001b[1;31m# frame取得\u001b[0m\u001b[1;33m\u001b[0m\u001b[1;33m\u001b[0m\u001b[1;33m\u001b[0m\u001b[0m\n\u001b[1;32m---> 10\u001b[1;33m     \u001b[0mframe\u001b[0m \u001b[1;33m=\u001b[0m \u001b[0mgrab_screen\u001b[0m\u001b[1;33m(\u001b[0m\u001b[1;33m)\u001b[0m\u001b[1;33m\u001b[0m\u001b[1;33m\u001b[0m\u001b[0m\n\u001b[0m\u001b[0;32m     11\u001b[0m \u001b[1;33m\u001b[0m\u001b[0m\n\u001b[0;32m     12\u001b[0m     \u001b[1;31m# score取得\u001b[0m\u001b[1;33m\u001b[0m\u001b[1;33m\u001b[0m\u001b[1;33m\u001b[0m\u001b[0m\n",
      "\u001b[1;32mE:\\OneDrive\\RL\\00_DeepGamingAI_Tennis\\grabscreen.py\u001b[0m in \u001b[0;36mgrab_screen\u001b[1;34m()\u001b[0m\n\u001b[0;32m     19\u001b[0m     \u001b[0mmemdc\u001b[0m \u001b[1;33m=\u001b[0m \u001b[0msrcdc\u001b[0m\u001b[1;33m.\u001b[0m\u001b[0mCreateCompatibleDC\u001b[0m\u001b[1;33m(\u001b[0m\u001b[1;33m)\u001b[0m\u001b[1;33m\u001b[0m\u001b[1;33m\u001b[0m\u001b[0m\n\u001b[0;32m     20\u001b[0m     \u001b[0mbmp\u001b[0m \u001b[1;33m=\u001b[0m \u001b[0mwin32ui\u001b[0m\u001b[1;33m.\u001b[0m\u001b[0mCreateBitmap\u001b[0m\u001b[1;33m(\u001b[0m\u001b[1;33m)\u001b[0m\u001b[1;33m\u001b[0m\u001b[1;33m\u001b[0m\u001b[0m\n\u001b[1;32m---> 21\u001b[1;33m     \u001b[0mbmp\u001b[0m\u001b[1;33m.\u001b[0m\u001b[0mCreateCompatibleBitmap\u001b[0m\u001b[1;33m(\u001b[0m\u001b[0msrcdc\u001b[0m\u001b[1;33m,\u001b[0m \u001b[0mwidth\u001b[0m\u001b[1;33m,\u001b[0m \u001b[0mheight\u001b[0m\u001b[1;33m)\u001b[0m\u001b[1;33m\u001b[0m\u001b[1;33m\u001b[0m\u001b[0m\n\u001b[0m\u001b[0;32m     22\u001b[0m     \u001b[0mmemdc\u001b[0m\u001b[1;33m.\u001b[0m\u001b[0mSelectObject\u001b[0m\u001b[1;33m(\u001b[0m\u001b[0mbmp\u001b[0m\u001b[1;33m)\u001b[0m\u001b[1;33m\u001b[0m\u001b[1;33m\u001b[0m\u001b[0m\n\u001b[0;32m     23\u001b[0m     \u001b[0mmemdc\u001b[0m\u001b[1;33m.\u001b[0m\u001b[0mBitBlt\u001b[0m\u001b[1;33m(\u001b[0m\u001b[1;33m(\u001b[0m\u001b[1;36m0\u001b[0m\u001b[1;33m,\u001b[0m \u001b[1;36m0\u001b[0m\u001b[1;33m)\u001b[0m\u001b[1;33m,\u001b[0m \u001b[1;33m(\u001b[0m\u001b[0mwidth\u001b[0m\u001b[1;33m,\u001b[0m \u001b[0mheight\u001b[0m\u001b[1;33m)\u001b[0m\u001b[1;33m,\u001b[0m \u001b[0msrcdc\u001b[0m\u001b[1;33m,\u001b[0m \u001b[1;33m(\u001b[0m\u001b[0mleft\u001b[0m\u001b[1;33m,\u001b[0m \u001b[0mtop\u001b[0m\u001b[1;33m)\u001b[0m\u001b[1;33m,\u001b[0m \u001b[0mwin32con\u001b[0m\u001b[1;33m.\u001b[0m\u001b[0mSRCCOPY\u001b[0m\u001b[1;33m)\u001b[0m\u001b[1;33m\u001b[0m\u001b[1;33m\u001b[0m\u001b[0m\n",
      "\u001b[1;31merror\u001b[0m: CreateCompatibleDC failed"
     ]
    }
   ],
   "source": [
    "# active game window\n",
    "active_window()\n",
    "last_score = (np.nan, np.nan)\n",
    "score = (np.nan, np.nan)\n",
    "\n",
    "score_list = []\n",
    "\n",
    "while True:\n",
    "    # frame取得\n",
    "    frame = grab_screen()\n",
    "\n",
    "    # score取得\n",
    "    score = score_check(frame)\n",
    "\n",
    "#     # 行動決定\n",
    "#     action_move = int(np.random.randint(0, num_move_actions, size=1))\n",
    "#     action_shot = int(np.random.randint(0, num_shot_actions, size=1))\n",
    "    \n",
    "#     # ボタン選択\n",
    "#     PressKey(keys_move_to_press[action_move])\n",
    "#     PressKey(keys_shot_to_press[action_shot])\n",
    "\n",
    "#     time.sleep(0.3)\n",
    "\n",
    "#     ReleaseKey(keys_move_to_press[action_move])\n",
    "#     ReleaseKey(keys_shot_to_press[action_shot])\n",
    "\n",
    "#     # 表示        \n",
    "#     sys.stdout.write(keys_move_name[action_move]  + ' + ')\n",
    "#     sys.stdout.write(keys_shot_name[action_shot] + ' ')\n",
    "#     sys.stdout.write('                            ')\n",
    "#     sys.stdout.write('\\r')\n",
    "    \n",
    "    # スコアのため込み\n",
    "    if (score != last_score) & (np.nan not in score):\n",
    "        score_list.append(score)\n",
    "        \n",
    "        sys.stdout.write(str(score))\n",
    "        sys.stdout.write('                            ')\n",
    "        sys.stdout.write('\\r')\n",
    "        \n",
    "        last_score = copy.copy(score)\n",
    "    if score = "
   ]
  },
  {
   "cell_type": "code",
   "execution_count": 18,
   "metadata": {},
   "outputs": [
    {
     "data": {
      "text/plain": [
       "[('0', '0'),\n",
       " ('15', '0'),\n",
       " ('30', '0'),\n",
       " ('40', '0'),\n",
       " ('40', '15'),\n",
       " ('0', '0'),\n",
       " ('15', '0'),\n",
       " ('30', '0'),\n",
       " ('40', '0'),\n",
       " ('40', '15'),\n",
       " ('0', '0'),\n",
       " ('15', '0')]"
      ]
     },
     "execution_count": 18,
     "metadata": {},
     "output_type": "execute_result"
    }
   ],
   "source": [
    "score_list"
   ]
  },
  {
   "cell_type": "code",
   "execution_count": 19,
   "metadata": {},
   "outputs": [],
   "source": [
    "score = ('0','0')"
   ]
  },
  {
   "cell_type": "code",
   "execution_count": 20,
   "metadata": {},
   "outputs": [],
   "source": [
    "last_score = ('40','15')"
   ]
  },
  {
   "cell_type": "code",
   "execution_count": 35,
   "metadata": {},
   "outputs": [],
   "source": [
    "last_score = ('40','0')"
   ]
  },
  {
   "cell_type": "code",
   "execution_count": 36,
   "metadata": {},
   "outputs": [],
   "source": [
    "score_reward_dict = {'0':0, '15':1, '30':2, '40':3, 'adv':4}"
   ]
  },
  {
   "cell_type": "code",
   "execution_count": 37,
   "metadata": {},
   "outputs": [
    {
     "data": {
      "text/plain": [
       "3"
      ]
     },
     "execution_count": 37,
     "metadata": {},
     "output_type": "execute_result"
    }
   ],
   "source": [
    "score_reward_dict[last_score[0]] - score_reward_dict[last_score[1]]"
   ]
  },
  {
   "cell_type": "code",
   "execution_count": null,
   "metadata": {},
   "outputs": [],
   "source": []
  },
  {
   "cell_type": "code",
   "execution_count": null,
   "metadata": {},
   "outputs": [],
   "source": []
  },
  {
   "cell_type": "code",
   "execution_count": null,
   "metadata": {},
   "outputs": [],
   "source": []
  },
  {
   "cell_type": "code",
   "execution_count": null,
   "metadata": {},
   "outputs": [],
   "source": []
  },
  {
   "cell_type": "code",
   "execution_count": null,
   "metadata": {},
   "outputs": [],
   "source": []
  },
  {
   "cell_type": "code",
   "execution_count": null,
   "metadata": {},
   "outputs": [],
   "source": []
  },
  {
   "cell_type": "code",
   "execution_count": 129,
   "metadata": {},
   "outputs": [
    {
     "data": {
      "text/plain": [
       "[('40', '0'), ('30', '0'), ('30', '30'), ('40', '40'), ('adv', '40')]"
      ]
     },
     "execution_count": 129,
     "metadata": {},
     "output_type": "execute_result"
    }
   ],
   "source": [
    "score_list"
   ]
  },
  {
   "cell_type": "code",
   "execution_count": null,
   "metadata": {},
   "outputs": [],
   "source": []
  },
  {
   "cell_type": "code",
   "execution_count": null,
   "metadata": {},
   "outputs": [],
   "source": []
  },
  {
   "cell_type": "code",
   "execution_count": 127,
   "metadata": {},
   "outputs": [
    {
     "data": {
      "text/plain": [
       "[('0', '0'), ('15', '0'), ('40', '0'), ('0', '0')]"
      ]
     },
     "execution_count": 127,
     "metadata": {},
     "output_type": "execute_result"
    }
   ],
   "source": [
    "score_list"
   ]
  },
  {
   "cell_type": "code",
   "execution_count": 125,
   "metadata": {},
   "outputs": [
    {
     "data": {
      "text/plain": [
       "[('40', '40'),\n",
       " ('40', 'adv'),\n",
       " ('40', '40'),\n",
       " ('0', '30'),\n",
       " ('0', '40'),\n",
       " ('0', '0')]"
      ]
     },
     "execution_count": 125,
     "metadata": {},
     "output_type": "execute_result"
    }
   ],
   "source": [
    "score_list"
   ]
  },
  {
   "cell_type": "code",
   "execution_count": null,
   "metadata": {},
   "outputs": [],
   "source": []
  },
  {
   "cell_type": "code",
   "execution_count": null,
   "metadata": {},
   "outputs": [],
   "source": []
  },
  {
   "cell_type": "code",
   "execution_count": 25,
   "metadata": {},
   "outputs": [],
   "source": [
    "frame = grab_screen()"
   ]
  },
  {
   "cell_type": "code",
   "execution_count": 28,
   "metadata": {},
   "outputs": [
    {
     "data": {
      "text/plain": [
       "'E:\\\\OneDrive\\\\RL\\\\00_DeepGamingAI_Tennis'"
      ]
     },
     "execution_count": 28,
     "metadata": {},
     "output_type": "execute_result"
    }
   ],
   "source": [
    "%pwd"
   ]
  },
  {
   "cell_type": "code",
   "execution_count": 38,
   "metadata": {},
   "outputs": [
    {
     "data": {
      "text/plain": [
       "True"
      ]
     },
     "execution_count": 38,
     "metadata": {},
     "output_type": "execute_result"
    }
   ],
   "source": [
    "cv2.imwrite('./first_serve.png', frame)"
   ]
  },
  {
   "cell_type": "code",
   "execution_count": 39,
   "metadata": {},
   "outputs": [
    {
     "data": {
      "text/plain": [
       "(545, 705, 3)"
      ]
     },
     "execution_count": 39,
     "metadata": {},
     "output_type": "execute_result"
    }
   ],
   "source": [
    "frame.shape"
   ]
  },
  {
   "cell_type": "code",
   "execution_count": 54,
   "metadata": {},
   "outputs": [],
   "source": [
    "first_serve_temp = frame[250:300, 240:460]"
   ]
  },
  {
   "cell_type": "code",
   "execution_count": 55,
   "metadata": {},
   "outputs": [
    {
     "data": {
      "text/plain": [
       "True"
      ]
     },
     "execution_count": 55,
     "metadata": {},
     "output_type": "execute_result"
    }
   ],
   "source": [
    "cv2.imwrite('./first_serve_temp.png', first_serve_temp)"
   ]
  },
  {
   "cell_type": "code",
   "execution_count": 56,
   "metadata": {},
   "outputs": [],
   "source": [
    "#img_temp = img_temp_list[score_num]\n",
    "result = cv2.matchTemplate(frame, first_serve_temp, cv2.TM_CCOEFF_NORMED)"
   ]
  },
  {
   "cell_type": "code",
   "execution_count": 60,
   "metadata": {},
   "outputs": [],
   "source": [
    "loc = np.where(result >= threshold)"
   ]
  },
  {
   "cell_type": "code",
   "execution_count": 68,
   "metadata": {},
   "outputs": [
    {
     "data": {
      "text/plain": [
       "True"
      ]
     },
     "execution_count": 68,
     "metadata": {},
     "output_type": "execute_result"
    }
   ],
   "source": [
    "len(loc[0]) > 0"
   ]
  },
  {
   "cell_type": "code",
   "execution_count": 63,
   "metadata": {},
   "outputs": [],
   "source": [
    "num = 0"
   ]
  },
  {
   "cell_type": "code",
   "execution_count": 64,
   "metadata": {},
   "outputs": [],
   "source": [
    "max_loc = (loc[0][num], loc[1][num])\n",
    "top_left = max_loc\n",
    "_, w, h = first_serve_temp.shape[::-1]\n",
    "bottom_right = (top_left[0] + w, top_left[1] + h)"
   ]
  },
  {
   "cell_type": "code",
   "execution_count": 65,
   "metadata": {},
   "outputs": [
    {
     "data": {
      "text/plain": [
       "(250, 240)"
      ]
     },
     "execution_count": 65,
     "metadata": {},
     "output_type": "execute_result"
    }
   ],
   "source": [
    "max_loc"
   ]
  },
  {
   "cell_type": "code",
   "execution_count": 66,
   "metadata": {},
   "outputs": [
    {
     "data": {
      "text/plain": [
       "(470, 290)"
      ]
     },
     "execution_count": 66,
     "metadata": {},
     "output_type": "execute_result"
    }
   ],
   "source": [
    "bottom_right"
   ]
  },
  {
   "cell_type": "code",
   "execution_count": null,
   "metadata": {},
   "outputs": [],
   "source": []
  },
  {
   "cell_type": "code",
   "execution_count": null,
   "metadata": {},
   "outputs": [],
   "source": []
  },
  {
   "cell_type": "code",
   "execution_count": 37,
   "metadata": {},
   "outputs": [
    {
     "ename": "error",
     "evalue": "OpenCV(3.4.5) C:\\projects\\opencv-python\\opencv\\modules\\imgcodecs\\src\\loadsave.cpp:687: error: (-2:Unspecified error) could not find a writer for the specified extension in function 'cv::imwrite_'\n",
     "output_type": "error",
     "traceback": [
      "\u001b[1;31m---------------------------------------------------------------------------\u001b[0m",
      "\u001b[1;31merror\u001b[0m                                     Traceback (most recent call last)",
      "\u001b[1;32m<ipython-input-37-9eae2e5ba20e>\u001b[0m in \u001b[0;36m<module>\u001b[1;34m\u001b[0m\n\u001b[1;32m----> 1\u001b[1;33m \u001b[0mcv2\u001b[0m\u001b[1;33m.\u001b[0m\u001b[0mimwrite\u001b[0m\u001b[1;33m(\u001b[0m\u001b[1;34m'./'\u001b[0m\u001b[1;33m,\u001b[0m \u001b[0mframe\u001b[0m\u001b[1;33m)\u001b[0m\u001b[1;33m\u001b[0m\u001b[1;33m\u001b[0m\u001b[0m\n\u001b[0m",
      "\u001b[1;31merror\u001b[0m: OpenCV(3.4.5) C:\\projects\\opencv-python\\opencv\\modules\\imgcodecs\\src\\loadsave.cpp:687: error: (-2:Unspecified error) could not find a writer for the specified extension in function 'cv::imwrite_'\n"
     ]
    }
   ],
   "source": [
    "cv2.imwrite('./', frame)"
   ]
  },
  {
   "cell_type": "code",
   "execution_count": 21,
   "metadata": {},
   "outputs": [
    {
     "data": {
      "text/plain": [
       "('15', '30')"
      ]
     },
     "execution_count": 21,
     "metadata": {},
     "output_type": "execute_result"
    }
   ],
   "source": [
    "score_check(frame)"
   ]
  },
  {
   "cell_type": "code",
   "execution_count": null,
   "metadata": {},
   "outputs": [],
   "source": []
  },
  {
   "cell_type": "code",
   "execution_count": 47,
   "metadata": {},
   "outputs": [
    {
     "data": {
      "text/plain": [
       "[('0', '0'),\n",
       " ('0', '15'),\n",
       " ('30', '0'),\n",
       " ('0', '40'),\n",
       " ('0', '0'),\n",
       " ('0', '15'),\n",
       " ('30', '0')]"
      ]
     },
     "execution_count": 47,
     "metadata": {},
     "output_type": "execute_result"
    }
   ],
   "source": [
    "score_list"
   ]
  },
  {
   "cell_type": "code",
   "execution_count": 38,
   "metadata": {},
   "outputs": [
    {
     "data": {
      "text/plain": [
       "('0', '40')"
      ]
     },
     "execution_count": 38,
     "metadata": {},
     "output_type": "execute_result"
    }
   ],
   "source": [
    "last_score"
   ]
  },
  {
   "cell_type": "code",
   "execution_count": 37,
   "metadata": {},
   "outputs": [
    {
     "data": {
      "text/plain": [
       "[('30', '0'), ('0', '40'), ('0', '0'), ('30', '0'), ('0', '40')]"
      ]
     },
     "execution_count": 37,
     "metadata": {},
     "output_type": "execute_result"
    }
   ],
   "source": [
    "score_list"
   ]
  },
  {
   "cell_type": "code",
   "execution_count": null,
   "metadata": {},
   "outputs": [],
   "source": []
  },
  {
   "cell_type": "code",
   "execution_count": 43,
   "metadata": {},
   "outputs": [
    {
     "data": {
      "text/plain": [
       "'noshot'"
      ]
     },
     "execution_count": 43,
     "metadata": {},
     "output_type": "execute_result"
    }
   ],
   "source": [
    "keys_shot_name[action_shot]"
   ]
  },
  {
   "cell_type": "code",
   "execution_count": 42,
   "metadata": {},
   "outputs": [
    {
     "data": {
      "text/plain": [
       "1"
      ]
     },
     "execution_count": 42,
     "metadata": {},
     "output_type": "execute_result"
    }
   ],
   "source": [
    "action_shot"
   ]
  },
  {
   "cell_type": "code",
   "execution_count": null,
   "metadata": {},
   "outputs": [],
   "source": []
  },
  {
   "cell_type": "code",
   "execution_count": null,
   "metadata": {},
   "outputs": [],
   "source": []
  },
  {
   "cell_type": "code",
   "execution_count": null,
   "metadata": {},
   "outputs": [],
   "source": []
  },
  {
   "cell_type": "code",
   "execution_count": null,
   "metadata": {},
   "outputs": [],
   "source": []
  },
  {
   "cell_type": "code",
   "execution_count": null,
   "metadata": {},
   "outputs": [],
   "source": []
  },
  {
   "cell_type": "code",
   "execution_count": null,
   "metadata": {},
   "outputs": [],
   "source": [
    "2b298a890b49"
   ]
  }
 ],
 "metadata": {
  "kernelspec": {
   "display_name": "Python 3",
   "language": "python",
   "name": "python3"
  },
  "language_info": {
   "codemirror_mode": {
    "name": "ipython",
    "version": 3
   },
   "file_extension": ".py",
   "mimetype": "text/x-python",
   "name": "python",
   "nbconvert_exporter": "python",
   "pygments_lexer": "ipython3",
   "version": "3.6.7"
  },
  "toc": {
   "base_numbering": 1,
   "nav_menu": {},
   "number_sections": true,
   "sideBar": true,
   "skip_h1_title": false,
   "title_cell": "Table of Contents",
   "title_sidebar": "Contents",
   "toc_cell": true,
   "toc_position": {
    "height": "calc(100% - 180px)",
    "left": "10px",
    "top": "150px",
    "width": "165px"
   },
   "toc_section_display": true,
   "toc_window_display": true
  }
 },
 "nbformat": 4,
 "nbformat_minor": 2
}
