{
 "cells": [
  {
   "cell_type": "markdown",
   "metadata": {
    "toc": true
   },
   "source": [
    "<h1>Table of Contents<span class=\"tocSkip\"></span></h1>\n",
    "<div class=\"toc\"><ul class=\"toc-item\"><li><span><a href=\"#import\" data-toc-modified-id=\"import-1\"><span class=\"toc-item-num\">1&nbsp;&nbsp;</span>import</a></span></li><li><span><a href=\"#parameters\" data-toc-modified-id=\"parameters-2\"><span class=\"toc-item-num\">2&nbsp;&nbsp;</span>parameters</a></span></li><li><span><a href=\"#keys\" data-toc-modified-id=\"keys-3\"><span class=\"toc-item-num\">3&nbsp;&nbsp;</span>keys</a></span><ul class=\"toc-item\"><li><span><a href=\"#bottun-pattern\" data-toc-modified-id=\"bottun-pattern-3.1\"><span class=\"toc-item-num\">3.1&nbsp;&nbsp;</span>bottun pattern</a></span><ul class=\"toc-item\"><li><span><a href=\"#use-shot-only-A\" data-toc-modified-id=\"use-shot-only-A-3.1.1\"><span class=\"toc-item-num\">3.1.1&nbsp;&nbsp;</span>use shot only A</a></span></li><li><span><a href=\"#use-shot-A-&amp;-noshot\" data-toc-modified-id=\"use-shot-A-&amp;-noshot-3.1.2\"><span class=\"toc-item-num\">3.1.2&nbsp;&nbsp;</span>use shot A &amp; noshot</a></span></li><li><span><a href=\"#use-shot-A-&amp;-B\" data-toc-modified-id=\"use-shot-A-&amp;-B-3.1.3\"><span class=\"toc-item-num\">3.1.3&nbsp;&nbsp;</span>use shot A &amp; B</a></span></li></ul></li></ul></li><li><span><a href=\"#functions\" data-toc-modified-id=\"functions-4\"><span class=\"toc-item-num\">4&nbsp;&nbsp;</span>functions</a></span><ul class=\"toc-item\"><li><span><a href=\"#reward\" data-toc-modified-id=\"reward-4.1\"><span class=\"toc-item-num\">4.1&nbsp;&nbsp;</span>reward</a></span><ul class=\"toc-item\"><li><span><a href=\"#スコア取得\" data-toc-modified-id=\"スコア取得-4.1.1\"><span class=\"toc-item-num\">4.1.1&nbsp;&nbsp;</span>スコア取得</a></span></li></ul></li></ul></li><li><span><a href=\"#pos_list\" data-toc-modified-id=\"pos_list-5\"><span class=\"toc-item-num\">5&nbsp;&nbsp;</span>pos_list</a></span></li><li><span><a href=\"#imshow(frame)\" data-toc-modified-id=\"imshow(frame)-6\"><span class=\"toc-item-num\">6&nbsp;&nbsp;</span>imshow(frame)</a></span></li><li><span><a href=\"#execute\" data-toc-modified-id=\"execute-7\"><span class=\"toc-item-num\">7&nbsp;&nbsp;</span>execute</a></span><ul class=\"toc-item\"><li><span><a href=\"#スコア取得\" data-toc-modified-id=\"スコア取得-7.1\"><span class=\"toc-item-num\">7.1&nbsp;&nbsp;</span>スコア取得</a></span></li><li><span><a href=\"#行動とスコア\" data-toc-modified-id=\"行動とスコア-7.2\"><span class=\"toc-item-num\">7.2&nbsp;&nbsp;</span>行動とスコア</a></span></li></ul></li></ul></div>"
   ]
  },
  {
   "cell_type": "markdown",
   "metadata": {},
   "source": [
    "# import"
   ]
  },
  {
   "cell_type": "code",
   "execution_count": 1,
   "metadata": {},
   "outputs": [],
   "source": [
    "import numpy as np\n",
    "import cv2\n",
    "from grabscreen import grab_screen\n",
    "from directkeys import *\n",
    "from window_controlle import active_window\n",
    "import re\n",
    "from score_check import score_check\n",
    "import sys\n",
    "import copy\n",
    "import os"
   ]
  },
  {
   "cell_type": "markdown",
   "metadata": {},
   "source": [
    "# parameters"
   ]
  },
  {
   "cell_type": "code",
   "execution_count": 2,
   "metadata": {},
   "outputs": [],
   "source": [
    "# template matching\n",
    "threshold = 0.9"
   ]
  },
  {
   "cell_type": "code",
   "execution_count": 3,
   "metadata": {},
   "outputs": [],
   "source": [
    "# reward\n",
    "init_flag = ('0','0')\n",
    "score_reward_dict = {'0':0, '15':1, '30':2, '40':3, 'adv':4}"
   ]
  },
  {
   "cell_type": "markdown",
   "metadata": {},
   "source": [
    "# keys"
   ]
  },
  {
   "cell_type": "markdown",
   "metadata": {},
   "source": [
    "## bottun pattern"
   ]
  },
  {
   "cell_type": "markdown",
   "metadata": {},
   "source": [
    "### use shot only A"
   ]
  },
  {
   "cell_type": "markdown",
   "metadata": {},
   "source": [
    "keys_move_to_press = [leftarrow, rightarrow, uparrow, downarrow, stay]\n",
    "keys_move_name = ['left', 'right', 'up', 'down', 'stay']\n",
    "\n",
    "keys_shot_to_press = [A]\n",
    "keys_shot_name = ['A']\n",
    "\n",
    "num_move_actions = len(keys_move_to_press)\n",
    "num_shot_actions = len(keys_shot_to_press)"
   ]
  },
  {
   "cell_type": "markdown",
   "metadata": {},
   "source": [
    "### use shot A & noshot"
   ]
  },
  {
   "cell_type": "code",
   "execution_count": 4,
   "metadata": {},
   "outputs": [],
   "source": [
    "keys_move_to_press = [leftarrow, rightarrow, uparrow, downarrow, stay]\n",
    "keys_move_name = ['left', 'right', 'up', 'down', 'stay']\n",
    "\n",
    "keys_shot_to_press = [A, noshot]\n",
    "keys_shot_name = ['A', 'noshot']\n",
    "\n",
    "num_move_actions = len(keys_move_to_press)\n",
    "num_shot_actions = len(keys_shot_to_press)"
   ]
  },
  {
   "cell_type": "markdown",
   "metadata": {},
   "source": [
    "### use shot A & B"
   ]
  },
  {
   "cell_type": "markdown",
   "metadata": {},
   "source": [
    "A = 0x1E\n",
    "B = 0x30\n",
    "leftarrow = 0xcb\n",
    "rightarrow = 0xcd\n",
    "uparrow = 0xc8\n",
    "downarrow = 0xd0\n",
    "\n",
    "keys_move_to_press = [leftarrow, rightarrow, uparrow, downarrow, stay]\n",
    "keys_move_name = ['left', 'right', 'up', 'down', 'stay']\n",
    "\n",
    "\n",
    "\n",
    "num_move_actions = len(keys_move_to_press)\n",
    "num_shot_actions = len(keys_shot_to_press)"
   ]
  },
  {
   "cell_type": "markdown",
   "metadata": {},
   "source": [
    "# functions"
   ]
  },
  {
   "cell_type": "code",
   "execution_count": 5,
   "metadata": {},
   "outputs": [],
   "source": [
    "def imshow(img):\n",
    "    cv2.imshow('window',img)\n",
    "    cv2.waitKey(0)\n",
    "    cv2.destroyAllWindows()"
   ]
  },
  {
   "cell_type": "markdown",
   "metadata": {},
   "source": [
    "## reward"
   ]
  },
  {
   "cell_type": "markdown",
   "metadata": {},
   "source": [
    "### スコア取得"
   ]
  },
  {
   "cell_type": "code",
   "execution_count": 6,
   "metadata": {},
   "outputs": [],
   "source": [
    "# window_move_resize\n",
    "left = 1010\n",
    "top = 32\n",
    "width = 182\n",
    "height = 140"
   ]
  },
  {
   "cell_type": "code",
   "execution_count": 7,
   "metadata": {},
   "outputs": [],
   "source": [
    "ratio_xr1 = 0.823\n",
    "ratio_xr2 = 0.936\n",
    "ratio_yr1 = 0.798\n",
    "ratio_yr2 = 0.89"
   ]
  },
  {
   "cell_type": "code",
   "execution_count": 8,
   "metadata": {},
   "outputs": [],
   "source": [
    "# lower left\n",
    "xll_1 = 135 / width\n",
    "xll_2 = 225 / width\n",
    "yll_1 = 430 / height\n",
    "yll_2 = 490 / height\n",
    "\n",
    "# lower right\n",
    "xlr_1 = 575 / width\n",
    "xlr_2 = 665 / width\n",
    "ylr_1 = 430 / height\n",
    "ylr_2 = 490 / height\n",
    "\n",
    "# upper left\n",
    "xul_1 = 135 / width\n",
    "xul_2 = 225 / width\n",
    "yul_1 = 40 / height\n",
    "yul_2 = 100 / height\n",
    "\n",
    "# upper right\n",
    "xur_1 = 575 / width\n",
    "xur_2 = 665 / width\n",
    "yur_1 = 40 / height\n",
    "yur_2 = 100 / height"
   ]
  },
  {
   "cell_type": "code",
   "execution_count": 10,
   "metadata": {},
   "outputs": [],
   "source": [
    "pos_ratio_list = [xll_1,xll_2,yll_1,yll_2,xlr_1,xlr_2,ylr_1,ylr_2,xul_1,xul_2,yul_1,yul_2,xur_1,xur_2,yur_1,yur_2]"
   ]
  },
  {
   "cell_type": "code",
   "execution_count": 11,
   "metadata": {},
   "outputs": [],
   "source": [
    "pos_list = [xll_1 * width,xll_2 * width,yll_1 * height,yll_2 * height,\n",
    "            xlr_1 * width,xlr_2 * width,ylr_1 * height,ylr_2 * height,\n",
    "            xul_1 * width,xul_2 * width,yul_1 * height,yul_2 * height,\n",
    "            xur_1 * width,xur_2 * width,yur_1 * height,yur_2 * height]\n",
    "\n",
    "pos_list = list(np.array(pos_list).astype(int))"
   ]
  },
  {
   "cell_type": "code",
   "execution_count": 12,
   "metadata": {},
   "outputs": [],
   "source": [
    "smaller = 0.9\n",
    "larger = 1.1"
   ]
  },
  {
   "cell_type": "code",
   "execution_count": 13,
   "metadata": {},
   "outputs": [],
   "source": [
    "size_delta = 5"
   ]
  },
  {
   "cell_type": "code",
   "execution_count": 14,
   "metadata": {},
   "outputs": [],
   "source": [
    "pos_list = [xll_1 * width - size_delta,xll_2 * width + size_delta, yll_1 * height - size_delta,yll_2 * height + size_delta,\n",
    "            xlr_1 * width - size_delta,xlr_2 * width + size_delta, ylr_1 * height - size_delta,ylr_2 * height + size_delta,\n",
    "            xul_1 * width - size_delta,xul_2 * width + size_delta, yul_1 * height - size_delta,yul_2 * height + size_delta,\n",
    "            xur_1 * width - size_delta,xur_2 * width + size_delta, yur_1 * height - size_delta,yur_2 * height + size_delta]\n",
    "\n",
    "pos_list = list(np.array(pos_list).astype(int))"
   ]
  },
  {
   "cell_type": "markdown",
   "metadata": {},
   "source": [
    "# pos_list"
   ]
  },
  {
   "cell_type": "code",
   "execution_count": 29,
   "metadata": {},
   "outputs": [],
   "source": [
    "frame = grab_screen(left, top, width, height)"
   ]
  },
  {
   "cell_type": "code",
   "execution_count": 30,
   "metadata": {},
   "outputs": [],
   "source": [
    "imshow(frame)"
   ]
  },
  {
   "cell_type": "code",
   "execution_count": 31,
   "metadata": {},
   "outputs": [],
   "source": [
    "threshold = 0.7"
   ]
  },
  {
   "cell_type": "code",
   "execution_count": 32,
   "metadata": {},
   "outputs": [],
   "source": [
    "# import os\n",
    "# import cv2\n",
    "# import numpy as np\n",
    "\n",
    "score_value_list = ['0', '15', '30', '40', 'adv']\n",
    "path_to_temp = './images/resized/'\n",
    "name_temp_list = os.listdir(path_to_temp)\n",
    "threshold = 0.7\n",
    "\n",
    "img_temp_list = []\n",
    "for path in name_temp_list:\n",
    "    img = cv2.imread(path_to_temp + path)\n",
    "    img_temp_list.append(img)\n",
    "    \n",
    "def score_check(frame):\n",
    "    temp_ll = frame[pos_list[2]:pos_list[3], pos_list[0]:pos_list[1]]\n",
    "    temp_lr = frame[pos_list[6]:pos_list[7], pos_list[4]:pos_list[5]]\n",
    "    temp_ul = frame[pos_list[10]:pos_list[11], pos_list[8]:pos_list[9]]\n",
    "    temp_ur = frame[pos_list[14]:pos_list[15], pos_list[12]:pos_list[13]]\n",
    "\n",
    "    img_my_score = cv2.hconcat([temp_ll, temp_lr])\n",
    "    img_enemy_score = cv2.hconcat([temp_ul, temp_ur])\n",
    "\n",
    "    img_score_list = [img_my_score, img_enemy_score]\n",
    "\n",
    "    loc_list = []\n",
    "    for img_score_num in range(len(img_score_list)): # my and enemy\n",
    "        loc_list_buf = []\n",
    "        for img_temp_num in range(len(img_temp_list)):  # 0 ~ adv\n",
    "            result = cv2.matchTemplate(img_score_list[img_score_num], img_temp_list[img_temp_num], cv2.TM_CCOEFF_NORMED)\n",
    "\n",
    "            loc = np.where(result >= threshold)\n",
    "            loc_list_buf.append(loc)\n",
    "\n",
    "        loc_list.append(loc_list_buf)\n",
    "\n",
    "    score_extract = []\n",
    "    for loc_num in range(len(loc_list)): # my and enemy\n",
    "        my_score = np.nan\n",
    "\n",
    "        score_pos_list_buf = []\n",
    "        for num in range(len(loc_list[loc_num])): # 0~adv\n",
    "            if len(loc_list[loc_num][num][0]) > 0:\n",
    "                my_score = score_value_list[num]\n",
    "        score_extract.append(my_score)\n",
    "\n",
    "    score = (score_extract[0], score_extract[1])\n",
    "    return score"
   ]
  },
  {
   "cell_type": "code",
   "execution_count": 33,
   "metadata": {},
   "outputs": [],
   "source": [
    "imshow(img_temp_list[0])"
   ]
  },
  {
   "cell_type": "code",
   "execution_count": 34,
   "metadata": {},
   "outputs": [],
   "source": [
    "imshow(img_my_score)\n",
    "imshow(img_enemy_score)"
   ]
  },
  {
   "cell_type": "code",
   "execution_count": 36,
   "metadata": {},
   "outputs": [
    {
     "data": {
      "text/plain": [
       "('40', '40')"
      ]
     },
     "execution_count": 36,
     "metadata": {},
     "output_type": "execute_result"
    }
   ],
   "source": [
    "score_check(frame)"
   ]
  },
  {
   "cell_type": "code",
   "execution_count": null,
   "metadata": {},
   "outputs": [],
   "source": []
  },
  {
   "cell_type": "code",
   "execution_count": null,
   "metadata": {},
   "outputs": [],
   "source": []
  },
  {
   "cell_type": "code",
   "execution_count": null,
   "metadata": {},
   "outputs": [],
   "source": []
  },
  {
   "cell_type": "code",
   "execution_count": null,
   "metadata": {},
   "outputs": [],
   "source": []
  },
  {
   "cell_type": "code",
   "execution_count": null,
   "metadata": {},
   "outputs": [],
   "source": []
  },
  {
   "cell_type": "code",
   "execution_count": 295,
   "metadata": {},
   "outputs": [],
   "source": [
    "imshow(img_my_score)"
   ]
  },
  {
   "cell_type": "code",
   "execution_count": 296,
   "metadata": {},
   "outputs": [],
   "source": [
    "imshow(img_enemy_score)"
   ]
  },
  {
   "cell_type": "code",
   "execution_count": 297,
   "metadata": {},
   "outputs": [],
   "source": [
    "imshow(img_temp_list[3])"
   ]
  },
  {
   "cell_type": "code",
   "execution_count": 298,
   "metadata": {},
   "outputs": [
    {
     "data": {
      "text/plain": [
       "(25, 67)"
      ]
     },
     "execution_count": 298,
     "metadata": {},
     "output_type": "execute_result"
    }
   ],
   "source": [
    "img_my_score.shape"
   ]
  },
  {
   "cell_type": "code",
   "execution_count": 299,
   "metadata": {},
   "outputs": [
    {
     "data": {
      "text/plain": [
       "(25, 67)"
      ]
     },
     "execution_count": 299,
     "metadata": {},
     "output_type": "execute_result"
    }
   ],
   "source": [
    "img_enemy_score.shape"
   ]
  },
  {
   "cell_type": "code",
   "execution_count": null,
   "metadata": {},
   "outputs": [],
   "source": []
  },
  {
   "cell_type": "code",
   "execution_count": null,
   "metadata": {},
   "outputs": [],
   "source": []
  },
  {
   "cell_type": "code",
   "execution_count": null,
   "metadata": {},
   "outputs": [],
   "source": []
  },
  {
   "cell_type": "code",
   "execution_count": null,
   "metadata": {},
   "outputs": [],
   "source": []
  },
  {
   "cell_type": "code",
   "execution_count": 203,
   "metadata": {},
   "outputs": [
    {
     "data": {
      "text/plain": [
       "(nan, '30')"
      ]
     },
     "execution_count": 203,
     "metadata": {},
     "output_type": "execute_result"
    }
   ],
   "source": [
    "score"
   ]
  },
  {
   "cell_type": "code",
   "execution_count": null,
   "metadata": {},
   "outputs": [],
   "source": []
  },
  {
   "cell_type": "code",
   "execution_count": null,
   "metadata": {},
   "outputs": [],
   "source": []
  },
  {
   "cell_type": "code",
   "execution_count": null,
   "metadata": {},
   "outputs": [],
   "source": []
  },
  {
   "cell_type": "code",
   "execution_count": 92,
   "metadata": {},
   "outputs": [],
   "source": [
    "imshow(img_enemy_score)"
   ]
  },
  {
   "cell_type": "code",
   "execution_count": 80,
   "metadata": {},
   "outputs": [
    {
     "data": {
      "text/plain": [
       "(13, 21, 3)"
      ]
     },
     "execution_count": 80,
     "metadata": {},
     "output_type": "execute_result"
    }
   ],
   "source": [
    "img_temp_list[0].shape"
   ]
  },
  {
   "cell_type": "code",
   "execution_count": 71,
   "metadata": {},
   "outputs": [],
   "source": [
    "imshow(img_temp_list[0])"
   ]
  },
  {
   "cell_type": "code",
   "execution_count": 67,
   "metadata": {},
   "outputs": [],
   "source": [
    "imshow(img_score_list[0])"
   ]
  },
  {
   "cell_type": "code",
   "execution_count": 68,
   "metadata": {},
   "outputs": [
    {
     "ename": "error",
     "evalue": "OpenCV(3.4.5) C:\\projects\\opencv-python\\opencv\\modules\\imgproc\\src\\templmatch.cpp:1107: error: (-215:Assertion failed) (depth == CV_8U || depth == CV_32F) && type == _templ.type() && _img.dims() <= 2 in function 'cv::matchTemplate'\n",
     "output_type": "error",
     "traceback": [
      "\u001b[1;31m---------------------------------------------------------------------------\u001b[0m",
      "\u001b[1;31merror\u001b[0m                                     Traceback (most recent call last)",
      "\u001b[1;32m<ipython-input-68-6e812ef08276>\u001b[0m in \u001b[0;36m<module>\u001b[1;34m\u001b[0m\n\u001b[1;32m----> 1\u001b[1;33m \u001b[0mresult\u001b[0m \u001b[1;33m=\u001b[0m \u001b[0mcv2\u001b[0m\u001b[1;33m.\u001b[0m\u001b[0mmatchTemplate\u001b[0m\u001b[1;33m(\u001b[0m\u001b[0mimg_score_list\u001b[0m\u001b[1;33m[\u001b[0m\u001b[0mimg_score_num\u001b[0m\u001b[1;33m]\u001b[0m\u001b[1;33m,\u001b[0m \u001b[0mimg_temp_list\u001b[0m\u001b[1;33m[\u001b[0m\u001b[0mimg_temp_num\u001b[0m\u001b[1;33m]\u001b[0m\u001b[1;33m,\u001b[0m \u001b[0mcv2\u001b[0m\u001b[1;33m.\u001b[0m\u001b[0mTM_CCOEFF_NORMED\u001b[0m\u001b[1;33m)\u001b[0m\u001b[1;33m\u001b[0m\u001b[1;33m\u001b[0m\u001b[0m\n\u001b[0m",
      "\u001b[1;31merror\u001b[0m: OpenCV(3.4.5) C:\\projects\\opencv-python\\opencv\\modules\\imgproc\\src\\templmatch.cpp:1107: error: (-215:Assertion failed) (depth == CV_8U || depth == CV_32F) && type == _templ.type() && _img.dims() <= 2 in function 'cv::matchTemplate'\n"
     ]
    }
   ],
   "source": [
    "result = cv2.matchTemplate(img_score_list[img_score_num], img_temp_list[img_temp_num], cv2.TM_CCOEFF_NORMED)"
   ]
  },
  {
   "cell_type": "code",
   "execution_count": null,
   "metadata": {},
   "outputs": [],
   "source": []
  },
  {
   "cell_type": "code",
   "execution_count": null,
   "metadata": {},
   "outputs": [],
   "source": []
  },
  {
   "cell_type": "code",
   "execution_count": null,
   "metadata": {},
   "outputs": [],
   "source": []
  },
  {
   "cell_type": "code",
   "execution_count": null,
   "metadata": {},
   "outputs": [],
   "source": []
  },
  {
   "cell_type": "code",
   "execution_count": 56,
   "metadata": {},
   "outputs": [
    {
     "ename": "error",
     "evalue": "OpenCV(3.4.5) C:\\projects\\opencv-python\\opencv\\modules\\imgproc\\src\\templmatch.cpp:1107: error: (-215:Assertion failed) (depth == CV_8U || depth == CV_32F) && type == _templ.type() && _img.dims() <= 2 in function 'cv::matchTemplate'\n",
     "output_type": "error",
     "traceback": [
      "\u001b[1;31m---------------------------------------------------------------------------\u001b[0m",
      "\u001b[1;31merror\u001b[0m                                     Traceback (most recent call last)",
      "\u001b[1;32m<ipython-input-56-f28d4e326011>\u001b[0m in \u001b[0;36m<module>\u001b[1;34m\u001b[0m\n\u001b[1;32m----> 1\u001b[1;33m \u001b[0mscore_check\u001b[0m\u001b[1;33m(\u001b[0m\u001b[0mframe\u001b[0m\u001b[1;33m)\u001b[0m\u001b[1;33m\u001b[0m\u001b[1;33m\u001b[0m\u001b[0m\n\u001b[0m",
      "\u001b[1;32m<ipython-input-55-4fcef09bab5d>\u001b[0m in \u001b[0;36mscore_check\u001b[1;34m(frame)\u001b[0m\n\u001b[0;32m     27\u001b[0m         \u001b[0mloc_list_buf\u001b[0m \u001b[1;33m=\u001b[0m \u001b[1;33m[\u001b[0m\u001b[1;33m]\u001b[0m\u001b[1;33m\u001b[0m\u001b[1;33m\u001b[0m\u001b[0m\n\u001b[0;32m     28\u001b[0m         \u001b[1;32mfor\u001b[0m \u001b[0mimg_temp_num\u001b[0m \u001b[1;32min\u001b[0m \u001b[0mrange\u001b[0m\u001b[1;33m(\u001b[0m\u001b[0mlen\u001b[0m\u001b[1;33m(\u001b[0m\u001b[0mimg_temp_list\u001b[0m\u001b[1;33m)\u001b[0m\u001b[1;33m)\u001b[0m\u001b[1;33m:\u001b[0m  \u001b[1;31m# 0 ~ adv\u001b[0m\u001b[1;33m\u001b[0m\u001b[1;33m\u001b[0m\u001b[0m\n\u001b[1;32m---> 29\u001b[1;33m             \u001b[0mresult\u001b[0m \u001b[1;33m=\u001b[0m \u001b[0mcv2\u001b[0m\u001b[1;33m.\u001b[0m\u001b[0mmatchTemplate\u001b[0m\u001b[1;33m(\u001b[0m\u001b[0mimg_score_list\u001b[0m\u001b[1;33m[\u001b[0m\u001b[0mimg_score_num\u001b[0m\u001b[1;33m]\u001b[0m\u001b[1;33m,\u001b[0m \u001b[0mimg_temp_list\u001b[0m\u001b[1;33m[\u001b[0m\u001b[0mimg_temp_num\u001b[0m\u001b[1;33m]\u001b[0m\u001b[1;33m,\u001b[0m \u001b[0mcv2\u001b[0m\u001b[1;33m.\u001b[0m\u001b[0mTM_CCOEFF_NORMED\u001b[0m\u001b[1;33m)\u001b[0m\u001b[1;33m\u001b[0m\u001b[1;33m\u001b[0m\u001b[0m\n\u001b[0m\u001b[0;32m     30\u001b[0m \u001b[1;33m\u001b[0m\u001b[0m\n\u001b[0;32m     31\u001b[0m             \u001b[0mloc\u001b[0m \u001b[1;33m=\u001b[0m \u001b[0mnp\u001b[0m\u001b[1;33m.\u001b[0m\u001b[0mwhere\u001b[0m\u001b[1;33m(\u001b[0m\u001b[0mresult\u001b[0m \u001b[1;33m>=\u001b[0m \u001b[0mthreshold\u001b[0m\u001b[1;33m)\u001b[0m\u001b[1;33m\u001b[0m\u001b[1;33m\u001b[0m\u001b[0m\n",
      "\u001b[1;31merror\u001b[0m: OpenCV(3.4.5) C:\\projects\\opencv-python\\opencv\\modules\\imgproc\\src\\templmatch.cpp:1107: error: (-215:Assertion failed) (depth == CV_8U || depth == CV_32F) && type == _templ.type() && _img.dims() <= 2 in function 'cv::matchTemplate'\n"
     ]
    }
   ],
   "source": [
    "score_check(frame)"
   ]
  },
  {
   "cell_type": "markdown",
   "metadata": {},
   "source": [
    "# execute"
   ]
  },
  {
   "cell_type": "markdown",
   "metadata": {},
   "source": [
    "## スコア取得"
   ]
  },
  {
   "cell_type": "code",
   "execution_count": 10,
   "metadata": {},
   "outputs": [],
   "source": [
    "frame = grab_screen(left, top, width, height)"
   ]
  },
  {
   "cell_type": "markdown",
   "metadata": {},
   "source": [
    "imshow(frame)"
   ]
  },
  {
   "cell_type": "code",
   "execution_count": null,
   "metadata": {},
   "outputs": [],
   "source": []
  },
  {
   "cell_type": "code",
   "execution_count": 13,
   "metadata": {},
   "outputs": [
    {
     "ename": "error",
     "evalue": "OpenCV(3.4.5) C:\\projects\\opencv-python\\opencv\\modules\\imgproc\\src\\templmatch.cpp:1107: error: (-215:Assertion failed) (depth == CV_8U || depth == CV_32F) && type == _templ.type() && _img.dims() <= 2 in function 'cv::matchTemplate'\n",
     "output_type": "error",
     "traceback": [
      "\u001b[1;31m---------------------------------------------------------------------------\u001b[0m",
      "\u001b[1;31merror\u001b[0m                                     Traceback (most recent call last)",
      "\u001b[1;32m<ipython-input-13-e466ed3117eb>\u001b[0m in \u001b[0;36m<module>\u001b[1;34m\u001b[0m\n\u001b[0;32m     12\u001b[0m \u001b[1;33m\u001b[0m\u001b[0m\n\u001b[0;32m     13\u001b[0m     \u001b[1;31m# score取得\u001b[0m\u001b[1;33m\u001b[0m\u001b[1;33m\u001b[0m\u001b[1;33m\u001b[0m\u001b[0m\n\u001b[1;32m---> 14\u001b[1;33m     \u001b[0mscore\u001b[0m \u001b[1;33m=\u001b[0m \u001b[0mscore_check\u001b[0m\u001b[1;33m(\u001b[0m\u001b[0mframe\u001b[0m\u001b[1;33m)\u001b[0m\u001b[1;33m\u001b[0m\u001b[1;33m\u001b[0m\u001b[0m\n\u001b[0m\u001b[0;32m     15\u001b[0m \u001b[1;33m\u001b[0m\u001b[0m\n\u001b[0;32m     16\u001b[0m     \u001b[1;31m# スコアのため込み\u001b[0m\u001b[1;33m\u001b[0m\u001b[1;33m\u001b[0m\u001b[1;33m\u001b[0m\u001b[0m\n",
      "\u001b[1;32m<ipython-input-7-b5f911d19642>\u001b[0m in \u001b[0;36mscore_check\u001b[1;34m(frame)\u001b[0m\n\u001b[0;32m     27\u001b[0m         \u001b[0mloc_list_buf\u001b[0m \u001b[1;33m=\u001b[0m \u001b[1;33m[\u001b[0m\u001b[1;33m]\u001b[0m\u001b[1;33m\u001b[0m\u001b[1;33m\u001b[0m\u001b[0m\n\u001b[0;32m     28\u001b[0m         \u001b[1;32mfor\u001b[0m \u001b[0mimg_temp_num\u001b[0m \u001b[1;32min\u001b[0m \u001b[0mrange\u001b[0m\u001b[1;33m(\u001b[0m\u001b[0mlen\u001b[0m\u001b[1;33m(\u001b[0m\u001b[0mimg_temp_list\u001b[0m\u001b[1;33m)\u001b[0m\u001b[1;33m)\u001b[0m\u001b[1;33m:\u001b[0m  \u001b[1;31m# 0 ~ adv\u001b[0m\u001b[1;33m\u001b[0m\u001b[1;33m\u001b[0m\u001b[0m\n\u001b[1;32m---> 29\u001b[1;33m             \u001b[0mresult\u001b[0m \u001b[1;33m=\u001b[0m \u001b[0mcv2\u001b[0m\u001b[1;33m.\u001b[0m\u001b[0mmatchTemplate\u001b[0m\u001b[1;33m(\u001b[0m\u001b[0mimg_score_list\u001b[0m\u001b[1;33m[\u001b[0m\u001b[0mimg_score_num\u001b[0m\u001b[1;33m]\u001b[0m\u001b[1;33m,\u001b[0m \u001b[0mimg_temp_list\u001b[0m\u001b[1;33m[\u001b[0m\u001b[0mimg_temp_num\u001b[0m\u001b[1;33m]\u001b[0m\u001b[1;33m,\u001b[0m \u001b[0mcv2\u001b[0m\u001b[1;33m.\u001b[0m\u001b[0mTM_CCOEFF_NORMED\u001b[0m\u001b[1;33m)\u001b[0m\u001b[1;33m\u001b[0m\u001b[1;33m\u001b[0m\u001b[0m\n\u001b[0m\u001b[0;32m     30\u001b[0m \u001b[1;33m\u001b[0m\u001b[0m\n\u001b[0;32m     31\u001b[0m             \u001b[0mloc\u001b[0m \u001b[1;33m=\u001b[0m \u001b[0mnp\u001b[0m\u001b[1;33m.\u001b[0m\u001b[0mwhere\u001b[0m\u001b[1;33m(\u001b[0m\u001b[0mresult\u001b[0m \u001b[1;33m>=\u001b[0m \u001b[0mthreshold\u001b[0m\u001b[1;33m)\u001b[0m\u001b[1;33m\u001b[0m\u001b[1;33m\u001b[0m\u001b[0m\n",
      "\u001b[1;31merror\u001b[0m: OpenCV(3.4.5) C:\\projects\\opencv-python\\opencv\\modules\\imgproc\\src\\templmatch.cpp:1107: error: (-215:Assertion failed) (depth == CV_8U || depth == CV_32F) && type == _templ.type() && _img.dims() <= 2 in function 'cv::matchTemplate'\n"
     ]
    }
   ],
   "source": [
    "# active game window\n",
    "\n",
    "\n",
    "last_score = np.nan\n",
    "score = np.nan\n",
    "\n",
    "score_list = []\n",
    "reward_list = []\n",
    "while True:\n",
    "    # frame取得\n",
    "    frame = grab_screen(left, top, width, height)\n",
    "\n",
    "    # score取得\n",
    "    score = score_check(frame)\n",
    "\n",
    "    # スコアのため込み\n",
    "    if (score != last_score) & (np.nan not in score):\n",
    "        print(score)\n",
    "        score_list.append(score)\n",
    "\n",
    "#             sys.stdout.write(str(score))\n",
    "#             sys.stdout.write('                            ')\n",
    "#             sys.stdout.write('\\r')\n",
    "\n",
    "        # (0,0)で報酬清算\n",
    "        if (score == init_flag) & (len(score_list) > 1):\n",
    "            reward = score_reward_dict[last_score[0]] - score_reward_dict[last_score[1]]\n",
    "#                 sys.stdout.write('reward: ' + str(reward))\n",
    "#                 sys.stdout.write('                            ')\n",
    "#                 sys.stdout.write('\\r')\n",
    "\n",
    "            reward_list.append(reward)\n",
    "            print(reward)\n",
    "\n",
    "            #return reward\n",
    "\n",
    "        last_score = copy.copy(score)"
   ]
  },
  {
   "cell_type": "code",
   "execution_count": null,
   "metadata": {},
   "outputs": [],
   "source": []
  },
  {
   "cell_type": "code",
   "execution_count": null,
   "metadata": {},
   "outputs": [],
   "source": []
  },
  {
   "cell_type": "code",
   "execution_count": null,
   "metadata": {},
   "outputs": [],
   "source": []
  },
  {
   "cell_type": "code",
   "execution_count": null,
   "metadata": {},
   "outputs": [],
   "source": []
  },
  {
   "cell_type": "code",
   "execution_count": null,
   "metadata": {},
   "outputs": [],
   "source": []
  },
  {
   "cell_type": "code",
   "execution_count": 11,
   "metadata": {},
   "outputs": [],
   "source": [
    "# active game window\n",
    "active_window()\n",
    "last_score = np.nan\n",
    "score = np.nan\n",
    "\n",
    "score_list = []\n",
    "reward_list = []\n",
    "\n",
    "def score2reward():\n",
    "    active_window()\n",
    "    last_score = np.nan\n",
    "    score = np.nan\n",
    "\n",
    "    score_list = []\n",
    "    reward_list = []\n",
    "    while True:\n",
    "        # frame取得\n",
    "        frame = grab_screen()\n",
    "\n",
    "        # score取得\n",
    "        score = score_check(frame)\n",
    "\n",
    "        # スコアのため込み\n",
    "        if (score != last_score) & (np.nan not in score):\n",
    "            print(score)\n",
    "            score_list.append(score)\n",
    "\n",
    "#             sys.stdout.write(str(score))\n",
    "#             sys.stdout.write('                            ')\n",
    "#             sys.stdout.write('\\r')\n",
    "\n",
    "            # (0,0)で報酬清算\n",
    "            if (score == init_flag) & (len(score_list) > 1):\n",
    "                reward = score_reward_dict[last_score[0]] - score_reward_dict[last_score[1]]\n",
    "#                 sys.stdout.write('reward: ' + str(reward))\n",
    "#                 sys.stdout.write('                            ')\n",
    "#                 sys.stdout.write('\\r')\n",
    "\n",
    "                reward_list.append(reward)\n",
    "                print(reward)\n",
    "\n",
    "                #return reward\n",
    "\n",
    "            last_score = copy.copy(score)"
   ]
  },
  {
   "cell_type": "code",
   "execution_count": 10,
   "metadata": {},
   "outputs": [
    {
     "name": "stdout",
     "output_type": "stream",
     "text": [
      "('15', '0')\n",
      "('15', '15')\n",
      "('15', '40')\n",
      "('0', '0')\n",
      "-2\n",
      "('0', '15')\n",
      "('0', '30')\n",
      "('0', '40')\n",
      "('0', '0')\n",
      "-3\n",
      "('0', '15')\n",
      "('0', '40')\n",
      "('0', '0')\n",
      "-3\n",
      "('0', '15')\n",
      "('0', '30')\n",
      "('0', '40')\n",
      "('0', '15')\n",
      "('0', '30')\n"
     ]
    },
    {
     "ename": "KeyboardInterrupt",
     "evalue": "",
     "output_type": "error",
     "traceback": [
      "\u001b[1;31m---------------------------------------------------------------------------\u001b[0m",
      "\u001b[1;31mKeyboardInterrupt\u001b[0m                         Traceback (most recent call last)",
      "\u001b[1;32m<ipython-input-10-89abfc097469>\u001b[0m in \u001b[0;36m<module>\u001b[1;34m\u001b[0m\n\u001b[1;32m----> 1\u001b[1;33m \u001b[0mscore2reward\u001b[0m\u001b[1;33m(\u001b[0m\u001b[1;33m)\u001b[0m\u001b[1;33m\u001b[0m\u001b[1;33m\u001b[0m\u001b[0m\n\u001b[0m",
      "\u001b[1;32m<ipython-input-9-34207b3cc137>\u001b[0m in \u001b[0;36mscore2reward\u001b[1;34m()\u001b[0m\n\u001b[0;32m     19\u001b[0m \u001b[1;33m\u001b[0m\u001b[0m\n\u001b[0;32m     20\u001b[0m         \u001b[1;31m# score取得\u001b[0m\u001b[1;33m\u001b[0m\u001b[1;33m\u001b[0m\u001b[1;33m\u001b[0m\u001b[0m\n\u001b[1;32m---> 21\u001b[1;33m         \u001b[0mscore\u001b[0m \u001b[1;33m=\u001b[0m \u001b[0mscore_check\u001b[0m\u001b[1;33m(\u001b[0m\u001b[0mframe\u001b[0m\u001b[1;33m)\u001b[0m\u001b[1;33m\u001b[0m\u001b[1;33m\u001b[0m\u001b[0m\n\u001b[0m\u001b[0;32m     22\u001b[0m \u001b[1;33m\u001b[0m\u001b[0m\n\u001b[0;32m     23\u001b[0m         \u001b[1;31m# スコアのため込み\u001b[0m\u001b[1;33m\u001b[0m\u001b[1;33m\u001b[0m\u001b[1;33m\u001b[0m\u001b[0m\n",
      "\u001b[1;32m<ipython-input-7-fcbfa77c5cc5>\u001b[0m in \u001b[0;36mscore_check\u001b[1;34m(frame)\u001b[0m\n\u001b[0;32m     27\u001b[0m         \u001b[0mloc_list_buf\u001b[0m \u001b[1;33m=\u001b[0m \u001b[1;33m[\u001b[0m\u001b[1;33m]\u001b[0m\u001b[1;33m\u001b[0m\u001b[1;33m\u001b[0m\u001b[0m\n\u001b[0;32m     28\u001b[0m         \u001b[1;32mfor\u001b[0m \u001b[0mimg_temp_num\u001b[0m \u001b[1;32min\u001b[0m \u001b[0mrange\u001b[0m\u001b[1;33m(\u001b[0m\u001b[0mlen\u001b[0m\u001b[1;33m(\u001b[0m\u001b[0mimg_temp_list\u001b[0m\u001b[1;33m)\u001b[0m\u001b[1;33m)\u001b[0m\u001b[1;33m:\u001b[0m  \u001b[1;31m# 0 ~ adv\u001b[0m\u001b[1;33m\u001b[0m\u001b[1;33m\u001b[0m\u001b[0m\n\u001b[1;32m---> 29\u001b[1;33m             \u001b[0mresult\u001b[0m \u001b[1;33m=\u001b[0m \u001b[0mcv2\u001b[0m\u001b[1;33m.\u001b[0m\u001b[0mmatchTemplate\u001b[0m\u001b[1;33m(\u001b[0m\u001b[0mimg_score_list\u001b[0m\u001b[1;33m[\u001b[0m\u001b[0mimg_score_num\u001b[0m\u001b[1;33m]\u001b[0m\u001b[1;33m,\u001b[0m \u001b[0mimg_temp_list\u001b[0m\u001b[1;33m[\u001b[0m\u001b[0mimg_temp_num\u001b[0m\u001b[1;33m]\u001b[0m\u001b[1;33m,\u001b[0m \u001b[0mcv2\u001b[0m\u001b[1;33m.\u001b[0m\u001b[0mTM_CCOEFF_NORMED\u001b[0m\u001b[1;33m)\u001b[0m\u001b[1;33m\u001b[0m\u001b[1;33m\u001b[0m\u001b[0m\n\u001b[0m\u001b[0;32m     30\u001b[0m \u001b[1;33m\u001b[0m\u001b[0m\n\u001b[0;32m     31\u001b[0m             \u001b[0mloc\u001b[0m \u001b[1;33m=\u001b[0m \u001b[0mnp\u001b[0m\u001b[1;33m.\u001b[0m\u001b[0mwhere\u001b[0m\u001b[1;33m(\u001b[0m\u001b[0mresult\u001b[0m \u001b[1;33m>=\u001b[0m \u001b[0mthreshold\u001b[0m\u001b[1;33m)\u001b[0m\u001b[1;33m\u001b[0m\u001b[1;33m\u001b[0m\u001b[0m\n",
      "\u001b[1;31mKeyboardInterrupt\u001b[0m: "
     ]
    }
   ],
   "source": [
    "score2reward()"
   ]
  },
  {
   "cell_type": "code",
   "execution_count": null,
   "metadata": {},
   "outputs": [],
   "source": []
  },
  {
   "cell_type": "code",
   "execution_count": null,
   "metadata": {},
   "outputs": [],
   "source": []
  },
  {
   "cell_type": "code",
   "execution_count": null,
   "metadata": {},
   "outputs": [],
   "source": []
  },
  {
   "cell_type": "code",
   "execution_count": null,
   "metadata": {},
   "outputs": [],
   "source": []
  },
  {
   "cell_type": "code",
   "execution_count": null,
   "metadata": {},
   "outputs": [],
   "source": []
  },
  {
   "cell_type": "code",
   "execution_count": null,
   "metadata": {},
   "outputs": [],
   "source": []
  },
  {
   "cell_type": "code",
   "execution_count": null,
   "metadata": {},
   "outputs": [],
   "source": []
  },
  {
   "cell_type": "code",
   "execution_count": null,
   "metadata": {},
   "outputs": [],
   "source": []
  },
  {
   "cell_type": "markdown",
   "metadata": {},
   "source": [
    "## 行動とスコア"
   ]
  },
  {
   "cell_type": "markdown",
   "metadata": {
    "scrolled": false
   },
   "source": [
    "#active game window\n",
    "active_window()\n",
    "last_score = (np.nan, np.nan)\n",
    "score = (np.nan, np.nan)\n",
    "\n",
    "score_list = []\n",
    "\n",
    "while True:\n",
    "    # frame取得\n",
    "    frame = grab_screen()\n",
    "\n",
    "    # score取得\n",
    "    score = score_check(frame)\n",
    "\n",
    "    # 行動決定\n",
    "    action_move = int(np.random.randint(0, num_move_actions, size=1))\n",
    "    action_shot = int(np.random.randint(0, num_shot_actions, size=1))\n",
    "    \n",
    "    # ボタン選択\n",
    "    PressKey(keys_move_to_press[action_move])\n",
    "    PressKey(keys_shot_to_press[action_shot])\n",
    "\n",
    "    time.sleep(0.3)\n",
    "\n",
    "    ReleaseKey(keys_move_to_press[action_move])\n",
    "    ReleaseKey(keys_shot_to_press[action_shot])\n",
    "\n",
    "    # 表示        \n",
    "    sys.stdout.write(keys_move_name[action_move]  + ' + ')\n",
    "    sys.stdout.write(keys_shot_name[action_shot] + ' ')\n",
    "    sys.stdout.write('                            ')\n",
    "    sys.stdout.write('\\r')\n",
    "    \n",
    "    # スコアのため込み\n",
    "    if (score != last_score) & (np.nan not in score):\n",
    "        score_list.append(score)\n",
    "        \n",
    "        sys.stdout.write(str(score))\n",
    "        sys.stdout.write('                            ')\n",
    "        sys.stdout.write('\\r')\n",
    "        \n",
    "        last_score = copy.copy(score)"
   ]
  },
  {
   "cell_type": "code",
   "execution_count": 11,
   "metadata": {},
   "outputs": [],
   "source": [
    "import time\n",
    "import threading"
   ]
  },
  {
   "cell_type": "code",
   "execution_count": 18,
   "metadata": {},
   "outputs": [],
   "source": [
    "def func1():\n",
    "    while True:\n",
    "        print(\"func1\")\n",
    "        time.sleep(1)\n",
    "\n",
    "\n",
    "def func2():\n",
    "    while True:\n",
    "        print(\"func2\")\n",
    "        time.sleep(1)"
   ]
  },
  {
   "cell_type": "code",
   "execution_count": 22,
   "metadata": {},
   "outputs": [
    {
     "name": "stdout",
     "output_type": "stream",
     "text": [
      "('0', '0')\n"
     ]
    }
   ],
   "source": [
    "if __name__ == \"__main__\":\n",
    "    thread_1 = threading.Thread(target=score2reward)\n",
    "    # thread_2 = threading.Thread(target=func2)\n",
    "\n",
    "    thread_1.start()\n",
    "    # thread_2.start()"
   ]
  },
  {
   "cell_type": "code",
   "execution_count": 23,
   "metadata": {},
   "outputs": [
    {
     "data": {
      "text/plain": [
       "<Thread(Thread-7, started 19996)>"
      ]
     },
     "execution_count": 23,
     "metadata": {},
     "output_type": "execute_result"
    }
   ],
   "source": [
    "thread_1"
   ]
  },
  {
   "cell_type": "code",
   "execution_count": 25,
   "metadata": {},
   "outputs": [
    {
     "data": {
      "text/plain": [
       "<Synchronized wrapper for c_long(1)>"
      ]
     },
     "execution_count": 25,
     "metadata": {},
     "output_type": "execute_result"
    }
   ],
   "source": [
    "x"
   ]
  },
  {
   "cell_type": "code",
   "execution_count": 24,
   "metadata": {},
   "outputs": [
    {
     "name": "stdout",
     "output_type": "stream",
     "text": [
      "0\n",
      "1\n"
     ]
    }
   ],
   "source": [
    "from multiprocessing import Value\n",
    "\n",
    "x = Value('i')\n",
    "print(x.value)\n",
    "with x.get_lock():\n",
    "    x.value += 1\n",
    "print(x.value)"
   ]
  },
  {
   "cell_type": "code",
   "execution_count": 28,
   "metadata": {},
   "outputs": [
    {
     "data": {
      "text/plain": [
       "[]"
      ]
     },
     "execution_count": 28,
     "metadata": {},
     "output_type": "execute_result"
    },
    {
     "name": "stderr",
     "output_type": "stream",
     "text": [
      "Exception in thread Thread-7:\n",
      "Traceback (most recent call last):\n",
      "  File \"C:\\Users\\Yuya\\Anaconda3\\envs\\RL_pytorch_01\\lib\\threading.py\", line 916, in _bootstrap_inner\n",
      "    self.run()\n",
      "  File \"C:\\Users\\Yuya\\Anaconda3\\envs\\RL_pytorch_01\\lib\\threading.py\", line 864, in run\n",
      "    self._target(*self._args, **self._kwargs)\n",
      "  File \"<ipython-input-10-34207b3cc137>\", line 18, in score2reward\n",
      "    frame = grab_screen()\n",
      "  File \"E:\\OneDrive\\RL\\00_DeepGamingAI_Tennis\\grabscreen.py\", line 15, in grab_screen\n",
      "    img = ImageGrab.grab(bbox=(left, top, left + width, top + height))\n",
      "  File \"C:\\Users\\Yuya\\Anaconda3\\envs\\RL_pytorch_01\\lib\\site-packages\\PIL\\ImageGrab.py\", line 41, in grab\n",
      "    size, data = grabber()\n",
      "OSError: screen grab failed\n",
      "\n",
      "Exception in thread Thread-6:\n",
      "Traceback (most recent call last):\n",
      "  File \"C:\\Users\\Yuya\\Anaconda3\\envs\\RL_pytorch_01\\lib\\threading.py\", line 916, in _bootstrap_inner\n",
      "    self.run()\n",
      "  File \"C:\\Users\\Yuya\\Anaconda3\\envs\\RL_pytorch_01\\lib\\threading.py\", line 864, in run\n",
      "    self._target(*self._args, **self._kwargs)\n",
      "  File \"<ipython-input-10-34207b3cc137>\", line 18, in score2reward\n",
      "    frame = grab_screen()\n",
      "  File \"E:\\OneDrive\\RL\\00_DeepGamingAI_Tennis\\grabscreen.py\", line 15, in grab_screen\n",
      "    img = ImageGrab.grab(bbox=(left, top, left + width, top + height))\n",
      "  File \"C:\\Users\\Yuya\\Anaconda3\\envs\\RL_pytorch_01\\lib\\site-packages\\PIL\\ImageGrab.py\", line 41, in grab\n",
      "    size, data = grabber()\n",
      "OSError: screen grab failed\n",
      "\n"
     ]
    }
   ],
   "source": [
    "reward_list"
   ]
  },
  {
   "cell_type": "code",
   "execution_count": null,
   "metadata": {},
   "outputs": [],
   "source": []
  },
  {
   "cell_type": "code",
   "execution_count": 20,
   "metadata": {},
   "outputs": [
    {
     "name": "stdout",
     "output_type": "stream",
     "text": [
      "0\n",
      "1\n"
     ]
    }
   ],
   "source": [
    "from multiprocessing import Value\n",
    "\n",
    "x = Value('i')\n",
    "print(x.value)\n",
    "with x.get_lock():\n",
    "    x.value += 1\n",
    "print(x.value)"
   ]
  },
  {
   "cell_type": "code",
   "execution_count": null,
   "metadata": {},
   "outputs": [],
   "source": []
  },
  {
   "cell_type": "code",
   "execution_count": null,
   "metadata": {},
   "outputs": [],
   "source": []
  },
  {
   "cell_type": "code",
   "execution_count": null,
   "metadata": {},
   "outputs": [],
   "source": []
  },
  {
   "cell_type": "code",
   "execution_count": null,
   "metadata": {},
   "outputs": [],
   "source": []
  },
  {
   "cell_type": "code",
   "execution_count": 11,
   "metadata": {},
   "outputs": [],
   "source": [
    "import time\n",
    "import concurrent.futures"
   ]
  },
  {
   "cell_type": "code",
   "execution_count": 12,
   "metadata": {},
   "outputs": [],
   "source": [
    "if __name__ == \"__main__\":\n",
    "    executor = concurrent.futures.ThreadPoolExecutor(max_workers=1)\n",
    "    executor.submit(score2reward)\n",
    "    #executor.submit(func2)"
   ]
  },
  {
   "cell_type": "code",
   "execution_count": null,
   "metadata": {},
   "outputs": [],
   "source": []
  },
  {
   "cell_type": "code",
   "execution_count": 2,
   "metadata": {},
   "outputs": [],
   "source": [
    "from multiprocessing import Pool\n",
    "import multiprocessing as multi\n",
    "\n",
    "p = Pool(multi.cpu_count())"
   ]
  },
  {
   "cell_type": "code",
   "execution_count": 17,
   "metadata": {},
   "outputs": [],
   "source": [
    "def process(i):\n",
    "    return [{'id': j, 'sum': sum(range(i*j))} for j in range(100)]"
   ]
  },
  {
   "cell_type": "code",
   "execution_count": 3,
   "metadata": {},
   "outputs": [
    {
     "data": {
      "text/plain": [
       "4"
      ]
     },
     "execution_count": 3,
     "metadata": {},
     "output_type": "execute_result"
    }
   ],
   "source": [
    "multi.cpu_count()"
   ]
  },
  {
   "cell_type": "code",
   "execution_count": 4,
   "metadata": {},
   "outputs": [],
   "source": [
    "def test():\n",
    "    print('a')"
   ]
  },
  {
   "cell_type": "code",
   "execution_count": null,
   "metadata": {},
   "outputs": [],
   "source": [
    "p.map(test, list(range(10)))\n",
    "p.close()"
   ]
  },
  {
   "cell_type": "code",
   "execution_count": null,
   "metadata": {},
   "outputs": [],
   "source": []
  },
  {
   "cell_type": "code",
   "execution_count": 18,
   "metadata": {},
   "outputs": [
    {
     "name": "stdout",
     "output_type": "stream",
     "text": [
      "func1\n",
      "func2\n",
      "func1\n",
      "func2\n",
      "func1\n",
      "func2\n",
      "func1\n",
      "func2\n",
      "func1\n",
      "func2\n"
     ]
    }
   ],
   "source": [
    "import time\n",
    "import concurrent.futures\n",
    "\n",
    "\n",
    "def func1():\n",
    "    while True:\n",
    "        print(\"func1\")\n",
    "        time.sleep(1)\n",
    "\n",
    "\n",
    "def func2():\n",
    "    while True:\n",
    "        print(\"func2\")\n",
    "        time.sleep(1)\n",
    "\n",
    "\n",
    "if __name__ == \"__main__\":\n",
    "    executor = concurrent.futures.ThreadPoolExecutor(max_workers=2)\n",
    "    executor.submit(func1)\n",
    "    executor.submit(func2)"
   ]
  },
  {
   "cell_type": "code",
   "execution_count": null,
   "metadata": {},
   "outputs": [],
   "source": []
  },
  {
   "cell_type": "code",
   "execution_count": null,
   "metadata": {},
   "outputs": [],
   "source": []
  },
  {
   "cell_type": "code",
   "execution_count": null,
   "metadata": {},
   "outputs": [],
   "source": []
  }
 ],
 "metadata": {
  "kernelspec": {
   "display_name": "Python 3",
   "language": "python",
   "name": "python3"
  },
  "language_info": {
   "codemirror_mode": {
    "name": "ipython",
    "version": 3
   },
   "file_extension": ".py",
   "mimetype": "text/x-python",
   "name": "python",
   "nbconvert_exporter": "python",
   "pygments_lexer": "ipython3",
   "version": "3.6.8"
  },
  "toc": {
   "base_numbering": 1,
   "nav_menu": {},
   "number_sections": true,
   "sideBar": true,
   "skip_h1_title": false,
   "title_cell": "Table of Contents",
   "title_sidebar": "Contents",
   "toc_cell": true,
   "toc_position": {
    "height": "calc(100% - 180px)",
    "left": "10px",
    "top": "150px",
    "width": "165px"
   },
   "toc_section_display": true,
   "toc_window_display": true
  }
 },
 "nbformat": 4,
 "nbformat_minor": 2
}
