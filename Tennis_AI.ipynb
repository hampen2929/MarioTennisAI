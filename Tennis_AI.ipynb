{
 "cells": [
  {
   "cell_type": "markdown",
   "metadata": {
    "toc": true
   },
   "source": [
    "<h1>Table of Contents<span class=\"tocSkip\"></span></h1>\n",
    "<div class=\"toc\"><ul class=\"toc-item\"><li><span><a href=\"#コメント\" data-toc-modified-id=\"コメント-1\"><span class=\"toc-item-num\">1&nbsp;&nbsp;</span>コメント</a></span></li><li><span><a href=\"#import\" data-toc-modified-id=\"import-2\"><span class=\"toc-item-num\">2&nbsp;&nbsp;</span>import</a></span></li><li><span><a href=\"#ゲームの位置とサイズ調整\" data-toc-modified-id=\"ゲームの位置とサイズ調整-3\"><span class=\"toc-item-num\">3&nbsp;&nbsp;</span>ゲームの位置とサイズ調整</a></span></li><li><span><a href=\"#DQN\" data-toc-modified-id=\"DQN-4\"><span class=\"toc-item-num\">4&nbsp;&nbsp;</span>DQN</a></span><ul class=\"toc-item\"><li><span><a href=\"#import\" data-toc-modified-id=\"import-4.1\"><span class=\"toc-item-num\">4.1&nbsp;&nbsp;</span>import</a></span></li><li><span><a href=\"#GPU判定\" data-toc-modified-id=\"GPU判定-4.2\"><span class=\"toc-item-num\">4.2&nbsp;&nbsp;</span>GPU判定</a></span></li><li><span><a href=\"#パラメータ\" data-toc-modified-id=\"パラメータ-4.3\"><span class=\"toc-item-num\">4.3&nbsp;&nbsp;</span>パラメータ</a></span></li><li><span><a href=\"#関数\" data-toc-modified-id=\"関数-4.4\"><span class=\"toc-item-num\">4.4&nbsp;&nbsp;</span>関数</a></span></li></ul></li><li><span><a href=\"#スコア取得\" data-toc-modified-id=\"スコア取得-5\"><span class=\"toc-item-num\">5&nbsp;&nbsp;</span>スコア取得</a></span><ul class=\"toc-item\"><li><span><a href=\"#スコア位置\" data-toc-modified-id=\"スコア位置-5.1\"><span class=\"toc-item-num\">5.1&nbsp;&nbsp;</span>スコア位置</a></span></li></ul></li><li><span><a href=\"#学習\" data-toc-modified-id=\"学習-6\"><span class=\"toc-item-num\">6&nbsp;&nbsp;</span>学習</a></span></li><li><span><a href=\"#モデル保存\" data-toc-modified-id=\"モデル保存-7\"><span class=\"toc-item-num\">7&nbsp;&nbsp;</span>モデル保存</a></span></li></ul></div>"
   ]
  },
  {
   "cell_type": "markdown",
   "metadata": {},
   "source": [
    "# コメント"
   ]
  },
  {
   "cell_type": "markdown",
   "metadata": {},
   "source": [
    "- 報酬を-1, 0, 1に変更"
   ]
  },
  {
   "cell_type": "markdown",
   "metadata": {},
   "source": [
    "# import"
   ]
  },
  {
   "cell_type": "code",
   "execution_count": 1,
   "metadata": {},
   "outputs": [],
   "source": [
    "import numpy as np\n",
    "import cv2\n",
    "from Tennis_observation import *\n",
    "from Tennis_action import *\n",
    "from window_controlle import *\n",
    "import re\n",
    "import sys\n",
    "import copy\n",
    "import os\n",
    "import random\n",
    "import matplotlib.pyplot as plt"
   ]
  },
  {
   "cell_type": "code",
   "execution_count": 2,
   "metadata": {},
   "outputs": [],
   "source": [
    "import threading\n",
    "import subprocess\n",
    "import time\n",
    "from win32 import win32gui"
   ]
  },
  {
   "cell_type": "markdown",
   "metadata": {},
   "source": [
    "# ゲームの位置とサイズ調整"
   ]
  },
  {
   "cell_type": "code",
   "execution_count": 3,
   "metadata": {},
   "outputs": [],
   "source": [
    "# window_quarter_move_resize\n",
    "win_left = 953\n",
    "win_top = 0\n",
    "win_width = 974\n",
    "win_height = 587"
   ]
  },
  {
   "cell_type": "markdown",
   "metadata": {},
   "source": [
    "#window_move_resize\n",
    "win_left = 1000\n",
    "win_top = 0\n",
    "win_width = 200\n",
    "win_height = 180"
   ]
  },
  {
   "cell_type": "code",
   "execution_count": 4,
   "metadata": {},
   "outputs": [],
   "source": [
    "#grab_screen\n",
    "left = 1087\n",
    "top = 30\n",
    "width = 705\n",
    "height = 545"
   ]
  },
  {
   "cell_type": "code",
   "execution_count": 5,
   "metadata": {},
   "outputs": [],
   "source": [
    "#cnn\n",
    "width_cnn = 84\n",
    "height_cnn = 84"
   ]
  },
  {
   "cell_type": "code",
   "execution_count": 6,
   "metadata": {},
   "outputs": [],
   "source": [
    "gray_frag = True"
   ]
  },
  {
   "cell_type": "code",
   "execution_count": 7,
   "metadata": {},
   "outputs": [],
   "source": [
    "adjust_window_pos_size(win_left, win_top, win_width, win_height)"
   ]
  },
  {
   "cell_type": "code",
   "execution_count": 42,
   "metadata": {},
   "outputs": [],
   "source": [
    "frame = grab_screen(left, top, width, height, False)"
   ]
  },
  {
   "cell_type": "markdown",
   "metadata": {},
   "source": [
    "# DQN"
   ]
  },
  {
   "cell_type": "markdown",
   "metadata": {},
   "source": [
    "## import "
   ]
  },
  {
   "cell_type": "code",
   "execution_count": 9,
   "metadata": {},
   "outputs": [],
   "source": [
    "import torch\n",
    "import torch.nn as nn\n",
    "import torch.optim as optim\n",
    "import math"
   ]
  },
  {
   "cell_type": "markdown",
   "metadata": {},
   "source": [
    "## GPU判定"
   ]
  },
  {
   "cell_type": "code",
   "execution_count": 10,
   "metadata": {},
   "outputs": [],
   "source": [
    "use_cuda = torch.cuda.is_available()\n",
    "\n",
    "device = torch.device(\"cuda:0\" if use_cuda else \"cpu\")\n",
    "Tensor = torch.Tensor\n",
    "LongTensor = torch.LongTensor\n",
    "\n",
    "seed_value = 23\n",
    "torch.manual_seed(seed_value)\n",
    "random.seed(seed_value)"
   ]
  },
  {
   "cell_type": "markdown",
   "metadata": {},
   "source": [
    "## パラメータ"
   ]
  },
  {
   "cell_type": "code",
   "execution_count": 11,
   "metadata": {},
   "outputs": [],
   "source": [
    "learning_rate = 0.0001\n",
    "num_episodes = 500\n",
    "gamma = 0.99\n",
    "\n",
    "hidden_layer = 512\n",
    "\n",
    "replay_mem_size = 100000\n",
    "batch_size = 32\n",
    "\n",
    "update_target_frequency = 5000\n",
    "\n",
    "double_dqn = True\n",
    "\n",
    "egreedy = 0.9\n",
    "egreedy_final = 0.01\n",
    "egreedy_decay = 10000\n",
    "\n",
    "report_interval = 10\n",
    "score_to_solve = 18\n",
    "\n",
    "clip_error = True\n",
    "normalize_image = True\n",
    "\n",
    "file2save = './model/tennis_save.pth'\n",
    "save_model_frequency = 10000\n",
    "resume_previous_training = False"
   ]
  },
  {
   "cell_type": "code",
   "execution_count": 12,
   "metadata": {},
   "outputs": [],
   "source": [
    "position = 0\n",
    "capacity = 4"
   ]
  },
  {
   "cell_type": "code",
   "execution_count": 13,
   "metadata": {},
   "outputs": [],
   "source": [
    "output_list = ['state', 'action', 'new_state', 'reward', 'done', 'info']\n",
    "\n",
    "number_of_inputs = frame.shape[0]\n",
    "number_of_outputs = len(keys_to_press)\n",
    "number_of_skips = 10"
   ]
  },
  {
   "cell_type": "code",
   "execution_count": 35,
   "metadata": {},
   "outputs": [],
   "source": [
    "# reward\n",
    "init_flag = ('0.0','0.0')\n",
    "score_reward_dict = {'0.0':0, '15.0':1, '30.0':2, '40.0':3, '60.0':4, '99':99, 'nan':np.nan}"
   ]
  },
  {
   "cell_type": "markdown",
   "metadata": {},
   "source": [
    "## 関数"
   ]
  },
  {
   "cell_type": "code",
   "execution_count": 15,
   "metadata": {},
   "outputs": [],
   "source": [
    "def calculate_epsilon(steps_done):\n",
    "    epsilon = egreedy_final + (egreedy - egreedy_final) * math.exp(-1. * steps_done / egreedy_decay)\n",
    "    \n",
    "    return epsilon"
   ]
  },
  {
   "cell_type": "code",
   "execution_count": 16,
   "metadata": {},
   "outputs": [],
   "source": [
    "def load_model():\n",
    "    return torch.load(file2save)"
   ]
  },
  {
   "cell_type": "code",
   "execution_count": 17,
   "metadata": {},
   "outputs": [],
   "source": [
    "def save_model(model):\n",
    "    torch.save(model.state_dict(), file2save)"
   ]
  },
  {
   "cell_type": "code",
   "execution_count": 18,
   "metadata": {},
   "outputs": [],
   "source": [
    "def preprocess_frame(frame):\n",
    "    frame = frame.transpose((2,0,1))\n",
    "    frame = torch.from_numpy(frame)\n",
    "    frame = frame.to(device, dtype=torch.float32)\n",
    "    frame = frame.unsqueeze(1)\n",
    "    \n",
    "    return frame"
   ]
  },
  {
   "cell_type": "code",
   "execution_count": 19,
   "metadata": {},
   "outputs": [],
   "source": [
    "def plot_results():\n",
    "    plt.figure(figsize=(12,5))\n",
    "    plt.title('Rewards')\n",
    "    plt.plot(reards_total, alpha=0.6, color='red')\n",
    "    plt.savefig('Tennis_result.png')\n",
    "    plt.close()"
   ]
  },
  {
   "cell_type": "code",
   "execution_count": 20,
   "metadata": {},
   "outputs": [],
   "source": [
    "class ExperienceReplay(object):\n",
    "    def __init__(self, capacity):\n",
    "        self.capacity = capacity\n",
    "        self.memory = []\n",
    "        self.position = 0\n",
    " \n",
    "    def push(self, state, action, new_state, reward, done):\n",
    "        transition = (state, action, new_state, reward, done)\n",
    "        \n",
    "        if self.position >= len(self.memory):\n",
    "            self.memory.append(transition)\n",
    "        else:\n",
    "            self.memory[self.position] = transition\n",
    "        \n",
    "        self.position = ( self.position + 1 ) % self.capacity\n",
    "        \n",
    "        \n",
    "    def sample(self, batch_size):\n",
    "        return zip(*random.sample(self.memory, batch_size))\n",
    "        \n",
    "        \n",
    "    def __len__(self):\n",
    "        return len(self.memory)"
   ]
  },
  {
   "cell_type": "code",
   "execution_count": 21,
   "metadata": {},
   "outputs": [],
   "source": [
    "class NeuralNetwork(nn.Module):\n",
    "    def __init__(self):\n",
    "        super(NeuralNetwork, self).__init__()\n",
    "\n",
    "        self.conv1 = nn.Conv2d(in_channels=1, out_channels=32, kernel_size=8, stride=4)\n",
    "        self.conv2 = nn.Conv2d(in_channels=32, out_channels=64, kernel_size=4, stride=2)\n",
    "        self.conv3 = nn.Conv2d(in_channels=64, out_channels=64, kernel_size=3, stride=1)\n",
    "        \n",
    "        self.advantage1 = nn.Linear(7*7*64,hidden_layer)\n",
    "        self.advantage2 = nn.Linear(hidden_layer, number_of_outputs)\n",
    "        \n",
    "        self.value1 = nn.Linear(7*7*64,hidden_layer)\n",
    "        self.value2 = nn.Linear(hidden_layer,1)\n",
    "\n",
    "        #self.activation = nn.Tanh()\n",
    "        self.activation = nn.ReLU()\n",
    "        \n",
    "        \n",
    "    def forward(self, x):\n",
    "        \n",
    "        if normalize_image:\n",
    "            x = x / 255\n",
    "        \n",
    "        output_conv = self.conv1(x)\n",
    "        output_conv = self.activation(output_conv)        \n",
    "        output_conv = self.conv2(output_conv)\n",
    "        output_conv = self.activation(output_conv)\n",
    "        output_conv = self.conv3(output_conv)\n",
    "        output_conv = self.activation(output_conv)\n",
    "        \n",
    "        output_conv = output_conv.view(output_conv.size(0), -1) # flatten\n",
    "        \n",
    "        output_advantage = self.advantage1(output_conv)\n",
    "        output_advantage = self.activation(output_advantage)\n",
    "        output_advantage = self.advantage2(output_advantage)\n",
    "        \n",
    "        output_value = self.value1(output_conv)\n",
    "        output_value = self.activation(output_value)\n",
    "        output_value = self.value2(output_value)\n",
    "        \n",
    "        output_final = output_value + output_advantage - output_advantage.mean()\n",
    "\n",
    "        return output_final"
   ]
  },
  {
   "cell_type": "code",
   "execution_count": 22,
   "metadata": {},
   "outputs": [],
   "source": [
    "class QNet_Agent(object):\n",
    "    def __init__(self):\n",
    "        self.nn = NeuralNetwork().to(device)\n",
    "        self.target_nn = NeuralNetwork().to(device)\n",
    "\n",
    "        self.loss_func = nn.MSELoss()\n",
    "        #self.loss_func = nn.SmoothL1Loss()\n",
    "        \n",
    "        self.optimizer = optim.Adam(params=self.nn.parameters(), lr=learning_rate)\n",
    "        #self.optimizer = optim.RMSprop(params=mynn.parameters(), lr=learning_rate)\n",
    "        \n",
    "        self.number_of_frames = 0\n",
    "        \n",
    "        if resume_previous_training and os.path.exists(file2save):\n",
    "            print(\"Loading previously saved model ... \")\n",
    "            self.nn.load_state_dict(load_model())\n",
    "        \n",
    "    def select_action(self,state,epsilon):\n",
    "        \n",
    "        random_for_egreedy = torch.rand(1)[0]\n",
    "        \n",
    "        if random_for_egreedy > epsilon:\n",
    "            \n",
    "            with torch.no_grad():\n",
    "                \n",
    "                state = preprocess_frame(state)\n",
    "                action_from_nn = self.nn(state)\n",
    "                \n",
    "                action = torch.max(action_from_nn,1)[1]\n",
    "                action = action.item()        \n",
    "        else: # random\n",
    "            action = action_random()\n",
    "        \n",
    "        return action\n",
    "    \n",
    "    def optimize(self):\n",
    "        \n",
    "        if (len(memory) < batch_size):\n",
    "            return\n",
    "        \n",
    "        state, action, new_state, reward, done = memory.sample(batch_size)\n",
    "        \n",
    "        state = [ preprocess_frame(frame) for frame in state ] \n",
    "        state = torch.cat(state)\n",
    "        \n",
    "        new_state = [ preprocess_frame(frame) for frame in new_state ] \n",
    "        new_state = torch.cat(new_state)\n",
    "\n",
    "        reward = Tensor(reward).to(device)\n",
    "        action = LongTensor(action).to(device)\n",
    "        done = Tensor(done).to(device)\n",
    "\n",
    "\n",
    "        if double_dqn:\n",
    "            new_state_indexes = self.nn(new_state).detach()\n",
    "            max_new_state_indexes = torch.max(new_state_indexes, 1)[1]  \n",
    "            \n",
    "            new_state_values = self.target_nn(new_state).detach()\n",
    "            max_new_state_values = new_state_values.gather(1, max_new_state_indexes.unsqueeze(1)).squeeze(1)\n",
    "        else:\n",
    "            new_state_values = self.target_nn(new_state).detach()\n",
    "            max_new_state_values = torch.max(new_state_values, 1)[0]\n",
    "        \n",
    "        \n",
    "        target_value = reward + ( 1 - done ) * gamma * max_new_state_values\n",
    "  \n",
    "        predicted_value = self.nn(state).gather(1, action.unsqueeze(1)).squeeze(1)\n",
    "        \n",
    "        loss = self.loss_func(predicted_value, target_value)\n",
    "    \n",
    "        self.optimizer.zero_grad()\n",
    "        loss.backward()\n",
    "        \n",
    "        if clip_error:\n",
    "            for param in self.nn.parameters():\n",
    "                param.grad.data.clamp_(-1,1)\n",
    "        \n",
    "        self.optimizer.step()\n",
    "        \n",
    "        if self.number_of_frames % update_target_frequency == 0:\n",
    "            self.target_nn.load_state_dict(self.nn.state_dict())\n",
    "        \n",
    "        if self.number_of_frames % save_model_frequency == 0:\n",
    "            save_model(self.nn)\n",
    "        \n",
    "        self.number_of_frames += 1"
   ]
  },
  {
   "cell_type": "markdown",
   "metadata": {},
   "source": [
    "# スコア取得"
   ]
  },
  {
   "cell_type": "markdown",
   "metadata": {},
   "source": [
    "## スコア位置"
   ]
  },
  {
   "cell_type": "code",
   "execution_count": 45,
   "metadata": {},
   "outputs": [],
   "source": [
    "my_score = {'my_score':0}\n",
    "enemy_score = {'enemy_score':0}\n",
    "stop_flag = {'flag':False}\n",
    "t1 = threading.Thread(target=get_score, args=(my_score, enemy_score, stop_flag))\n",
    "t1.start()"
   ]
  },
  {
   "cell_type": "code",
   "execution_count": 46,
   "metadata": {},
   "outputs": [],
   "source": [
    "message = 'stop_video'\n",
    "\n",
    "video_stop_flag = {'flag':False}\n",
    "t2 = threading.Thread(target=video_record, args=(message, video_stop_flag)) # argsで引数二つ以上じゃないとエラー出る\n",
    "t2.start()"
   ]
  },
  {
   "cell_type": "markdown",
   "metadata": {},
   "source": [
    "# 学習"
   ]
  },
  {
   "cell_type": "code",
   "execution_count": null,
   "metadata": {},
   "outputs": [],
   "source": []
  },
  {
   "cell_type": "code",
   "execution_count": 48,
   "metadata": {
    "scrolled": false
   },
   "outputs": [
    {
     "name": "stdout",
     "output_type": "stream",
     "text": [
      "('0.0', '15.0')\n",
      "('30.0', '30.0')\n",
      "('40.0', '40.0')\n",
      "('0.0', '15.0')\n",
      "('0.0', '30.0')\n",
      "('0.0', '40.0')\n",
      "('15.0', '40.0')\n",
      "('0.0', '0.0')\n",
      "reward: -2\n",
      "('15.0', '15.0')\n",
      "('30.0', '15.0')\n",
      "('0.0', '15.0')\n",
      "('0.0', '30.0')\n",
      "('0.0', '40.0')\n",
      "('15.0', '40.0')\n",
      "('0.0', '0.0')\n",
      "reward: -2\n",
      "('0.0', '0.0')\n",
      "reward: -2\n",
      "('0.0', '0.0')\n",
      "reward: -2\n",
      "('0.0', '0.0')\n",
      "reward: -2\n",
      "('0.0', '0.0')\n",
      "reward: -2\n",
      "('15.0', '15.0')\n",
      "('30.0', '15.0')\n",
      "('40.0', '40.0')\n",
      "('0.0', '15.0')\n",
      "('0.0', '30.0')\n",
      "('0.0', '40.0')\n",
      "('15.0', '0.0')\n",
      "('0.0', '15.0')\n",
      "('0.0', '30.0')\n",
      "('0.0', '40.0')\n",
      "('15.0', '0.0')\n",
      "('15.0', '15.0')\n",
      "('40.0', '15.0')\n",
      "('0.0', '15.0')\n",
      "('0.0', '30.0')\n",
      "('0.0', '40.0')\n",
      "('15.0', '40.0')\n",
      "('0.0', '0.0')\n",
      "reward: -2\n",
      "('0.0', '0.0')\n",
      "reward: -2\n",
      "('0.0', '0.0')\n",
      "reward: -2\n",
      "('0.0', '0.0')\n",
      "reward: -2\n",
      "('0.0', '0.0')\n",
      "reward: -2\n",
      "('0.0', '0.0')\n",
      "reward: -2\n",
      "('0.0', '0.0')\n",
      "reward: -2\n",
      "('0.0', '0.0')\n",
      "reward: -2\n",
      "('0.0', '0.0')\n",
      "reward: -2\n",
      "('0.0', '0.0')\n",
      "reward: -2\n",
      "('0.0', '0.0')\n",
      "reward: -2\n",
      "('0.0', '0.0')\n",
      "reward: -2\n",
      "('0.0', '0.0')\n",
      "reward: -2\n",
      "('0.0', '0.0')\n",
      "reward: -2\n",
      "('30.0', '0.0')\n",
      "('40.0', '0.0')\n",
      "('40.0', '15.0')\n",
      "('40.0', '30.0')\n",
      "('40.0', '40.0')\n",
      "('0.0', '15.0')\n",
      "('0.0', '30.0')\n",
      "('0.0', '40.0')\n",
      "('0.0', '15.0')\n",
      "('0.0', '30.0')\n",
      "('0.0', '40.0')\n",
      "('0.0', '0.0')\n",
      "reward: -3\n",
      "('0.0', '0.0')\n",
      "reward: -3\n",
      "('0.0', '0.0')\n",
      "reward: -3\n",
      "('0.0', '0.0')\n",
      "reward: -3\n",
      "('0.0', '0.0')\n",
      "reward: -3\n",
      "('0.0', '0.0')\n",
      "reward: -3\n",
      "('15.0', '15.0')\n",
      "('30.0', '15.0')\n",
      "('40.0', '30.0')\n",
      "('60.0', '40.0')\n",
      "('0.0', '15.0')\n",
      "('0.0', '30.0')\n",
      "('0.0', '40.0')\n",
      "('0.0', '0.0')\n",
      "reward: -3\n",
      "('0.0', '0.0')\n",
      "reward: -3\n",
      "('15.0', '0.0')\n",
      "('30.0', '15.0')\n",
      "('40.0', '15.0')\n",
      "('0.0', '0.0')\n",
      "reward: 2\n",
      "wining after 29 games\n",
      "('0.0', '0.0')\n",
      "reward: 2\n",
      "wining after 30 games\n",
      "('0.0', '0.0')\n",
      "reward: 2\n",
      "wining after 31 games\n",
      "('0.0', '0.0')\n",
      "reward: 2\n",
      "wining after 32 games\n",
      "('0.0', '0.0')\n",
      "reward: 2\n",
      "wining after 33 games\n",
      "('0.0', '15.0')\n",
      "('0.0', '40.0')\n",
      "('30.0', '0.0')\n",
      "('30.0', '15.0')\n",
      "('0.0', '15.0')\n",
      "('0.0', '40.0')\n",
      "('15.0', '40.0')\n",
      "('0.0', '0.0')\n",
      "reward: -2\n",
      "('0.0', '0.0')\n",
      "reward: -2\n",
      "('0.0', '15.0')\n",
      "('0.0', '30.0')\n",
      "('0.0', '40.0')\n",
      "('15.0', '40.0')\n",
      "('0.0', '0.0')\n",
      "reward: -2\n",
      "('30.0', '15.0')\n",
      "('40.0', '40.0')\n",
      "('0.0', '0.0')\n",
      "reward: 0\n",
      "('0.0', '15.0')\n",
      "('0.0', '30.0')\n",
      "('15.0', '30.0')\n",
      "('15.0', '40.0')\n",
      "('30.0', '40.0')\n",
      "('0.0', '0.0')\n",
      "reward: -1\n",
      "('0.0', '0.0')\n",
      "reward: -1\n",
      "('0.0', '0.0')\n",
      "reward: -1\n",
      "('0.0', '0.0')\n",
      "reward: -1\n",
      "('0.0', '0.0')\n",
      "reward: -1\n",
      "('0.0', '15.0')\n",
      "('15.0', '15.0')\n",
      "('30.0', '15.0')\n",
      "('40.0', '30.0')\n",
      "('0.0', '15.0')\n",
      "('0.0', '30.0')\n",
      "('0.0', '40.0')\n",
      "('30.0', '15.0')\n",
      "('30.0', '40.0')\n",
      "('0.0', '15.0')\n",
      "('0.0', '30.0')\n",
      "('0.0', '40.0')\n",
      "('0.0', '30.0')\n",
      "('15.0', '30.0')\n",
      "('30.0', '40.0')\n",
      "('60.0', '40.0')\n",
      "('0.0', '15.0')\n",
      "('0.0', '30.0')\n",
      "('15.0', '30.0')\n",
      "('15.0', '40.0')\n",
      "('0.0', '0.0')\n",
      "reward: -2\n",
      "('0.0', '15.0')\n",
      "('15.0', '15.0')\n",
      "('15.0', '30.0')\n",
      "('15.0', '40.0')\n",
      "('0.0', '15.0')\n",
      "('15.0', '15.0')\n",
      "('15.0', '30.0')\n"
     ]
    },
    {
     "ename": "KeyboardInterrupt",
     "evalue": "",
     "output_type": "error",
     "traceback": [
      "\u001b[1;31m---------------------------------------------------------------------------\u001b[0m",
      "\u001b[1;31mKeyboardInterrupt\u001b[0m                         Traceback (most recent call last)",
      "\u001b[1;32m<ipython-input-48-c6ad3cc45917>\u001b[0m in \u001b[0;36m<module>\u001b[1;34m\u001b[0m\n\u001b[0;32m     36\u001b[0m \u001b[1;33m\u001b[0m\u001b[0m\n\u001b[0;32m     37\u001b[0m         \u001b[1;31m#行動\u001b[0m\u001b[1;33m\u001b[0m\u001b[1;33m\u001b[0m\u001b[1;33m\u001b[0m\u001b[0m\n\u001b[1;32m---> 38\u001b[1;33m         \u001b[0mtake_action\u001b[0m\u001b[1;33m(\u001b[0m\u001b[0maction\u001b[0m\u001b[1;33m)\u001b[0m\u001b[1;33m\u001b[0m\u001b[1;33m\u001b[0m\u001b[0m\n\u001b[0m\u001b[0;32m     39\u001b[0m \u001b[1;33m\u001b[0m\u001b[0m\n\u001b[0;32m     40\u001b[0m         \u001b[1;31m#新しい環境\u001b[0m\u001b[1;33m\u001b[0m\u001b[1;33m\u001b[0m\u001b[1;33m\u001b[0m\u001b[0m\n",
      "\u001b[1;32mE:\\OneDrive\\RL\\00_DeepGamingAI_Tennis\\Tennis_action.py\u001b[0m in \u001b[0;36mtake_action\u001b[1;34m(action)\u001b[0m\n\u001b[0;32m    109\u001b[0m     \u001b[0mPressKey\u001b[0m\u001b[1;33m(\u001b[0m\u001b[0mactions\u001b[0m\u001b[1;33m[\u001b[0m\u001b[1;36m1\u001b[0m\u001b[1;33m]\u001b[0m\u001b[1;33m)\u001b[0m  \u001b[1;31m# shot\u001b[0m\u001b[1;33m\u001b[0m\u001b[1;33m\u001b[0m\u001b[0m\n\u001b[0;32m    110\u001b[0m \u001b[1;33m\u001b[0m\u001b[0m\n\u001b[1;32m--> 111\u001b[1;33m     \u001b[0mtime\u001b[0m\u001b[1;33m.\u001b[0m\u001b[0msleep\u001b[0m\u001b[1;33m(\u001b[0m\u001b[1;36m0.3\u001b[0m\u001b[1;33m)\u001b[0m\u001b[1;33m\u001b[0m\u001b[1;33m\u001b[0m\u001b[0m\n\u001b[0m\u001b[0;32m    112\u001b[0m \u001b[1;33m\u001b[0m\u001b[0m\n\u001b[0;32m    113\u001b[0m     \u001b[0mReleaseKey\u001b[0m\u001b[1;33m(\u001b[0m\u001b[0mactions\u001b[0m\u001b[1;33m[\u001b[0m\u001b[1;36m0\u001b[0m\u001b[1;33m]\u001b[0m\u001b[1;33m)\u001b[0m  \u001b[1;31m# move\u001b[0m\u001b[1;33m\u001b[0m\u001b[1;33m\u001b[0m\u001b[0m\n",
      "\u001b[1;31mKeyboardInterrupt\u001b[0m: "
     ]
    }
   ],
   "source": [
    "memory = ExperienceReplay(replay_mem_size)\n",
    "qnet_agent = QNet_Agent()\n",
    "\n",
    "\n",
    "reward_list = []\n",
    "frames_total = 0\n",
    "score_list = []\n",
    "\n",
    "count_game = 0\n",
    "\n",
    "active_window()\n",
    "reward = 0.0\n",
    "\n",
    "score = ('99', '99')\n",
    "last_score = ('99', '99')\n",
    "\n",
    "# 0-0になる数(ゲーム数)\n",
    "for i_episode in range(num_episodes):\n",
    "    \n",
    "\n",
    "    score_list_buf = []\n",
    "    reward_list_buf = []\n",
    "    \n",
    "    new_state = grab_screen(left, top, width, height, True)\n",
    "    new_state = image_resize(new_state, width_cnn, height_cnn)\n",
    "    state = new_state\n",
    "    \n",
    "    # 1ゲーム終わるまで継続\n",
    "    while True:\n",
    "        frames_total += 1\n",
    "        \n",
    "        epsilon = calculate_epsilon(frames_total)\n",
    "        \n",
    "        #行動決定\n",
    "        action = qnet_agent.select_action(state, epsilon)\n",
    "        \n",
    "        #行動\n",
    "        take_action(action)\n",
    "        \n",
    "        #新しい環境\n",
    "        state = new_state\n",
    "        \n",
    "        new_state = grab_screen(left, top, width, height, True)\n",
    "        new_state = image_resize(new_state, width_cnn, height_cnn)\n",
    "        \n",
    "        score = (str(my_score['my_score']), str(enemy_score['enemy_score']))\n",
    "        \n",
    "        #ゲームが終わったかの確認\n",
    "        done = ((score != last_score) & (np.nan not in score)) & ((score == init_flag) & (len(score_list_buf) > 1))\n",
    "               \n",
    "        memory.push(state, action, new_state, reward, done)\n",
    "        qnet_agent.optimize()\n",
    "        \n",
    "        # 試合開始時にinit flag回避\n",
    "        if (score != last_score) & ('nan' not in score) & (count_game == 0):\n",
    "            count_game += 1\n",
    "        \n",
    "        #ポイント終了の確認\n",
    "        if (score != last_score) & ('nan' not in score) & (count_game > 0):\n",
    "            print(str(score))\n",
    "            reward = score_reward_dict[last_score[0]] - score_reward_dict[last_score[1]]\n",
    "            #reward = reward_normalize(score_difference)\n",
    "            # (0,0)で報酬清算\n",
    "            if (score == init_flag):\n",
    "                score_list.append(score_list_buf)\n",
    "                                \n",
    "                if count_game > 0:\n",
    "                    \n",
    "                    print('reward: ' + str(reward))\n",
    "                    score_list.append(score_list_buf)\n",
    "                    reward_list.append(reward)\n",
    "            \n",
    "                break\n",
    "                \n",
    "            last_score = copy.copy(score)\n",
    "            \n",
    "    if reward >= 1:\n",
    "        win_games = len(reward_list)\n",
    "        print(\"wining after \" + str(win_games) + ' games')\n",
    "\n",
    "        #break\n",
    "                \n",
    "\n",
    "            \n"
   ]
  },
  {
   "cell_type": "code",
   "execution_count": null,
   "metadata": {},
   "outputs": [],
   "source": [
    "('0.0', '15.0')\n",
    "('30.0', '30.0')\n",
    "('40.0', '40.0')\n",
    "('0.0', '15.0')\n",
    "('0.0', '30.0')\n",
    "('0.0', '40.0')\n",
    "('15.0', '40.0')\n",
    "('0.0', '0.0')\n",
    "reward: -2\n",
    "('15.0', '15.0')\n",
    "('30.0', '15.0')\n",
    "('0.0', '15.0')\n",
    "('0.0', '30.0')\n",
    "('0.0', '40.0')\n",
    "('15.0', '40.0')\n",
    "('0.0', '0.0')\n",
    "reward: -2\n",
    "('0.0', '0.0')\n",
    "reward: -2\n",
    "('0.0', '0.0')\n",
    "reward: -2\n",
    "('0.0', '0.0')\n",
    "reward: -2\n",
    "('0.0', '0.0')\n",
    "reward: -2\n",
    "('15.0', '15.0')\n",
    "('30.0', '15.0')\n",
    "('40.0', '40.0')\n",
    "('0.0', '15.0')\n",
    "('0.0', '30.0')\n",
    "('0.0', '40.0')\n",
    "('15.0', '0.0')\n",
    "('0.0', '15.0')\n",
    "('0.0', '30.0')\n",
    "('0.0', '40.0')\n",
    "('15.0', '0.0')\n",
    "('15.0', '15.0')\n",
    "('40.0', '15.0')\n",
    "('0.0', '15.0')\n",
    "('0.0', '30.0')\n",
    "('0.0', '40.0')\n",
    "('15.0', '40.0')\n",
    "('0.0', '0.0')\n",
    "reward: -2\n",
    "('0.0', '0.0')\n",
    "reward: -2\n",
    "('0.0', '0.0')\n",
    "reward: -2\n",
    "('0.0', '0.0')\n",
    "reward: -2\n",
    "('0.0', '0.0')\n",
    "reward: -2\n",
    "('0.0', '0.0')\n",
    "reward: -2\n",
    "('0.0', '0.0')\n",
    "reward: -2\n",
    "('0.0', '0.0')\n",
    "reward: -2\n",
    "('0.0', '0.0')\n",
    "reward: -2\n",
    "('0.0', '0.0')\n",
    "reward: -2\n",
    "('0.0', '0.0')\n",
    "reward: -2\n",
    "('0.0', '0.0')\n",
    "reward: -2\n",
    "('0.0', '0.0')\n",
    "reward: -2\n",
    "('0.0', '0.0')\n",
    "reward: -2\n",
    "('30.0', '0.0')\n",
    "('40.0', '0.0')\n",
    "('40.0', '15.0')\n",
    "('40.0', '30.0')\n",
    "('40.0', '40.0')\n",
    "('0.0', '15.0')\n",
    "('0.0', '30.0')\n",
    "('0.0', '40.0')\n",
    "('0.0', '15.0')\n",
    "('0.0', '30.0')\n",
    "('0.0', '40.0')\n",
    "('0.0', '0.0')\n",
    "reward: -3\n",
    "('0.0', '0.0')\n",
    "reward: -3\n",
    "('0.0', '0.0')\n",
    "reward: -3\n",
    "('0.0', '0.0')\n",
    "reward: -3\n",
    "('0.0', '0.0')\n",
    "reward: -3\n",
    "('0.0', '0.0')\n",
    "reward: -3\n",
    "('15.0', '15.0')\n",
    "('30.0', '15.0')\n",
    "('40.0', '30.0')\n",
    "('60.0', '40.0')\n",
    "('0.0', '15.0')\n",
    "('0.0', '30.0')\n",
    "('0.0', '40.0')\n",
    "('0.0', '0.0')\n",
    "reward: -3\n",
    "('0.0', '0.0')\n",
    "reward: -3\n",
    "('15.0', '0.0')\n",
    "('30.0', '15.0')\n",
    "('40.0', '15.0')\n",
    "('0.0', '0.0')\n",
    "reward: 2\n",
    "wining after 29 games\n",
    "('0.0', '0.0')\n",
    "reward: 2\n",
    "wining after 30 games\n",
    "('0.0', '0.0')\n",
    "reward: 2\n",
    "wining after 31 games\n",
    "('0.0', '0.0')\n",
    "reward: 2\n",
    "wining after 32 games\n",
    "('0.0', '0.0')\n",
    "reward: 2\n",
    "wining after 33 games\n",
    "('0.0', '15.0')\n",
    "('0.0', '40.0')\n",
    "('30.0', '0.0')\n",
    "('30.0', '15.0')\n",
    "('0.0', '15.0')\n",
    "('0.0', '40.0')\n",
    "('15.0', '40.0')\n",
    "('0.0', '0.0')\n",
    "reward: -2\n",
    "('0.0', '0.0')\n",
    "reward: -2\n",
    "('0.0', '15.0')\n",
    "('0.0', '30.0')\n",
    "('0.0', '40.0')\n",
    "('15.0', '40.0')\n",
    "('0.0', '0.0')\n",
    "reward: -2\n",
    "('30.0', '15.0')\n",
    "('40.0', '40.0')\n",
    "('0.0', '0.0')\n",
    "reward: 0\n",
    "('0.0', '15.0')\n",
    "('0.0', '30.0')\n",
    "('15.0', '30.0')\n",
    "('15.0', '40.0')\n",
    "('30.0', '40.0')\n",
    "('0.0', '0.0')\n",
    "reward: -1\n",
    "('0.0', '0.0')\n",
    "reward: -1\n",
    "('0.0', '0.0')\n",
    "reward: -1\n",
    "('0.0', '0.0')\n",
    "reward: -1\n",
    "('0.0', '0.0')\n",
    "reward: -1\n",
    "('0.0', '15.0')\n",
    "('15.0', '15.0')\n",
    "('30.0', '15.0')\n",
    "('40.0', '30.0')\n",
    "('0.0', '15.0')\n",
    "('0.0', '30.0')\n",
    "('0.0', '40.0')\n",
    "('30.0', '15.0')\n",
    "('30.0', '40.0')\n",
    "('0.0', '15.0')\n",
    "('0.0', '30.0')\n",
    "('0.0', '40.0')\n",
    "('0.0', '30.0')\n",
    "('15.0', '30.0')\n",
    "('30.0', '40.0')\n",
    "('60.0', '40.0')\n",
    "('0.0', '15.0')\n",
    "('0.0', '30.0')\n",
    "('15.0', '30.0')\n",
    "('15.0', '40.0')\n",
    "('0.0', '0.0')\n",
    "reward: -2\n",
    "('0.0', '15.0')\n",
    "('15.0', '15.0')\n",
    "('15.0', '30.0')\n",
    "('15.0', '40.0')\n",
    "('0.0', '15.0')\n",
    "('15.0', '15.0')\n",
    "('15.0', '30.0')"
   ]
  },
  {
   "cell_type": "code",
   "execution_count": 52,
   "metadata": {},
   "outputs": [
    {
     "data": {
      "text/plain": [
       "[]"
      ]
     },
     "execution_count": 52,
     "metadata": {},
     "output_type": "execute_result"
    }
   ],
   "source": [
    "score_list_buf"
   ]
  },
  {
   "cell_type": "code",
   "execution_count": 50,
   "metadata": {},
   "outputs": [
    {
     "data": {
      "text/plain": [
       "[-2,\n",
       " -2,\n",
       " -2,\n",
       " -2,\n",
       " -2,\n",
       " -2,\n",
       " -2,\n",
       " -2,\n",
       " -2,\n",
       " -2,\n",
       " -2,\n",
       " -2,\n",
       " -2,\n",
       " -2,\n",
       " -2,\n",
       " -2,\n",
       " -2,\n",
       " -2,\n",
       " -2,\n",
       " -2,\n",
       " -3,\n",
       " -3,\n",
       " -3,\n",
       " -3,\n",
       " -3,\n",
       " -3,\n",
       " -3,\n",
       " -3,\n",
       " 2,\n",
       " 2,\n",
       " 2,\n",
       " 2,\n",
       " 2,\n",
       " -2,\n",
       " -2,\n",
       " -2,\n",
       " 0,\n",
       " -1,\n",
       " -1,\n",
       " -1,\n",
       " -1,\n",
       " -1,\n",
       " -2]"
      ]
     },
     "execution_count": 50,
     "metadata": {},
     "output_type": "execute_result"
    }
   ],
   "source": [
    "reward_list"
   ]
  },
  {
   "cell_type": "code",
   "execution_count": null,
   "metadata": {},
   "outputs": [],
   "source": []
  },
  {
   "cell_type": "code",
   "execution_count": null,
   "metadata": {},
   "outputs": [],
   "source": []
  },
  {
   "cell_type": "code",
   "execution_count": 49,
   "metadata": {},
   "outputs": [
    {
     "name": "stdout",
     "output_type": "stream",
     "text": [
      "stop_video\n",
      "stop getting score\n"
     ]
    }
   ],
   "source": [
    "stop_flag['flag']=True\n",
    "video_stop_flag['flag']=True"
   ]
  },
  {
   "cell_type": "markdown",
   "metadata": {},
   "source": [
    "# モデル保存"
   ]
  },
  {
   "cell_type": "code",
   "execution_count": null,
   "metadata": {},
   "outputs": [],
   "source": [
    "save_model(qnet_agent.nn)"
   ]
  },
  {
   "cell_type": "code",
   "execution_count": null,
   "metadata": {},
   "outputs": [],
   "source": []
  },
  {
   "cell_type": "code",
   "execution_count": null,
   "metadata": {},
   "outputs": [],
   "source": []
  },
  {
   "cell_type": "code",
   "execution_count": null,
   "metadata": {},
   "outputs": [],
   "source": []
  },
  {
   "cell_type": "code",
   "execution_count": null,
   "metadata": {},
   "outputs": [],
   "source": []
  },
  {
   "cell_type": "code",
   "execution_count": 238,
   "metadata": {},
   "outputs": [],
   "source": [
    "cnn = NeuralNetwork().to(device)"
   ]
  },
  {
   "cell_type": "code",
   "execution_count": 239,
   "metadata": {},
   "outputs": [],
   "source": [
    "imshow(frame)"
   ]
  },
  {
   "cell_type": "code",
   "execution_count": 240,
   "metadata": {},
   "outputs": [],
   "source": [
    "frame = grab_screen(left, top, width, height, gray_frag)"
   ]
  },
  {
   "cell_type": "code",
   "execution_count": 241,
   "metadata": {},
   "outputs": [],
   "source": [
    "frame = image_resize(frame)"
   ]
  },
  {
   "cell_type": "code",
   "execution_count": 242,
   "metadata": {},
   "outputs": [],
   "source": [
    "state = preprocess_frame(frame)"
   ]
  },
  {
   "cell_type": "code",
   "execution_count": 258,
   "metadata": {},
   "outputs": [],
   "source": [
    "test = cnn(state)"
   ]
  },
  {
   "cell_type": "code",
   "execution_count": 261,
   "metadata": {},
   "outputs": [
    {
     "data": {
      "text/plain": [
       "<function Tensor.numpy>"
      ]
     },
     "execution_count": 261,
     "metadata": {},
     "output_type": "execute_result"
    }
   ],
   "source": [
    "(test[1].numpy)"
   ]
  },
  {
   "cell_type": "code",
   "execution_count": null,
   "metadata": {},
   "outputs": [],
   "source": []
  },
  {
   "cell_type": "code",
   "execution_count": 283,
   "metadata": {},
   "outputs": [
    {
     "data": {
      "text/plain": [
       "tensor([[ 0.0878,  0.0986, -0.1215,  0.0978,  0.1229,  0.0628,  0.1004,  0.1010],\n",
       "        [-0.0140,  0.1190, -0.0269, -0.0407, -0.0323, -0.1044,  0.1086, -0.0375],\n",
       "        [ 0.0280,  0.0190, -0.0576, -0.0313,  0.1178,  0.0662,  0.0254, -0.0871],\n",
       "        [-0.1196,  0.0315,  0.0982, -0.0200,  0.0769, -0.0619,  0.0666, -0.0389],\n",
       "        [-0.0949,  0.0067,  0.0894,  0.0438,  0.0783, -0.0769, -0.0879,  0.1173],\n",
       "        [ 0.0364,  0.0657, -0.0664,  0.0204,  0.0368, -0.0279, -0.0818,  0.0533],\n",
       "        [-0.0010, -0.0909, -0.0516,  0.0449,  0.0633,  0.0328,  0.0850, -0.0790],\n",
       "        [ 0.0594,  0.0691,  0.0187,  0.0221,  0.0213, -0.0384,  0.0960,  0.1179]],\n",
       "       grad_fn=<CopyBackwards>)"
      ]
     },
     "execution_count": 283,
     "metadata": {},
     "output_type": "execute_result"
    }
   ],
   "source": [
    "Tensor.cpu(cnn.conv1.weight[0][0])"
   ]
  },
  {
   "cell_type": "code",
   "execution_count": null,
   "metadata": {},
   "outputs": [],
   "source": [
    "Tensor.cpu(state[0][0]))"
   ]
  },
  {
   "cell_type": "code",
   "execution_count": null,
   "metadata": {},
   "outputs": [],
   "source": []
  },
  {
   "cell_type": "code",
   "execution_count": 223,
   "metadata": {},
   "outputs": [
    {
     "ename": "AttributeError",
     "evalue": "'builtin_function_or_method' object has no attribute 'data'",
     "output_type": "error",
     "traceback": [
      "\u001b[1;31m---------------------------------------------------------------------------\u001b[0m",
      "\u001b[1;31mAttributeError\u001b[0m                            Traceback (most recent call last)",
      "\u001b[1;32m<ipython-input-223-6a3ccb931d5f>\u001b[0m in \u001b[0;36m<module>\u001b[1;34m\u001b[0m\n\u001b[1;32m----> 1\u001b[1;33m \u001b[0mtorch\u001b[0m\u001b[1;33m.\u001b[0m\u001b[0mvar\u001b[0m\u001b[1;33m.\u001b[0m\u001b[0mdata\u001b[0m\u001b[1;33m.\u001b[0m\u001b[0mnumpy\u001b[0m\u001b[1;33m(\u001b[0m\u001b[1;33m)\u001b[0m\u001b[1;33m\u001b[0m\u001b[1;33m\u001b[0m\u001b[0m\n\u001b[0m",
      "\u001b[1;31mAttributeError\u001b[0m: 'builtin_function_or_method' object has no attribute 'data'"
     ]
    }
   ],
   "source": [
    "torch.var."
   ]
  },
  {
   "cell_type": "code",
   "execution_count": null,
   "metadata": {},
   "outputs": [],
   "source": []
  },
  {
   "cell_type": "code",
   "execution_count": null,
   "metadata": {},
   "outputs": [],
   "source": []
  },
  {
   "cell_type": "code",
   "execution_count": 181,
   "metadata": {},
   "outputs": [],
   "source": [
    "a = QNet_Agent()"
   ]
  },
  {
   "cell_type": "code",
   "execution_count": 186,
   "metadata": {},
   "outputs": [
    {
     "data": {
      "text/plain": [
       "tensor([[ 0.0427, -0.0083,  0.0251,  0.0478]], device='cuda:0',\n",
       "       grad_fn=<SubBackward0>)"
      ]
     },
     "execution_count": 186,
     "metadata": {},
     "output_type": "execute_result"
    }
   ],
   "source": [
    "a.nn(state)"
   ]
  },
  {
   "cell_type": "code",
   "execution_count": null,
   "metadata": {},
   "outputs": [],
   "source": []
  },
  {
   "cell_type": "code",
   "execution_count": 155,
   "metadata": {},
   "outputs": [
    {
     "data": {
      "text/plain": [
       "array([[[ 90,  91,  90, ..., 141, 141, 143],\n",
       "        [171, 151, 124, ..., 141, 142, 143],\n",
       "        [ 18,  18,  18, ..., 143, 142, 144],\n",
       "        ...,\n",
       "        [109, 114, 109, ..., 143, 143, 141],\n",
       "        [109, 113, 108, ..., 143, 143, 142],\n",
       "        [110, 112, 107, ..., 143, 141, 143]]], dtype=uint8)"
      ]
     },
     "execution_count": 155,
     "metadata": {},
     "output_type": "execute_result"
    }
   ],
   "source": [
    "frame.T"
   ]
  },
  {
   "cell_type": "code",
   "execution_count": 174,
   "metadata": {},
   "outputs": [
    {
     "ename": "TypeError",
     "evalue": "cat(): argument 'tensors' (position 1) must be tuple of Tensors, not Tensor",
     "output_type": "error",
     "traceback": [
      "\u001b[1;31m---------------------------------------------------------------------------\u001b[0m",
      "\u001b[1;31mTypeError\u001b[0m                                 Traceback (most recent call last)",
      "\u001b[1;32m<ipython-input-174-a3faba4170ac>\u001b[0m in \u001b[0;36m<module>\u001b[1;34m\u001b[0m\n\u001b[1;32m----> 1\u001b[1;33m \u001b[0mstate\u001b[0m \u001b[1;33m=\u001b[0m \u001b[0mtorch\u001b[0m\u001b[1;33m.\u001b[0m\u001b[0mcat\u001b[0m\u001b[1;33m(\u001b[0m\u001b[0mstate\u001b[0m\u001b[1;33m[\u001b[0m\u001b[1;36m0\u001b[0m\u001b[1;33m]\u001b[0m\u001b[1;33m[\u001b[0m\u001b[1;36m0\u001b[0m\u001b[1;33m]\u001b[0m\u001b[1;33m[\u001b[0m\u001b[1;36m0\u001b[0m\u001b[1;33m]\u001b[0m\u001b[1;33m)\u001b[0m\u001b[1;33m\u001b[0m\u001b[1;33m\u001b[0m\u001b[0m\n\u001b[0m",
      "\u001b[1;31mTypeError\u001b[0m: cat(): argument 'tensors' (position 1) must be tuple of Tensors, not Tensor"
     ]
    }
   ],
   "source": [
    "state = torch.cat(state[0][0][0])"
   ]
  },
  {
   "cell_type": "code",
   "execution_count": null,
   "metadata": {},
   "outputs": [],
   "source": []
  },
  {
   "cell_type": "code",
   "execution_count": 157,
   "metadata": {},
   "outputs": [
    {
     "data": {
      "text/plain": [
       "<matplotlib.image.AxesImage at 0x2a522e79c18>"
      ]
     },
     "execution_count": 157,
     "metadata": {},
     "output_type": "execute_result"
    },
    {
     "data": {
      "image/png": "[encoded data removed]",
      "text/plain": [
       "<Figure size 432x288 with 1 Axes>"
      ]
     },
     "metadata": {
      "needs_background": "light"
     },
     "output_type": "display_data"
    }
   ],
   "source": [
    "plt.imshow(frame.T[0])"
   ]
  },
  {
   "cell_type": "code",
   "execution_count": 158,
   "metadata": {},
   "outputs": [
    {
     "data": {
      "text/plain": [
       "<matplotlib.image.AxesImage at 0x2a523023d30>"
      ]
     },
     "execution_count": 158,
     "metadata": {},
     "output_type": "execute_result"
    },
    {
     "data": {
      "image/png": "[encoded data removed]",
      "text/plain": [
       "<Figure size 432x288 with 1 Axes>"
      ]
     },
     "metadata": {
      "needs_background": "light"
     },
     "output_type": "display_data"
    }
   ],
   "source": [
    "plt.imshow(np.array(Tensor.cpu(state[0][0])))"
   ]
  },
  {
   "cell_type": "code",
   "execution_count": null,
   "metadata": {},
   "outputs": [],
   "source": []
  },
  {
   "cell_type": "code",
   "execution_count": null,
   "metadata": {},
   "outputs": [],
   "source": []
  },
  {
   "cell_type": "code",
   "execution_count": null,
   "metadata": {},
   "outputs": [],
   "source": []
  },
  {
   "cell_type": "code",
   "execution_count": null,
   "metadata": {},
   "outputs": [],
   "source": []
  },
  {
   "cell_type": "code",
   "execution_count": 59,
   "metadata": {},
   "outputs": [
    {
     "ename": "TypeError",
     "evalue": "transpose(): argument 'dim0' (position 1) must be int, not tuple",
     "output_type": "error",
     "traceback": [
      "\u001b[1;31m---------------------------------------------------------------------------\u001b[0m",
      "\u001b[1;31mTypeError\u001b[0m                                 Traceback (most recent call last)",
      "\u001b[1;32m<ipython-input-59-59412e5afa1b>\u001b[0m in \u001b[0;36m<module>\u001b[1;34m\u001b[0m\n\u001b[1;32m----> 1\u001b[1;33m \u001b[0mstate\u001b[0m \u001b[1;33m=\u001b[0m \u001b[1;33m[\u001b[0m \u001b[0mpreprocess_frame\u001b[0m\u001b[1;33m(\u001b[0m\u001b[0mframe_\u001b[0m\u001b[1;33m)\u001b[0m \u001b[1;32mfor\u001b[0m \u001b[0mframe_\u001b[0m \u001b[1;32min\u001b[0m \u001b[0mstate\u001b[0m \u001b[1;33m]\u001b[0m\u001b[1;33m\u001b[0m\u001b[1;33m\u001b[0m\u001b[0m\n\u001b[0m",
      "\u001b[1;32m<ipython-input-59-59412e5afa1b>\u001b[0m in \u001b[0;36m<listcomp>\u001b[1;34m(.0)\u001b[0m\n\u001b[1;32m----> 1\u001b[1;33m \u001b[0mstate\u001b[0m \u001b[1;33m=\u001b[0m \u001b[1;33m[\u001b[0m \u001b[0mpreprocess_frame\u001b[0m\u001b[1;33m(\u001b[0m\u001b[0mframe_\u001b[0m\u001b[1;33m)\u001b[0m \u001b[1;32mfor\u001b[0m \u001b[0mframe_\u001b[0m \u001b[1;32min\u001b[0m \u001b[0mstate\u001b[0m \u001b[1;33m]\u001b[0m\u001b[1;33m\u001b[0m\u001b[1;33m\u001b[0m\u001b[0m\n\u001b[0m",
      "\u001b[1;32m<ipython-input-20-4807f25b3352>\u001b[0m in \u001b[0;36mpreprocess_frame\u001b[1;34m(frame)\u001b[0m\n\u001b[0;32m      1\u001b[0m \u001b[1;32mdef\u001b[0m \u001b[0mpreprocess_frame\u001b[0m\u001b[1;33m(\u001b[0m\u001b[0mframe\u001b[0m\u001b[1;33m)\u001b[0m\u001b[1;33m:\u001b[0m\u001b[1;33m\u001b[0m\u001b[1;33m\u001b[0m\u001b[0m\n\u001b[1;32m----> 2\u001b[1;33m     \u001b[0mframe\u001b[0m \u001b[1;33m=\u001b[0m \u001b[0mframe\u001b[0m\u001b[1;33m.\u001b[0m\u001b[0mtranspose\u001b[0m\u001b[1;33m(\u001b[0m\u001b[1;33m(\u001b[0m\u001b[1;36m2\u001b[0m\u001b[1;33m,\u001b[0m\u001b[1;36m0\u001b[0m\u001b[1;33m,\u001b[0m\u001b[1;36m1\u001b[0m\u001b[1;33m)\u001b[0m\u001b[1;33m)\u001b[0m\u001b[1;33m\u001b[0m\u001b[1;33m\u001b[0m\u001b[0m\n\u001b[0m\u001b[0;32m      3\u001b[0m     \u001b[0mframe\u001b[0m \u001b[1;33m=\u001b[0m \u001b[0mtorch\u001b[0m\u001b[1;33m.\u001b[0m\u001b[0mfrom_numpy\u001b[0m\u001b[1;33m(\u001b[0m\u001b[0mframe\u001b[0m\u001b[1;33m)\u001b[0m\u001b[1;33m\u001b[0m\u001b[1;33m\u001b[0m\u001b[0m\n\u001b[0;32m      4\u001b[0m     \u001b[0mframe\u001b[0m \u001b[1;33m=\u001b[0m \u001b[0mframe\u001b[0m\u001b[1;33m.\u001b[0m\u001b[0mto\u001b[0m\u001b[1;33m(\u001b[0m\u001b[0mdevice\u001b[0m\u001b[1;33m,\u001b[0m \u001b[0mdtype\u001b[0m\u001b[1;33m=\u001b[0m\u001b[0mtorch\u001b[0m\u001b[1;33m.\u001b[0m\u001b[0mfloat32\u001b[0m\u001b[1;33m)\u001b[0m\u001b[1;33m\u001b[0m\u001b[1;33m\u001b[0m\u001b[0m\n\u001b[0;32m      5\u001b[0m     \u001b[0mframe\u001b[0m \u001b[1;33m=\u001b[0m \u001b[0mframe\u001b[0m\u001b[1;33m.\u001b[0m\u001b[0munsqueeze\u001b[0m\u001b[1;33m(\u001b[0m\u001b[1;36m1\u001b[0m\u001b[1;33m)\u001b[0m\u001b[1;33m\u001b[0m\u001b[1;33m\u001b[0m\u001b[0m\n",
      "\u001b[1;31mTypeError\u001b[0m: transpose(): argument 'dim0' (position 1) must be int, not tuple"
     ]
    }
   ],
   "source": [
    "state = [ preprocess_frame(frame_) for frame_ in state ] "
   ]
  },
  {
   "cell_type": "code",
   "execution_count": null,
   "metadata": {},
   "outputs": [],
   "source": []
  },
  {
   "cell_type": "code",
   "execution_count": null,
   "metadata": {},
   "outputs": [],
   "source": []
  },
  {
   "cell_type": "code",
   "execution_count": 39,
   "metadata": {},
   "outputs": [],
   "source": [
    "state = preprocess_frame(state)"
   ]
  },
  {
   "cell_type": "code",
   "execution_count": 42,
   "metadata": {},
   "outputs": [
    {
     "ename": "TypeError",
     "evalue": "cat(): argument 'tensors' (position 1) must be tuple of Tensors, not Tensor",
     "output_type": "error",
     "traceback": [
      "\u001b[1;31m---------------------------------------------------------------------------\u001b[0m",
      "\u001b[1;31mTypeError\u001b[0m                                 Traceback (most recent call last)",
      "\u001b[1;32m<ipython-input-42-053ecf038506>\u001b[0m in \u001b[0;36m<module>\u001b[1;34m\u001b[0m\n\u001b[1;32m----> 1\u001b[1;33m \u001b[0mtorch\u001b[0m\u001b[1;33m.\u001b[0m\u001b[0mcat\u001b[0m\u001b[1;33m(\u001b[0m\u001b[0mstate\u001b[0m\u001b[1;33m[\u001b[0m\u001b[1;36m0\u001b[0m\u001b[1;33m]\u001b[0m\u001b[1;33m)\u001b[0m\u001b[1;33m\u001b[0m\u001b[1;33m\u001b[0m\u001b[0m\n\u001b[0m",
      "\u001b[1;31mTypeError\u001b[0m: cat(): argument 'tensors' (position 1) must be tuple of Tensors, not Tensor"
     ]
    }
   ],
   "source": [
    "torch.cat(state[0])"
   ]
  },
  {
   "cell_type": "code",
   "execution_count": null,
   "metadata": {},
   "outputs": [],
   "source": []
  },
  {
   "cell_type": "code",
   "execution_count": null,
   "metadata": {},
   "outputs": [],
   "source": []
  },
  {
   "cell_type": "code",
   "execution_count": null,
   "metadata": {},
   "outputs": [],
   "source": []
  },
  {
   "cell_type": "code",
   "execution_count": null,
   "metadata": {},
   "outputs": [],
   "source": []
  },
  {
   "cell_type": "code",
   "execution_count": 34,
   "metadata": {},
   "outputs": [
    {
     "ename": "TypeError",
     "evalue": "conv2d(): argument 'input' (position 1) must be Tensor, not numpy.ndarray",
     "output_type": "error",
     "traceback": [
      "\u001b[1;31m---------------------------------------------------------------------------\u001b[0m",
      "\u001b[1;31mTypeError\u001b[0m                                 Traceback (most recent call last)",
      "\u001b[1;32m<ipython-input-34-dd84407ae3cb>\u001b[0m in \u001b[0;36m<module>\u001b[1;34m\u001b[0m\n\u001b[1;32m----> 1\u001b[1;33m \u001b[0mcnn\u001b[0m\u001b[1;33m(\u001b[0m\u001b[0mframe\u001b[0m\u001b[1;33m)\u001b[0m\u001b[1;33m\u001b[0m\u001b[1;33m\u001b[0m\u001b[0m\n\u001b[0m",
      "\u001b[1;32m~\\Anaconda3\\envs\\RL_pytorch_03\\lib\\site-packages\\torch\\nn\\modules\\module.py\u001b[0m in \u001b[0;36m__call__\u001b[1;34m(self, *input, **kwargs)\u001b[0m\n\u001b[0;32m    487\u001b[0m             \u001b[0mresult\u001b[0m \u001b[1;33m=\u001b[0m \u001b[0mself\u001b[0m\u001b[1;33m.\u001b[0m\u001b[0m_slow_forward\u001b[0m\u001b[1;33m(\u001b[0m\u001b[1;33m*\u001b[0m\u001b[0minput\u001b[0m\u001b[1;33m,\u001b[0m \u001b[1;33m**\u001b[0m\u001b[0mkwargs\u001b[0m\u001b[1;33m)\u001b[0m\u001b[1;33m\u001b[0m\u001b[1;33m\u001b[0m\u001b[0m\n\u001b[0;32m    488\u001b[0m         \u001b[1;32melse\u001b[0m\u001b[1;33m:\u001b[0m\u001b[1;33m\u001b[0m\u001b[1;33m\u001b[0m\u001b[0m\n\u001b[1;32m--> 489\u001b[1;33m             \u001b[0mresult\u001b[0m \u001b[1;33m=\u001b[0m \u001b[0mself\u001b[0m\u001b[1;33m.\u001b[0m\u001b[0mforward\u001b[0m\u001b[1;33m(\u001b[0m\u001b[1;33m*\u001b[0m\u001b[0minput\u001b[0m\u001b[1;33m,\u001b[0m \u001b[1;33m**\u001b[0m\u001b[0mkwargs\u001b[0m\u001b[1;33m)\u001b[0m\u001b[1;33m\u001b[0m\u001b[1;33m\u001b[0m\u001b[0m\n\u001b[0m\u001b[0;32m    490\u001b[0m         \u001b[1;32mfor\u001b[0m \u001b[0mhook\u001b[0m \u001b[1;32min\u001b[0m \u001b[0mself\u001b[0m\u001b[1;33m.\u001b[0m\u001b[0m_forward_hooks\u001b[0m\u001b[1;33m.\u001b[0m\u001b[0mvalues\u001b[0m\u001b[1;33m(\u001b[0m\u001b[1;33m)\u001b[0m\u001b[1;33m:\u001b[0m\u001b[1;33m\u001b[0m\u001b[1;33m\u001b[0m\u001b[0m\n\u001b[0;32m    491\u001b[0m             \u001b[0mhook_result\u001b[0m \u001b[1;33m=\u001b[0m \u001b[0mhook\u001b[0m\u001b[1;33m(\u001b[0m\u001b[0mself\u001b[0m\u001b[1;33m,\u001b[0m \u001b[0minput\u001b[0m\u001b[1;33m,\u001b[0m \u001b[0mresult\u001b[0m\u001b[1;33m)\u001b[0m\u001b[1;33m\u001b[0m\u001b[1;33m\u001b[0m\u001b[0m\n",
      "\u001b[1;32m<ipython-input-23-aa0b06206cdd>\u001b[0m in \u001b[0;36mforward\u001b[1;34m(self, x)\u001b[0m\n\u001b[0;32m     22\u001b[0m             \u001b[0mx\u001b[0m \u001b[1;33m=\u001b[0m \u001b[0mx\u001b[0m \u001b[1;33m/\u001b[0m \u001b[1;36m255\u001b[0m\u001b[1;33m\u001b[0m\u001b[1;33m\u001b[0m\u001b[0m\n\u001b[0;32m     23\u001b[0m \u001b[1;33m\u001b[0m\u001b[0m\n\u001b[1;32m---> 24\u001b[1;33m         \u001b[0moutput_conv\u001b[0m \u001b[1;33m=\u001b[0m \u001b[0mself\u001b[0m\u001b[1;33m.\u001b[0m\u001b[0mconv1\u001b[0m\u001b[1;33m(\u001b[0m\u001b[0mx\u001b[0m\u001b[1;33m)\u001b[0m\u001b[1;33m\u001b[0m\u001b[1;33m\u001b[0m\u001b[0m\n\u001b[0m\u001b[0;32m     25\u001b[0m         \u001b[0moutput_conv\u001b[0m \u001b[1;33m=\u001b[0m \u001b[0mself\u001b[0m\u001b[1;33m.\u001b[0m\u001b[0mactivation\u001b[0m\u001b[1;33m(\u001b[0m\u001b[0moutput_conv\u001b[0m\u001b[1;33m)\u001b[0m\u001b[1;33m\u001b[0m\u001b[1;33m\u001b[0m\u001b[0m\n\u001b[0;32m     26\u001b[0m         \u001b[0moutput_conv\u001b[0m \u001b[1;33m=\u001b[0m \u001b[0mself\u001b[0m\u001b[1;33m.\u001b[0m\u001b[0mconv2\u001b[0m\u001b[1;33m(\u001b[0m\u001b[0moutput_conv\u001b[0m\u001b[1;33m)\u001b[0m\u001b[1;33m\u001b[0m\u001b[1;33m\u001b[0m\u001b[0m\n",
      "\u001b[1;32m~\\Anaconda3\\envs\\RL_pytorch_03\\lib\\site-packages\\torch\\nn\\modules\\module.py\u001b[0m in \u001b[0;36m__call__\u001b[1;34m(self, *input, **kwargs)\u001b[0m\n\u001b[0;32m    487\u001b[0m             \u001b[0mresult\u001b[0m \u001b[1;33m=\u001b[0m \u001b[0mself\u001b[0m\u001b[1;33m.\u001b[0m\u001b[0m_slow_forward\u001b[0m\u001b[1;33m(\u001b[0m\u001b[1;33m*\u001b[0m\u001b[0minput\u001b[0m\u001b[1;33m,\u001b[0m \u001b[1;33m**\u001b[0m\u001b[0mkwargs\u001b[0m\u001b[1;33m)\u001b[0m\u001b[1;33m\u001b[0m\u001b[1;33m\u001b[0m\u001b[0m\n\u001b[0;32m    488\u001b[0m         \u001b[1;32melse\u001b[0m\u001b[1;33m:\u001b[0m\u001b[1;33m\u001b[0m\u001b[1;33m\u001b[0m\u001b[0m\n\u001b[1;32m--> 489\u001b[1;33m             \u001b[0mresult\u001b[0m \u001b[1;33m=\u001b[0m \u001b[0mself\u001b[0m\u001b[1;33m.\u001b[0m\u001b[0mforward\u001b[0m\u001b[1;33m(\u001b[0m\u001b[1;33m*\u001b[0m\u001b[0minput\u001b[0m\u001b[1;33m,\u001b[0m \u001b[1;33m**\u001b[0m\u001b[0mkwargs\u001b[0m\u001b[1;33m)\u001b[0m\u001b[1;33m\u001b[0m\u001b[1;33m\u001b[0m\u001b[0m\n\u001b[0m\u001b[0;32m    490\u001b[0m         \u001b[1;32mfor\u001b[0m \u001b[0mhook\u001b[0m \u001b[1;32min\u001b[0m \u001b[0mself\u001b[0m\u001b[1;33m.\u001b[0m\u001b[0m_forward_hooks\u001b[0m\u001b[1;33m.\u001b[0m\u001b[0mvalues\u001b[0m\u001b[1;33m(\u001b[0m\u001b[1;33m)\u001b[0m\u001b[1;33m:\u001b[0m\u001b[1;33m\u001b[0m\u001b[1;33m\u001b[0m\u001b[0m\n\u001b[0;32m    491\u001b[0m             \u001b[0mhook_result\u001b[0m \u001b[1;33m=\u001b[0m \u001b[0mhook\u001b[0m\u001b[1;33m(\u001b[0m\u001b[0mself\u001b[0m\u001b[1;33m,\u001b[0m \u001b[0minput\u001b[0m\u001b[1;33m,\u001b[0m \u001b[0mresult\u001b[0m\u001b[1;33m)\u001b[0m\u001b[1;33m\u001b[0m\u001b[1;33m\u001b[0m\u001b[0m\n",
      "\u001b[1;32m~\\Anaconda3\\envs\\RL_pytorch_03\\lib\\site-packages\\torch\\nn\\modules\\conv.py\u001b[0m in \u001b[0;36mforward\u001b[1;34m(self, input)\u001b[0m\n\u001b[0;32m    318\u001b[0m     \u001b[1;32mdef\u001b[0m \u001b[0mforward\u001b[0m\u001b[1;33m(\u001b[0m\u001b[0mself\u001b[0m\u001b[1;33m,\u001b[0m \u001b[0minput\u001b[0m\u001b[1;33m)\u001b[0m\u001b[1;33m:\u001b[0m\u001b[1;33m\u001b[0m\u001b[1;33m\u001b[0m\u001b[0m\n\u001b[0;32m    319\u001b[0m         return F.conv2d(input, self.weight, self.bias, self.stride,\n\u001b[1;32m--> 320\u001b[1;33m                         self.padding, self.dilation, self.groups)\n\u001b[0m\u001b[0;32m    321\u001b[0m \u001b[1;33m\u001b[0m\u001b[0m\n\u001b[0;32m    322\u001b[0m \u001b[1;33m\u001b[0m\u001b[0m\n",
      "\u001b[1;31mTypeError\u001b[0m: conv2d(): argument 'input' (position 1) must be Tensor, not numpy.ndarray"
     ]
    }
   ],
   "source": [
    "cnn(frame)"
   ]
  }
 ],
 "metadata": {
  "kernelspec": {
   "display_name": "Python 3",
   "language": "python",
   "name": "python3"
  },
  "language_info": {
   "codemirror_mode": {
    "name": "ipython",
    "version": 3
   },
   "file_extension": ".py",
   "mimetype": "text/x-python",
   "name": "python",
   "nbconvert_exporter": "python",
   "pygments_lexer": "ipython3",
   "version": "3.6.8"
  },
  "toc": {
   "base_numbering": 1,
   "nav_menu": {},
   "number_sections": true,
   "sideBar": true,
   "skip_h1_title": false,
   "title_cell": "Table of Contents",
   "title_sidebar": "Contents",
   "toc_cell": true,
   "toc_position": {
    "height": "calc(100% - 180px)",
    "left": "10px",
    "top": "150px",
    "width": "165px"
   },
   "toc_section_display": true,
   "toc_window_display": true
  }
 },
 "nbformat": 4,
 "nbformat_minor": 2
}
