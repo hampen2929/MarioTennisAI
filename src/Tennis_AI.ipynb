{
 "cells": [
  {
   "cell_type": "markdown",
   "metadata": {
    "toc": true
   },
   "source": [
    "<h1>Table of Contents<span class=\"tocSkip\"></span></h1>\n",
    "<div class=\"toc\"><ul class=\"toc-item\"><li><span><a href=\"#コメント\" data-toc-modified-id=\"コメント-1\"><span class=\"toc-item-num\">1&nbsp;&nbsp;</span>コメント</a></span></li><li><span><a href=\"#import\" data-toc-modified-id=\"import-2\"><span class=\"toc-item-num\">2&nbsp;&nbsp;</span>import</a></span></li><li><span><a href=\"#ゲームの位置とサイズ調整\" data-toc-modified-id=\"ゲームの位置とサイズ調整-3\"><span class=\"toc-item-num\">3&nbsp;&nbsp;</span>ゲームの位置とサイズ調整</a></span></li><li><span><a href=\"#DQN\" data-toc-modified-id=\"DQN-4\"><span class=\"toc-item-num\">4&nbsp;&nbsp;</span>DQN</a></span><ul class=\"toc-item\"><li><span><a href=\"#import\" data-toc-modified-id=\"import-4.1\"><span class=\"toc-item-num\">4.1&nbsp;&nbsp;</span>import</a></span></li><li><span><a href=\"#GPU判定\" data-toc-modified-id=\"GPU判定-4.2\"><span class=\"toc-item-num\">4.2&nbsp;&nbsp;</span>GPU判定</a></span></li><li><span><a href=\"#パラメータ\" data-toc-modified-id=\"パラメータ-4.3\"><span class=\"toc-item-num\">4.3&nbsp;&nbsp;</span>パラメータ</a></span></li><li><span><a href=\"#関数\" data-toc-modified-id=\"関数-4.4\"><span class=\"toc-item-num\">4.4&nbsp;&nbsp;</span>関数</a></span></li></ul></li><li><span><a href=\"#スレッド\" data-toc-modified-id=\"スレッド-5\"><span class=\"toc-item-num\">5&nbsp;&nbsp;</span>スレッド</a></span><ul class=\"toc-item\"><li><span><a href=\"#画像取得\" data-toc-modified-id=\"画像取得-5.1\"><span class=\"toc-item-num\">5.1&nbsp;&nbsp;</span>画像取得</a></span></li><li><span><a href=\"#スコア\" data-toc-modified-id=\"スコア-5.2\"><span class=\"toc-item-num\">5.2&nbsp;&nbsp;</span>スコア</a></span></li><li><span><a href=\"#報酬\" data-toc-modified-id=\"報酬-5.3\"><span class=\"toc-item-num\">5.3&nbsp;&nbsp;</span>報酬</a></span></li><li><span><a href=\"#録画\" data-toc-modified-id=\"録画-5.4\"><span class=\"toc-item-num\">5.4&nbsp;&nbsp;</span>録画</a></span></li></ul></li><li><span><a href=\"#学習\" data-toc-modified-id=\"学習-6\"><span class=\"toc-item-num\">6&nbsp;&nbsp;</span>学習</a></span></li><li><span><a href=\"#0-0になる数(ゲーム数)\" data-toc-modified-id=\"0-0になる数(ゲーム数)-7\"><span class=\"toc-item-num\">7&nbsp;&nbsp;</span>0-0になる数(ゲーム数)</a></span></li><li><span><a href=\"#モデル保存\" data-toc-modified-id=\"モデル保存-8\"><span class=\"toc-item-num\">8&nbsp;&nbsp;</span>モデル保存</a></span></li><li><span><a href=\"#中間層確認\" data-toc-modified-id=\"中間層確認-9\"><span class=\"toc-item-num\">9&nbsp;&nbsp;</span>中間層確認</a></span><ul class=\"toc-item\"><li><span><a href=\"#Raw\" data-toc-modified-id=\"Raw-9.1\"><span class=\"toc-item-num\">9.1&nbsp;&nbsp;</span>Raw</a></span></li><li><span><a href=\"#Gray-scale\" data-toc-modified-id=\"Gray-scale-9.2\"><span class=\"toc-item-num\">9.2&nbsp;&nbsp;</span>Gray scale</a></span></li><li><span><a href=\"#resize\" data-toc-modified-id=\"resize-9.3\"><span class=\"toc-item-num\">9.3&nbsp;&nbsp;</span>resize</a></span></li><li><span><a href=\"#conv\" data-toc-modified-id=\"conv-9.4\"><span class=\"toc-item-num\">9.4&nbsp;&nbsp;</span>conv</a></span></li></ul></li></ul></div>"
   ]
  },
  {
   "cell_type": "markdown",
   "metadata": {},
   "source": [
    "# コメント"
   ]
  },
  {
   "cell_type": "markdown",
   "metadata": {},
   "source": [
    "- 報酬を-1, 0, 1に変更せず、やはりスコアで傾斜つけた方がいい。理由はは-1,0,1だと点数取っただけだと報酬に反映されず、学習が遅くなる"
   ]
  },
  {
   "cell_type": "markdown",
   "metadata": {},
   "source": [
    "# import"
   ]
  },
  {
   "cell_type": "code",
   "execution_count": null,
   "metadata": {},
   "outputs": [],
   "source": [
    "import numpy as np\n",
    "import cv2\n",
    "from Tennis_observation import *\n",
    "from Tennis_action import *\n",
    "from window_controlle import *\n",
    "import re\n",
    "import sys\n",
    "import copy\n",
    "import os\n",
    "import random\n",
    "import matplotlib.pyplot as plt"
   ]
  },
  {
   "cell_type": "code",
   "execution_count": 2,
   "metadata": {},
   "outputs": [],
   "source": [
    "import threading\n",
    "import subprocess\n",
    "import time\n",
    "from win32 import win32gui"
   ]
  },
  {
   "cell_type": "markdown",
   "metadata": {},
   "source": [
    "# ゲームの位置とサイズ調整"
   ]
  },
  {
   "cell_type": "code",
   "execution_count": 3,
   "metadata": {},
   "outputs": [],
   "source": [
    "#ゲーム画面の位置調整\n",
    "#1920×1200の画面において右上四分の一に配置\n",
    "win_left = 953\n",
    "win_top = 0\n",
    "win_width = 974\n",
    "win_height = 587"
   ]
  },
  {
   "cell_type": "code",
   "execution_count": 4,
   "metadata": {},
   "outputs": [],
   "source": [
    "#grab_screen\n",
    "#1920×1200の画面において右上四分の一に配置した画面のゲーム部分だけを取得\n",
    "left = 1087\n",
    "top = 30\n",
    "width = 705\n",
    "height = 545\n",
    "\n",
    "#少し大きめに画像をとってくる\n",
    "size_delta = 5"
   ]
  },
  {
   "cell_type": "code",
   "execution_count": 5,
   "metadata": {},
   "outputs": [],
   "source": [
    "#cnnに渡すときの画像サイズ\n",
    "width_cnn = 84\n",
    "height_cnn = 84"
   ]
  },
  {
   "cell_type": "code",
   "execution_count": 6,
   "metadata": {},
   "outputs": [],
   "source": [
    "gray_frag = True"
   ]
  },
  {
   "cell_type": "code",
   "execution_count": 7,
   "metadata": {},
   "outputs": [],
   "source": [
    "adjust_window_pos_size(win_left, win_top, win_width, win_height)"
   ]
  },
  {
   "cell_type": "code",
   "execution_count": 8,
   "metadata": {},
   "outputs": [],
   "source": [
    "frame = grab_screen(left, top, width, height, False)"
   ]
  },
  {
   "cell_type": "markdown",
   "metadata": {},
   "source": [
    "imshow(frame)"
   ]
  },
  {
   "cell_type": "markdown",
   "metadata": {},
   "source": [
    "# DQN"
   ]
  },
  {
   "cell_type": "markdown",
   "metadata": {},
   "source": [
    "## import "
   ]
  },
  {
   "cell_type": "code",
   "execution_count": 9,
   "metadata": {},
   "outputs": [],
   "source": [
    "import torch\n",
    "import torch.nn as nn\n",
    "import torch.optim as optim\n",
    "import math"
   ]
  },
  {
   "cell_type": "markdown",
   "metadata": {},
   "source": [
    "## GPU判定"
   ]
  },
  {
   "cell_type": "code",
   "execution_count": 10,
   "metadata": {},
   "outputs": [],
   "source": [
    "use_cuda = torch.cuda.is_available()\n",
    "\n",
    "device = torch.device(\"cuda:0\" if use_cuda else \"cpu\")\n",
    "Tensor = torch.Tensor\n",
    "LongTensor = torch.LongTensor\n",
    "\n",
    "seed_value = 23\n",
    "torch.manual_seed(seed_value)\n",
    "random.seed(seed_value)"
   ]
  },
  {
   "cell_type": "markdown",
   "metadata": {},
   "source": [
    "## パラメータ"
   ]
  },
  {
   "cell_type": "code",
   "execution_count": 11,
   "metadata": {},
   "outputs": [],
   "source": [
    "#学習率\n",
    "learning_rate = 0.0001\n",
    "#ゲーム数\n",
    "num_episodes = 500\n",
    "gamma = 0.99\n",
    "\n",
    "hidden_layer = 512\n",
    "\n",
    "replay_mem_size = 100000\n",
    "batch_size = 32\n",
    "\n",
    "update_target_frequency = 5000\n",
    "\n",
    "double_dqn = True\n",
    "\n",
    "egreedy = 0.9\n",
    "egreedy_final = 0.01\n",
    "egreedy_decay = 10000\n",
    "\n",
    "report_interval = 10\n",
    "score_to_solve = 18\n",
    "\n",
    "clip_error = True\n",
    "normalize_image = True\n",
    "\n",
    "file2save = './model/tennis_save.pth'\n",
    "save_model_frequency = 10000\n",
    "resume_previous_training = False"
   ]
  },
  {
   "cell_type": "code",
   "execution_count": 12,
   "metadata": {},
   "outputs": [],
   "source": [
    "position = 0\n",
    "capacity = 4"
   ]
  },
  {
   "cell_type": "code",
   "execution_count": 13,
   "metadata": {},
   "outputs": [],
   "source": [
    "output_list = ['state', 'action', 'new_state', 'reward', 'done', 'info']\n",
    "\n",
    "number_of_inputs = frame.shape[0]\n",
    "number_of_outputs = len(keys_to_press)\n",
    "number_of_skips = 10"
   ]
  },
  {
   "cell_type": "code",
   "execution_count": 14,
   "metadata": {},
   "outputs": [],
   "source": [
    "# reward\n",
    "init_flag = ('0.0','0.0')\n",
    "score_reward_dict = {'0.0':0, '15.0':1, '30.0':2, '40.0':3, '60.0':4, '99':99, 'nan':np.nan}"
   ]
  },
  {
   "cell_type": "markdown",
   "metadata": {},
   "source": [
    "## 関数"
   ]
  },
  {
   "cell_type": "code",
   "execution_count": 15,
   "metadata": {},
   "outputs": [],
   "source": [
    "def calculate_epsilon(steps_done):\n",
    "    epsilon = egreedy_final + (egreedy - egreedy_final) * math.exp(-1. * steps_done / egreedy_decay)\n",
    "    \n",
    "    return epsilon"
   ]
  },
  {
   "cell_type": "code",
   "execution_count": 16,
   "metadata": {},
   "outputs": [],
   "source": [
    "def load_model():\n",
    "    return torch.load(file2save)"
   ]
  },
  {
   "cell_type": "code",
   "execution_count": 17,
   "metadata": {},
   "outputs": [],
   "source": [
    "def save_model(model):\n",
    "    torch.save(model.state_dict(), file2save)"
   ]
  },
  {
   "cell_type": "code",
   "execution_count": 18,
   "metadata": {},
   "outputs": [],
   "source": [
    "def preprocess_frame(frame):\n",
    "    frame = frame.transpose((2,0,1))\n",
    "    frame = torch.from_numpy(frame)\n",
    "    frame = frame.to(device, dtype=torch.float32)\n",
    "    frame = frame.unsqueeze(1)\n",
    "    \n",
    "    return frame"
   ]
  },
  {
   "cell_type": "code",
   "execution_count": 19,
   "metadata": {},
   "outputs": [],
   "source": [
    "def plot_results():\n",
    "    plt.figure(figsize=(12,5))\n",
    "    plt.title('Rewards')\n",
    "    plt.plot(reards_total, alpha=0.6, color='red')\n",
    "    plt.savefig('Tennis_result.png')\n",
    "    plt.close()"
   ]
  },
  {
   "cell_type": "code",
   "execution_count": 20,
   "metadata": {},
   "outputs": [],
   "source": [
    "class ExperienceReplay(object):\n",
    "    def __init__(self, capacity):\n",
    "        self.capacity = capacity\n",
    "        self.memory = []\n",
    "        self.position = 0\n",
    " \n",
    "    def push(self, state, action, new_state, reward, done):\n",
    "        transition = (state, action, new_state, reward, done)\n",
    "        \n",
    "        if self.position >= len(self.memory):\n",
    "            self.memory.append(transition)\n",
    "        else:\n",
    "            self.memory[self.position] = transition\n",
    "        \n",
    "        self.position = ( self.position + 1 ) % self.capacity\n",
    "        \n",
    "        \n",
    "    def sample(self, batch_size):\n",
    "        return zip(*random.sample(self.memory, batch_size))\n",
    "        \n",
    "        \n",
    "    def __len__(self):\n",
    "        return len(self.memory)"
   ]
  },
  {
   "cell_type": "code",
   "execution_count": 21,
   "metadata": {},
   "outputs": [],
   "source": [
    "class NeuralNetwork(nn.Module):\n",
    "    def __init__(self):\n",
    "        super(NeuralNetwork, self).__init__()\n",
    "\n",
    "        self.conv1 = nn.Conv2d(in_channels=1, out_channels=32, kernel_size=8, stride=4)\n",
    "        self.conv2 = nn.Conv2d(in_channels=32, out_channels=64, kernel_size=4, stride=2)\n",
    "        self.conv3 = nn.Conv2d(in_channels=64, out_channels=64, kernel_size=3, stride=1)\n",
    "        \n",
    "        self.advantage1 = nn.Linear(7*7*64,hidden_layer)\n",
    "        self.advantage2 = nn.Linear(hidden_layer, number_of_outputs)\n",
    "        \n",
    "        self.value1 = nn.Linear(7*7*64,hidden_layer)\n",
    "        self.value2 = nn.Linear(hidden_layer,1)\n",
    "\n",
    "        #self.activation = nn.Tanh()\n",
    "        self.activation = nn.ReLU()\n",
    "        \n",
    "        \n",
    "    def forward(self, x):\n",
    "        \n",
    "        if normalize_image:\n",
    "            x = x / 255\n",
    "        \n",
    "        output_conv = self.conv1(x)\n",
    "        output_conv = self.activation(output_conv)        \n",
    "        output_conv = self.conv2(output_conv)\n",
    "        output_conv = self.activation(output_conv)\n",
    "        output_conv = self.conv3(output_conv)\n",
    "        output_conv = self.activation(output_conv)\n",
    "        \n",
    "        output_conv = output_conv.view(output_conv.size(0), -1) # flatten\n",
    "        \n",
    "        output_advantage = self.advantage1(output_conv)\n",
    "        output_advantage = self.activation(output_advantage)\n",
    "        output_advantage = self.advantage2(output_advantage)\n",
    "        \n",
    "        output_value = self.value1(output_conv)\n",
    "        output_value = self.activation(output_value)\n",
    "        output_value = self.value2(output_value)\n",
    "        \n",
    "        output_final = output_value + output_advantage - output_advantage.mean()\n",
    "\n",
    "        return output_final"
   ]
  },
  {
   "cell_type": "code",
   "execution_count": 22,
   "metadata": {},
   "outputs": [],
   "source": [
    "class QNet_Agent(object):\n",
    "    def __init__(self):\n",
    "        self.nn = NeuralNetwork().to(device)\n",
    "        self.target_nn = NeuralNetwork().to(device)\n",
    "\n",
    "        self.loss_func = nn.MSELoss()\n",
    "        #self.loss_func = nn.SmoothL1Loss()\n",
    "        \n",
    "        self.optimizer = optim.Adam(params=self.nn.parameters(), lr=learning_rate)\n",
    "        #self.optimizer = optim.RMSprop(params=mynn.parameters(), lr=learning_rate)\n",
    "        \n",
    "        self.number_of_frames = 0\n",
    "        \n",
    "        if resume_previous_training and os.path.exists(file2save):\n",
    "            print(\"Loading previously saved model ... \")\n",
    "            self.nn.load_state_dict(load_model())\n",
    "        \n",
    "    def select_action(self,state,epsilon):\n",
    "        \n",
    "        random_for_egreedy = torch.rand(1)[0]\n",
    "        \n",
    "        if random_for_egreedy > epsilon:\n",
    "            \n",
    "            with torch.no_grad():\n",
    "                \n",
    "                state = preprocess_frame(state)\n",
    "                action_from_nn = self.nn(state)\n",
    "                \n",
    "                action = torch.max(action_from_nn,1)[1]\n",
    "                action = action.item()        \n",
    "        else: # random\n",
    "            action = action_random()\n",
    "        \n",
    "        return action\n",
    "    \n",
    "    def optimize(self):\n",
    "        \n",
    "        if (len(memory) < batch_size):\n",
    "            return\n",
    "        \n",
    "        state, action, new_state, reward, done = memory.sample(batch_size)\n",
    "        \n",
    "        state = [ preprocess_frame(frame) for frame in state ] \n",
    "        state = torch.cat(state)\n",
    "        \n",
    "        new_state = [ preprocess_frame(frame) for frame in new_state ] \n",
    "        new_state = torch.cat(new_state)\n",
    "\n",
    "        reward = Tensor(reward).to(device)\n",
    "        action = LongTensor(action).to(device)\n",
    "        done = Tensor(done).to(device)\n",
    "\n",
    "\n",
    "        if double_dqn:\n",
    "            new_state_indexes = self.nn(new_state).detach()\n",
    "            max_new_state_indexes = torch.max(new_state_indexes, 1)[1]  \n",
    "            \n",
    "            new_state_values = self.target_nn(new_state).detach()\n",
    "            max_new_state_values = new_state_values.gather(1, max_new_state_indexes.unsqueeze(1)).squeeze(1)\n",
    "        else:\n",
    "            new_state_values = self.target_nn(new_state).detach()\n",
    "            max_new_state_values = torch.max(new_state_values, 1)[0]\n",
    "        \n",
    "        \n",
    "        target_value = reward + ( 1 - done ) * gamma * max_new_state_values\n",
    "  \n",
    "        predicted_value = self.nn(state).gather(1, action.unsqueeze(1)).squeeze(1)\n",
    "        \n",
    "        loss = self.loss_func(predicted_value, target_value)\n",
    "    \n",
    "        self.optimizer.zero_grad()\n",
    "        loss.backward()\n",
    "        \n",
    "        if clip_error:\n",
    "            for param in self.nn.parameters():\n",
    "                param.grad.data.clamp_(-1,1)\n",
    "        \n",
    "        self.optimizer.step()\n",
    "        \n",
    "        if self.number_of_frames % update_target_frequency == 0:\n",
    "            self.target_nn.load_state_dict(self.nn.state_dict())\n",
    "        \n",
    "        if self.number_of_frames % save_model_frequency == 0:\n",
    "            save_model(self.nn)\n",
    "        \n",
    "        self.number_of_frames += 1"
   ]
  },
  {
   "cell_type": "markdown",
   "metadata": {},
   "source": [
    "# スレッド"
   ]
  },
  {
   "cell_type": "markdown",
   "metadata": {},
   "source": [
    "## 画像取得"
   ]
  },
  {
   "cell_type": "code",
   "execution_count": 23,
   "metadata": {},
   "outputs": [],
   "source": [
    "frame_current = {'frame':grab_screen(left, top, width, height, False)}\n",
    "stop_flag = {'flag':False}"
   ]
  },
  {
   "cell_type": "code",
   "execution_count": 24,
   "metadata": {},
   "outputs": [],
   "source": [
    "t1 = threading.Thread(target=observation, args=(left, top, width, height, frame_current, stop_flag))\n",
    "t1.start()"
   ]
  },
  {
   "cell_type": "markdown",
   "metadata": {},
   "source": [
    "imshow(frame_current['frame'])"
   ]
  },
  {
   "cell_type": "markdown",
   "metadata": {},
   "source": [
    "## スコア"
   ]
  },
  {
   "cell_type": "code",
   "execution_count": 55,
   "metadata": {},
   "outputs": [],
   "source": [
    "def get_score(my_score, enemy_score, stop_flag):\n",
    "    while True:\n",
    "        # score取得\n",
    "        score = score_check(frame_current['frame'])\n",
    "        my_score['my_score'] = float(score[0])\n",
    "        enemy_score['enemy_score'] = float(score[1])\n",
    "\n",
    "        if stop_flag['flag'] == True:\n",
    "            print('stop getting score')\n",
    "            break"
   ]
  },
  {
   "cell_type": "code",
   "execution_count": 57,
   "metadata": {},
   "outputs": [],
   "source": [
    "my_score = {'my_score':0}\n",
    "enemy_score = {'enemy_score':0}\n",
    "\n",
    "t2 = threading.Thread(target=get_score, args=(my_score, enemy_score, stop_flag))\n",
    "t2.start()"
   ]
  },
  {
   "cell_type": "markdown",
   "metadata": {},
   "source": [
    "my_score = {'my_score':0}\n",
    "enemy_score = {'enemy_score':0}\n",
    "\n",
    "t2 = threading.Thread(target=get_score, args=(my_score, enemy_score, frame_current['frame'], stop_flag))\n",
    "t2.start()"
   ]
  },
  {
   "cell_type": "code",
   "execution_count": 58,
   "metadata": {},
   "outputs": [
    {
     "name": "stdout",
     "output_type": "stream",
     "text": [
      "0.0 15.0\n"
     ]
    }
   ],
   "source": [
    "print(my_score['my_score'], enemy_score['enemy_score'])"
   ]
  },
  {
   "cell_type": "code",
   "execution_count": 59,
   "metadata": {},
   "outputs": [],
   "source": [
    "imshow(frame_current['frame'])"
   ]
  },
  {
   "cell_type": "code",
   "execution_count": 60,
   "metadata": {},
   "outputs": [
    {
     "data": {
      "text/plain": [
       "{'enemy_score': 15.0}"
      ]
     },
     "execution_count": 60,
     "metadata": {},
     "output_type": "execute_result"
    }
   ],
   "source": [
    "enemy_score"
   ]
  },
  {
   "cell_type": "markdown",
   "metadata": {},
   "source": [
    "## 報酬"
   ]
  },
  {
   "cell_type": "code",
   "execution_count": 61,
   "metadata": {},
   "outputs": [],
   "source": [
    "point_fin_flag = {'point_fin_flag':False}"
   ]
  },
  {
   "cell_type": "code",
   "execution_count": 62,
   "metadata": {},
   "outputs": [],
   "source": [
    "def reward_calculation(my_last_score, enemy_last_score, reward, stop_flag):\n",
    "    #スコアと報酬初期化\n",
    "    score = ('99', '99')\n",
    "    last_score = ('99', '99')\n",
    "    reward = -3\n",
    "    count_game = 0\n",
    "    \n",
    "    while stop_flag['flag'] != True:\n",
    "        #スコア取得\n",
    "        score = (str(my_score['my_score']), str(enemy_score['enemy_score']))\n",
    "        \n",
    "        #ポイント終了\n",
    "        if (score != last_score) & ('nan' not in score):\n",
    "            point_fin_flag['point_fin_flag'] = True\n",
    "            #print('score:', str(score))\n",
    "            \n",
    "            #(0,0)で報酬清算\n",
    "            #1ゲーム目の0-0は報酬計算対象外\n",
    "            if (score == init_flag) & (count_game == 0):\n",
    "                count_game += 1\n",
    "                #print('game: ', count_game)\n",
    "            \n",
    "            #2ゲーム目以降\n",
    "            if (score == init_flag) & (count_game > 0):\n",
    "                reward = score_reward_dict[last_score[0]] - score_reward_dict[last_score[1]]\n",
    "                #print('reward:', str(reward))\n",
    "                \n",
    "                count_game += 1\n",
    "                #print('game: ', count_game)\n",
    "            \n",
    "            #0-0の認識できなかった時の報酬計算処理\n",
    "            #if\n",
    "            \n",
    "\n",
    "            last_score = copy.copy(score)\n",
    "            my_last_score['my_last_score'] = last_score[0]\n",
    "            enemy_last_score['enemy_last_score'] = last_score[1]\n",
    "            \n",
    "    \n",
    "    print('fin')"
   ]
  },
  {
   "cell_type": "markdown",
   "metadata": {},
   "source": [
    "reward = {'reward':-3}\n",
    "my_last_score = {'my_last_score': '99'}\n",
    "enemy_last_score = {'enemy_last_score': '99'}\n",
    "\n",
    "\n",
    "t3 = threading.Thread(target=reward_calculation, args=(my_last_score, enemy_last_score, reward, stop_flag))\n",
    "t3.start()"
   ]
  },
  {
   "cell_type": "markdown",
   "metadata": {},
   "source": [
    "print(my_last_score['my_last_score'], enemy_last_score['enemy_last_score'])"
   ]
  },
  {
   "cell_type": "markdown",
   "metadata": {},
   "source": [
    "## 録画"
   ]
  },
  {
   "cell_type": "markdown",
   "metadata": {},
   "source": [
    "video_stop_flag = {'flag':False}\n",
    "t4 = Process(target=video_record, args=(frame_current['frame'], stop_flag)) # argsで引数二つ以上じゃないとエラー出る\n",
    "t4.start()"
   ]
  },
  {
   "cell_type": "code",
   "execution_count": 63,
   "metadata": {},
   "outputs": [
    {
     "data": {
      "text/plain": [
       "('0', '15')"
      ]
     },
     "execution_count": 63,
     "metadata": {},
     "output_type": "execute_result"
    }
   ],
   "source": [
    "score_check(frame_current['frame'])"
   ]
  },
  {
   "cell_type": "markdown",
   "metadata": {},
   "source": [
    "imshow(frame_current['frame'])"
   ]
  },
  {
   "cell_type": "markdown",
   "metadata": {},
   "source": [
    "# 学習"
   ]
  },
  {
   "cell_type": "code",
   "execution_count": 64,
   "metadata": {},
   "outputs": [],
   "source": [
    "resume_previous_training = True"
   ]
  },
  {
   "cell_type": "code",
   "execution_count": 65,
   "metadata": {},
   "outputs": [
    {
     "name": "stdout",
     "output_type": "stream",
     "text": [
      "Loading previously saved model ... \n",
      "score: ('0.0', '15.0')\n",
      "score: ('0.0', '30.0')\n",
      "score: ('0.0', '40.0')\n",
      "score: ('0.0', '30.0')\n",
      "score: ('0.0', '40.0')\n",
      "score: ('0.0', '15.0')\n",
      "score: ('0.0', '40.0')\n",
      "score: ('0.0', '0.0')\n",
      "game:  1\n",
      "reward: -3\n",
      "game:  2\n",
      "score: ('15.0', '40.0')\n",
      "score: ('0.0', '15.0')\n",
      "score: ('0.0', '40.0')\n",
      "score: ('0.0', '0.0')\n",
      "reward: -3\n",
      "game:  3\n",
      "score: ('0.0', '15.0')\n",
      "score: ('0.0', '0.0')\n",
      "reward: -1\n",
      "game:  4\n",
      "score: ('0.0', '15.0')\n",
      "score: ('0.0', '30.0')\n",
      "score: ('0.0', '40.0')\n",
      "score: ('0.0', '0.0')\n",
      "reward: -3\n",
      "game:  5\n",
      "score: ('0.0', '15.0')\n",
      "score: ('0.0', '40.0')\n",
      "score: ('0.0', '0.0')\n",
      "reward: -3\n",
      "game:  6\n",
      "score: ('0.0', '30.0')\n",
      "score: ('0.0', '40.0')\n",
      "score: ('15.0', '30.0')\n",
      "score: ('0.0', '0.0')\n",
      "reward: -1\n",
      "game:  7\n",
      "score: ('15.0', '0.0')\n",
      "score: ('30.0', '0.0')\n",
      "score: ('40.0', '0.0')\n",
      "score: ('40.0', '15.0')\n",
      "score: ('40.0', '30.0')\n",
      "score: ('0.0', '0.0')\n",
      "reward: 1\n",
      "game:  8\n",
      "score: ('0.0', '15.0')\n",
      "score: ('0.0', '0.0')\n",
      "reward: -1\n",
      "game:  9\n",
      "score: ('0.0', '15.0')\n"
     ]
    },
    {
     "ename": "KeyboardInterrupt",
     "evalue": "",
     "traceback": [
      "\u001b[1;31m---------------------------------------------------------------------------\u001b[0m",
      "\u001b[1;31mKeyboardInterrupt\u001b[0m                         Traceback (most recent call last)",
      "\u001b[1;32m<ipython-input-65-8d2b15862aaa>\u001b[0m in \u001b[0;36m<module>\u001b[1;34m\u001b[0m\n\u001b[0;32m     37\u001b[0m \u001b[1;33m\u001b[0m\u001b[0m\n\u001b[0;32m     38\u001b[0m         \u001b[1;31m#行動\u001b[0m\u001b[1;33m\u001b[0m\u001b[1;33m\u001b[0m\u001b[1;33m\u001b[0m\u001b[0m\n\u001b[1;32m---> 39\u001b[1;33m         \u001b[0mtake_action\u001b[0m\u001b[1;33m(\u001b[0m\u001b[0maction\u001b[0m\u001b[1;33m)\u001b[0m\u001b[1;33m\u001b[0m\u001b[1;33m\u001b[0m\u001b[0m\n\u001b[0m\u001b[0;32m     40\u001b[0m \u001b[1;33m\u001b[0m\u001b[0m\n\u001b[0;32m     41\u001b[0m         \u001b[1;31m#新しい環境\u001b[0m\u001b[1;33m\u001b[0m\u001b[1;33m\u001b[0m\u001b[1;33m\u001b[0m\u001b[0m\n",
      "\u001b[1;32mE:\\OneDrive\\RL\\00_DeepGamingAI_Tennis\\Tennis_action.py\u001b[0m in \u001b[0;36mtake_action\u001b[1;34m(action)\u001b[0m\n\u001b[0;32m    109\u001b[0m     \u001b[0mPressKey\u001b[0m\u001b[1;33m(\u001b[0m\u001b[0mactions\u001b[0m\u001b[1;33m[\u001b[0m\u001b[1;36m1\u001b[0m\u001b[1;33m]\u001b[0m\u001b[1;33m)\u001b[0m  \u001b[1;31m# shot\u001b[0m\u001b[1;33m\u001b[0m\u001b[1;33m\u001b[0m\u001b[0m\n\u001b[0;32m    110\u001b[0m \u001b[1;33m\u001b[0m\u001b[0m\n\u001b[1;32m--> 111\u001b[1;33m     \u001b[0mtime\u001b[0m\u001b[1;33m.\u001b[0m\u001b[0msleep\u001b[0m\u001b[1;33m(\u001b[0m\u001b[1;36m0.4\u001b[0m\u001b[1;33m)\u001b[0m\u001b[1;33m\u001b[0m\u001b[1;33m\u001b[0m\u001b[0m\n\u001b[0m\u001b[0;32m    112\u001b[0m \u001b[1;33m\u001b[0m\u001b[0m\n\u001b[0;32m    113\u001b[0m     \u001b[0mReleaseKey\u001b[0m\u001b[1;33m(\u001b[0m\u001b[0mactions\u001b[0m\u001b[1;33m[\u001b[0m\u001b[1;36m0\u001b[0m\u001b[1;33m]\u001b[0m\u001b[1;33m)\u001b[0m  \u001b[1;31m# move\u001b[0m\u001b[1;33m\u001b[0m\u001b[1;33m\u001b[0m\u001b[0m\n",
      "\u001b[1;31mKeyboardInterrupt\u001b[0m: "
     ],
     "output_type": "error"
    }
   ],
   "source": [
    "memory = ExperienceReplay(replay_mem_size)\n",
    "qnet_agent = QNet_Agent()\n",
    "\n",
    "\n",
    "reward_list = []\n",
    "score_list = []\n",
    "\n",
    "#frames_total = 10000694a4a\n",
    "count_game = 0\n",
    "\n",
    "active_window()\n",
    "reward = 0.0\n",
    "\n",
    "done = False\n",
    "\n",
    "score = ('99', '99')\n",
    "last_score = ('99', '99')\n",
    "\n",
    "# 0-0になる数(ゲーム数)\n",
    "for i_episode in range(num_episodes):\n",
    "    \n",
    "\n",
    "    score_list_buf = []\n",
    "    reward_list_buf = []\n",
    "    \n",
    "    new_state = image_gray_resize(frame_current['frame'], width_cnn, height_cnn)\n",
    "    state = new_state\n",
    "    \n",
    "    # 1ゲーム終わるまで継続\n",
    "    while True:\n",
    "        frames_total += 1\n",
    "        \n",
    "        epsilon = calculate_epsilon(frames_total)\n",
    "        \n",
    "        #行動決定\n",
    "        action = qnet_agent.select_action(state, epsilon)\n",
    "        \n",
    "        #行動\n",
    "        take_action(action)\n",
    "        \n",
    "        #新しい環境\n",
    "        state = new_state\n",
    "        \n",
    "        new_state = image_gray_resize(frame_current['frame'], width_cnn, height_cnn)\n",
    "        \n",
    "        score = (str(my_score['my_score']), str(enemy_score['enemy_score']))\n",
    "        \n",
    "        #ゲームが終わったかの確認               \n",
    "        memory.push(state, action, new_state, reward, done)\n",
    "        qnet_agent.optimize()\n",
    "        \n",
    "        #ポイント終了\n",
    "        if (score != last_score) & ('nan' not in score):\n",
    "            print('score:', str(score))\n",
    "            \n",
    "            score_list_buf.append(score)\n",
    "            \n",
    "            #(0,0)で報酬清算\n",
    "            #1ゲーム目の0-0は報酬計算対象外\n",
    "            if (score == init_flag) & (count_game == 0):\n",
    "                count_game += 1\n",
    "                print('game: ', count_game)\n",
    "            \n",
    "            #2ゲーム目以降\n",
    "            if (score == init_flag) & (count_game > 0):\n",
    "                reward = score_reward_dict[last_score[0]] - score_reward_dict[last_score[1]]\n",
    "                reward_list.append(reward)\n",
    "                print('reward:', str(reward))\n",
    "                \n",
    "                count_game += 1\n",
    "                print('game: ', count_game)\n",
    "            \n",
    "            #0-0の認識できなかった時の報酬計算処理\n",
    "            #if\n",
    "\n",
    "            last_score = copy.copy(score)\n",
    "            break\n",
    "        \n",
    "        score_list.append(score_list_buf)\n",
    "        "
   ]
  },
  {
   "cell_type": "code",
   "execution_count": 51,
   "metadata": {},
   "outputs": [
    {
     "data": {
      "text/plain": [
       "{'my_score': 0.0}"
      ]
     },
     "execution_count": 51,
     "metadata": {},
     "output_type": "execute_result"
    }
   ],
   "source": [
    "my_score"
   ]
  },
  {
   "cell_type": "code",
   "execution_count": 53,
   "metadata": {},
   "outputs": [
    {
     "data": {
      "text/plain": [
       "{'enemy_score': 0.0}"
      ]
     },
     "execution_count": 53,
     "metadata": {},
     "output_type": "execute_result"
    }
   ],
   "source": [
    "enemy_score"
   ]
  },
  {
   "cell_type": "code",
   "execution_count": 52,
   "metadata": {},
   "outputs": [
    {
     "data": {
      "text/plain": [
       "('0.0', '0.0')"
      ]
     },
     "execution_count": 52,
     "metadata": {},
     "output_type": "execute_result"
    }
   ],
   "source": [
    "score"
   ]
  },
  {
   "cell_type": "code",
   "execution_count": null,
   "metadata": {},
   "outputs": [],
   "source": []
  },
  {
   "cell_type": "code",
   "execution_count": null,
   "metadata": {},
   "outputs": [],
   "source": []
  },
  {
   "cell_type": "code",
   "execution_count": null,
   "metadata": {},
   "outputs": [],
   "source": []
  },
  {
   "cell_type": "markdown",
   "metadata": {
    "scrolled": false
   },
   "source": [
    "memory = ExperienceReplay(replay_mem_size)\n",
    "qnet_agent = QNet_Agent()\n",
    "\n",
    "\n",
    "reward_list = []\n",
    "frames_total = 10000\n",
    "score_list = []\n",
    "\n",
    "count_game = 0\n",
    "\n",
    "active_window()\n",
    "reward = -3\n",
    "\n",
    "done = False\n",
    "\n",
    "score = ('99', '99')\n",
    "last_score = ('99', '99')\n",
    "\n",
    "# 0-0になる数(ゲーム数)\n",
    "for i_episode in range(num_episodes):\n",
    "    done = False\n",
    "\n",
    "    score_list_buf = []\n",
    "    reward_list_buf = []\n",
    "    \n",
    "    new_state = image_gray_resize(frame_current['frame'], width_cnn, height_cnn)\n",
    "    state = new_state\n",
    "    \n",
    "    # 1ゲーム終わるまで継続\n",
    "    while True:\n",
    "        frames_total += 1\n",
    "        \n",
    "        epsilon = calculate_epsilon(frames_total)\n",
    "        \n",
    "        #行動決定\n",
    "        action = qnet_agent.select_action(state, epsilon)\n",
    "        \n",
    "        #行動\n",
    "        take_action(action)\n",
    "        \n",
    "        #新しい環境\n",
    "        state = new_state\n",
    "        \n",
    "        new_state = image_gray_resize(frame_current['frame'], width_cnn, height_cnn)\n",
    "        \n",
    "        score = (str(my_score['my_score']), str(enemy_score['enemy_score']))\n",
    "        \n",
    "        #ゲームが終わったかの確認               \n",
    "        memory.push(state, action, new_state, reward, done)\n",
    "        qnet_agent.optimize()\n",
    "        \n",
    "        #ポイント終了\n",
    "        #done\n",
    "        if (point_fin_flag['point_fin_flag'] == True) & ('nan' not in score):\n",
    "            point_fin_flag['point_fin_flag'] = False\n",
    "            \n",
    "            score_list_buf.append(score)\n",
    "            print('score:', str(score))\n",
    "            \n",
    "            #(0,0)で報酬計算\n",
    "            if (score == init_flag) & (count_game > 0):\n",
    "                reward = score_reward_dict[last_score[0]] - score_reward_dict[last_score[1]]\n",
    "                print('reward:', str(reward))\n",
    "                \n",
    "                count_game += 1\n",
    "                print('game: ', count_game)\n",
    "                \n",
    "                done = True\n",
    "            \n",
    "            if (score == init_flag) & (count_game == 0):\n",
    "                count_game += 1\n",
    "                print('game: ', count_game)\n",
    "            \n",
    "            last_score = copy.copy(score)\n",
    "        \n",
    "    score_list.append(score_list_buf)"
   ]
  },
  {
   "cell_type": "code",
   "execution_count": null,
   "metadata": {},
   "outputs": [],
   "source": []
  },
  {
   "cell_type": "code",
   "execution_count": 39,
   "metadata": {},
   "outputs": [
    {
     "data": {
      "text/plain": [
       "{'my_score': nan}"
      ]
     },
     "execution_count": 39,
     "metadata": {},
     "output_type": "execute_result"
    }
   ],
   "source": [
    "my_score"
   ]
  },
  {
   "cell_type": "code",
   "execution_count": null,
   "metadata": {},
   "outputs": [],
   "source": []
  },
  {
   "cell_type": "code",
   "execution_count": 37,
   "metadata": {},
   "outputs": [
    {
     "data": {
      "text/plain": [
       "('40.0', '40.0')"
      ]
     },
     "execution_count": 37,
     "metadata": {},
     "output_type": "execute_result"
    }
   ],
   "source": [
    "last_score"
   ]
  },
  {
   "cell_type": "code",
   "execution_count": 40,
   "metadata": {},
   "outputs": [
    {
     "data": {
      "text/plain": [
       "('40.0', '40.0')"
      ]
     },
     "execution_count": 40,
     "metadata": {},
     "output_type": "execute_result"
    }
   ],
   "source": [
    "score"
   ]
  },
  {
   "cell_type": "code",
   "execution_count": null,
   "metadata": {},
   "outputs": [],
   "source": []
  },
  {
   "cell_type": "code",
   "execution_count": 39,
   "metadata": {},
   "outputs": [
    {
     "data": {
      "text/plain": [
       "('15', '15')"
      ]
     },
     "execution_count": 39,
     "metadata": {},
     "output_type": "execute_result"
    }
   ],
   "source": [
    "score_check(frame_current['frame'])"
   ]
  },
  {
   "cell_type": "code",
   "execution_count": null,
   "metadata": {},
   "outputs": [],
   "source": [
    "('0.0', '15.0')\n",
    "('30.0', '30.0')\n",
    "('40.0', '40.0')\n",
    "('0.0', '15.0')\n",
    "('0.0', '30.0')\n",
    "('0.0', '40.0')\n",
    "('15.0', '40.0')\n",
    "('0.0', '0.0')\n",
    "reward: -2\n",
    "('15.0', '15.0')\n",
    "('30.0', '15.0')\n",
    "('0.0', '15.0')\n",
    "('0.0', '30.0')\n",
    "('0.0', '40.0')\n",
    "('15.0', '40.0')\n",
    "('0.0', '0.0')\n",
    "reward: -2\n",
    "('0.0', '0.0')\n",
    "reward: -2\n",
    "('0.0', '0.0')\n",
    "reward: -2\n",
    "('0.0', '0.0')\n",
    "reward: -2\n",
    "('0.0', '0.0')\n",
    "reward: -2\n",
    "('15.0', '15.0')\n",
    "('30.0', '15.0')\n",
    "('40.0', '40.0')\n",
    "('0.0', '15.0')\n",
    "('0.0', '30.0')\n",
    "('0.0', '40.0')\n",
    "('15.0', '0.0')\n",
    "('0.0', '15.0')\n",
    "('0.0', '30.0')\n",
    "('0.0', '40.0')\n",
    "('15.0', '0.0')\n",
    "('15.0', '15.0')\n",
    "('40.0', '15.0')\n",
    "('0.0', '15.0')\n",
    "('0.0', '30.0')\n",
    "('0.0', '40.0')\n",
    "('15.0', '40.0')\n",
    "('0.0', '0.0')\n",
    "reward: -2\n",
    "('0.0', '0.0')\n",
    "reward: -2\n",
    "('0.0', '0.0')\n",
    "reward: -2\n",
    "('0.0', '0.0')\n",
    "reward: -2\n",
    "('0.0', '0.0')\n",
    "reward: -2\n",
    "('0.0', '0.0')\n",
    "reward: -2\n",
    "('0.0', '0.0')\n",
    "reward: -2\n",
    "('0.0', '0.0')\n",
    "reward: -2\n",
    "('0.0', '0.0')\n",
    "reward: -2\n",
    "('0.0', '0.0')\n",
    "reward: -2\n",
    "('0.0', '0.0')\n",
    "reward: -2\n",
    "('0.0', '0.0')\n",
    "reward: -2\n",
    "('0.0', '0.0')\n",
    "reward: -2\n",
    "('0.0', '0.0')\n",
    "reward: -2\n",
    "('30.0', '0.0')\n",
    "('40.0', '0.0')\n",
    "('40.0', '15.0')\n",
    "('40.0', '30.0')\n",
    "('40.0', '40.0')\n",
    "('0.0', '15.0')\n",
    "('0.0', '30.0')\n",
    "('0.0', '40.0')\n",
    "('0.0', '15.0')\n",
    "('0.0', '30.0')\n",
    "('0.0', '40.0')\n",
    "('0.0', '0.0')\n",
    "reward: -3\n",
    "('0.0', '0.0')\n",
    "reward: -3\n",
    "('0.0', '0.0')\n",
    "reward: -3\n",
    "('0.0', '0.0')\n",
    "reward: -3\n",
    "('0.0', '0.0')\n",
    "reward: -3\n",
    "('0.0', '0.0')\n",
    "reward: -3\n",
    "('15.0', '15.0')\n",
    "('30.0', '15.0')\n",
    "('40.0', '30.0')\n",
    "('60.0', '40.0')\n",
    "('0.0', '15.0')\n",
    "('0.0', '30.0')\n",
    "('0.0', '40.0')\n",
    "('0.0', '0.0')\n",
    "reward: -3\n",
    "('0.0', '0.0')\n",
    "reward: -3\n",
    "('15.0', '0.0')\n",
    "('30.0', '15.0')\n",
    "('40.0', '15.0')\n",
    "('0.0', '0.0')\n",
    "reward: 2\n",
    "wining after 29 games\n",
    "('0.0', '0.0')\n",
    "reward: 2\n",
    "wining after 30 games\n",
    "('0.0', '0.0')\n",
    "reward: 2\n",
    "wining after 31 games\n",
    "('0.0', '0.0')\n",
    "reward: 2\n",
    "wining after 32 games\n",
    "('0.0', '0.0')\n",
    "reward: 2\n",
    "wining after 33 games\n",
    "('0.0', '15.0')\n",
    "('0.0', '40.0')\n",
    "('30.0', '0.0')\n",
    "('30.0', '15.0')\n",
    "('0.0', '15.0')\n",
    "('0.0', '40.0')\n",
    "('15.0', '40.0')\n",
    "('0.0', '0.0')\n",
    "reward: -2\n",
    "('0.0', '0.0')\n",
    "reward: -2\n",
    "('0.0', '15.0')\n",
    "('0.0', '30.0')\n",
    "('0.0', '40.0')\n",
    "('15.0', '40.0')\n",
    "('0.0', '0.0')\n",
    "reward: -2\n",
    "('30.0', '15.0')\n",
    "('40.0', '40.0')\n",
    "('0.0', '0.0')\n",
    "reward: 0\n",
    "('0.0', '15.0')\n",
    "('0.0', '30.0')\n",
    "('15.0', '30.0')\n",
    "('15.0', '40.0')\n",
    "('30.0', '40.0')\n",
    "('0.0', '0.0')\n",
    "reward: -1\n",
    "('0.0', '0.0')\n",
    "reward: -1\n",
    "('0.0', '0.0')\n",
    "reward: -1\n",
    "('0.0', '0.0')\n",
    "reward: -1\n",
    "('0.0', '0.0')\n",
    "reward: -1\n",
    "('0.0', '15.0')\n",
    "('15.0', '15.0')\n",
    "('30.0', '15.0')\n",
    "('40.0', '30.0')\n",
    "('0.0', '15.0')\n",
    "('0.0', '30.0')\n",
    "('0.0', '40.0')\n",
    "('30.0', '15.0')\n",
    "('30.0', '40.0')\n",
    "('0.0', '15.0')\n",
    "('0.0', '30.0')\n",
    "('0.0', '40.0')\n",
    "('0.0', '30.0')\n",
    "('15.0', '30.0')\n",
    "('30.0', '40.0')\n",
    "('60.0', '40.0')\n",
    "('0.0', '15.0')\n",
    "('0.0', '30.0')\n",
    "('15.0', '30.0')\n",
    "('15.0', '40.0')\n",
    "('0.0', '0.0')\n",
    "reward: -2\n",
    "('0.0', '15.0')\n",
    "('15.0', '15.0')\n",
    "('15.0', '30.0')\n",
    "('15.0', '40.0')\n",
    "('0.0', '15.0')\n",
    "('15.0', '15.0')\n",
    "('15.0', '30.0')"
   ]
  },
  {
   "cell_type": "code",
   "execution_count": 52,
   "metadata": {},
   "outputs": [
    {
     "data": {
      "text/plain": [
       "[]"
      ]
     },
     "execution_count": 52,
     "metadata": {},
     "output_type": "execute_result"
    }
   ],
   "source": [
    "score_list_buf"
   ]
  },
  {
   "cell_type": "code",
   "execution_count": 50,
   "metadata": {},
   "outputs": [
    {
     "data": {
      "text/plain": [
       "[-2,\n",
       " -2,\n",
       " -2,\n",
       " -2,\n",
       " -2,\n",
       " -2,\n",
       " -2,\n",
       " -2,\n",
       " -2,\n",
       " -2,\n",
       " -2,\n",
       " -2,\n",
       " -2,\n",
       " -2,\n",
       " -2,\n",
       " -2,\n",
       " -2,\n",
       " -2,\n",
       " -2,\n",
       " -2,\n",
       " -3,\n",
       " -3,\n",
       " -3,\n",
       " -3,\n",
       " -3,\n",
       " -3,\n",
       " -3,\n",
       " -3,\n",
       " 2,\n",
       " 2,\n",
       " 2,\n",
       " 2,\n",
       " 2,\n",
       " -2,\n",
       " -2,\n",
       " -2,\n",
       " 0,\n",
       " -1,\n",
       " -1,\n",
       " -1,\n",
       " -1,\n",
       " -1,\n",
       " -2]"
      ]
     },
     "execution_count": 50,
     "metadata": {},
     "output_type": "execute_result"
    }
   ],
   "source": [
    "reward_list"
   ]
  },
  {
   "cell_type": "code",
   "execution_count": null,
   "metadata": {},
   "outputs": [],
   "source": []
  },
  {
   "cell_type": "code",
   "execution_count": null,
   "metadata": {},
   "outputs": [],
   "source": []
  },
  {
   "cell_type": "markdown",
   "metadata": {},
   "source": [
    "# モデル保存"
   ]
  },
  {
   "cell_type": "code",
   "execution_count": null,
   "metadata": {},
   "outputs": [],
   "source": [
    "save_model(qnet_agent.nn)"
   ]
  },
  {
   "cell_type": "code",
   "execution_count": null,
   "metadata": {},
   "outputs": [],
   "source": []
  },
  {
   "cell_type": "code",
   "execution_count": 516,
   "metadata": {},
   "outputs": [],
   "source": [
    "frame = grab_screen(left, top, width, height, False)"
   ]
  },
  {
   "cell_type": "code",
   "execution_count": 517,
   "metadata": {},
   "outputs": [
    {
     "data": {
      "text/plain": [
       "True"
      ]
     },
     "execution_count": 517,
     "metadata": {},
     "output_type": "execute_result"
    }
   ],
   "source": [
    "cv2.imwrite('a.png',frame)"
   ]
  },
  {
   "cell_type": "markdown",
   "metadata": {},
   "source": [
    "# 中間層確認"
   ]
  },
  {
   "cell_type": "code",
   "execution_count": 374,
   "metadata": {},
   "outputs": [],
   "source": [
    "cnn = NeuralNetwork().to(device)"
   ]
  },
  {
   "cell_type": "markdown",
   "metadata": {},
   "source": [
    "## Raw"
   ]
  },
  {
   "cell_type": "code",
   "execution_count": 484,
   "metadata": {},
   "outputs": [],
   "source": [
    "frame_1 = grab_screen(left, top, width, height, False)"
   ]
  },
  {
   "cell_type": "code",
   "execution_count": 485,
   "metadata": {},
   "outputs": [],
   "source": [
    "frame_1 = cv2.cvtColor(frame_1, cv2.COLOR_RGB2BGR)"
   ]
  },
  {
   "cell_type": "code",
   "execution_count": 486,
   "metadata": {},
   "outputs": [
    {
     "data": {
      "text/plain": [
       "<matplotlib.image.AxesImage at 0x146a4f11240>"
      ]
     },
     "execution_count": 486,
     "metadata": {},
     "output_type": "execute_result"
    },
    {
     "data": {
      "image/png": "[encoded data removed]",
      "text/plain": [
       "<Figure size 432x288 with 1 Axes>"
      ]
     },
     "metadata": {
      "needs_background": "light"
     },
     "output_type": "display_data"
    }
   ],
   "source": [
    "plt.imshow(frame_1)"
   ]
  },
  {
   "cell_type": "code",
   "execution_count": 487,
   "metadata": {},
   "outputs": [
    {
     "data": {
      "text/plain": [
       "(545, 705, 3)"
      ]
     },
     "execution_count": 487,
     "metadata": {},
     "output_type": "execute_result"
    }
   ],
   "source": [
    "frame_1.shape"
   ]
  },
  {
   "cell_type": "code",
   "execution_count": 488,
   "metadata": {},
   "outputs": [
    {
     "data": {
      "text/plain": [
       "<Figure size 432x288 with 0 Axes>"
      ]
     },
     "metadata": {},
     "output_type": "display_data"
    }
   ],
   "source": [
    "plt.savefig('frame_1.png')"
   ]
  },
  {
   "cell_type": "markdown",
   "metadata": {},
   "source": [
    "## Gray scale"
   ]
  },
  {
   "cell_type": "code",
   "execution_count": 489,
   "metadata": {},
   "outputs": [],
   "source": [
    "frame_2 = grab_screen(left, top, width, height, True)"
   ]
  },
  {
   "cell_type": "code",
   "execution_count": 490,
   "metadata": {},
   "outputs": [
    {
     "data": {
      "text/plain": [
       "(545, 705)"
      ]
     },
     "execution_count": 490,
     "metadata": {},
     "output_type": "execute_result"
    }
   ],
   "source": [
    "frame_2.shape"
   ]
  },
  {
   "cell_type": "code",
   "execution_count": 491,
   "metadata": {},
   "outputs": [],
   "source": [
    "frame_2 = cv2.cvtColor(frame_2, cv2.COLOR_BAYER_RG2BGR)"
   ]
  },
  {
   "cell_type": "code",
   "execution_count": 492,
   "metadata": {},
   "outputs": [
    {
     "data": {
      "text/plain": [
       "<matplotlib.image.AxesImage at 0x146a805c8d0>"
      ]
     },
     "execution_count": 492,
     "metadata": {},
     "output_type": "execute_result"
    },
    {
     "data": {
      "image/png": "[encoded data removed]",
      "text/plain": [
       "<Figure size 432x288 with 1 Axes>"
      ]
     },
     "metadata": {
      "needs_background": "light"
     },
     "output_type": "display_data"
    }
   ],
   "source": [
    "plt.imshow(frame_2)"
   ]
  },
  {
   "cell_type": "markdown",
   "metadata": {},
   "source": [
    "## resize"
   ]
  },
  {
   "cell_type": "code",
   "execution_count": 493,
   "metadata": {},
   "outputs": [],
   "source": [
    "frame_3 = grab_screen(left, top, width, height, True)"
   ]
  },
  {
   "cell_type": "markdown",
   "metadata": {},
   "source": [
    "frame_3 = cv2.cvtColor(frame_3, cv2.COLOR_BAYER_RG2BGR)"
   ]
  },
  {
   "cell_type": "code",
   "execution_count": 494,
   "metadata": {},
   "outputs": [],
   "source": [
    "frame_3 = image_resize(frame_3, width_cnn, height_cnn)"
   ]
  },
  {
   "cell_type": "code",
   "execution_count": 495,
   "metadata": {},
   "outputs": [
    {
     "data": {
      "text/plain": [
       "84"
      ]
     },
     "execution_count": 495,
     "metadata": {},
     "output_type": "execute_result"
    }
   ],
   "source": [
    "frame_3.shape[0]"
   ]
  },
  {
   "cell_type": "code",
   "execution_count": 496,
   "metadata": {},
   "outputs": [],
   "source": [
    "frame_3 = frame_3.reshape(frame_3.shape[0], frame_3.shape[1])"
   ]
  },
  {
   "cell_type": "code",
   "execution_count": 497,
   "metadata": {},
   "outputs": [],
   "source": [
    "frame_3 = cv2.cvtColor(frame_3, cv2.COLOR_GRAY2BGR)"
   ]
  },
  {
   "cell_type": "code",
   "execution_count": 498,
   "metadata": {},
   "outputs": [
    {
     "data": {
      "text/plain": [
       "<matplotlib.image.AxesImage at 0x146a8162978>"
      ]
     },
     "execution_count": 498,
     "metadata": {},
     "output_type": "execute_result"
    },
    {
     "data": {
      "image/png": "[encoded data removed]",
      "text/plain": [
       "<Figure size 432x288 with 1 Axes>"
      ]
     },
     "metadata": {
      "needs_background": "light"
     },
     "output_type": "display_data"
    }
   ],
   "source": [
    "plt.imshow(frame_3)"
   ]
  },
  {
   "cell_type": "markdown",
   "metadata": {},
   "source": [
    "## conv"
   ]
  },
  {
   "cell_type": "code",
   "execution_count": 499,
   "metadata": {},
   "outputs": [],
   "source": [
    "frame_4 = grab_screen(left, top, width, height, True)"
   ]
  },
  {
   "cell_type": "code",
   "execution_count": 500,
   "metadata": {},
   "outputs": [],
   "source": [
    "frame_4 = image_resize(frame_4, width_cnn, height_cnn)"
   ]
  },
  {
   "cell_type": "code",
   "execution_count": 501,
   "metadata": {},
   "outputs": [],
   "source": [
    "frame_4 = preprocess_frame(frame_4)"
   ]
  },
  {
   "cell_type": "code",
   "execution_count": 502,
   "metadata": {},
   "outputs": [],
   "source": [
    "frame_4 = cnn(frame_4)"
   ]
  },
  {
   "cell_type": "code",
   "execution_count": 503,
   "metadata": {},
   "outputs": [],
   "source": [
    "frame_4 = frame_4[1]"
   ]
  },
  {
   "cell_type": "code",
   "execution_count": 504,
   "metadata": {},
   "outputs": [],
   "source": [
    "frame_4 = frame_4[0][0]"
   ]
  },
  {
   "cell_type": "code",
   "execution_count": 505,
   "metadata": {},
   "outputs": [],
   "source": [
    "frame_4 = (Tensor.cpu(frame_4.detach())).numpy()"
   ]
  },
  {
   "cell_type": "code",
   "execution_count": 506,
   "metadata": {},
   "outputs": [],
   "source": [
    "frame_4 = cv2.cvtColor(frame_4, cv2.COLOR_GRAY2BGR)"
   ]
  },
  {
   "cell_type": "code",
   "execution_count": 508,
   "metadata": {},
   "outputs": [
    {
     "data": {
      "text/plain": [
       "<matplotlib.image.AxesImage at 0x146a4f4ecc0>"
      ]
     },
     "execution_count": 508,
     "metadata": {},
     "output_type": "execute_result"
    },
    {
     "data": {
      "image/png": "[encoded data removed]",
      "text/plain": [
       "<Figure size 432x288 with 1 Axes>"
      ]
     },
     "metadata": {
      "needs_background": "light"
     },
     "output_type": "display_data"
    }
   ],
   "source": [
    "plt.imshow(frame_4)"
   ]
  },
  {
   "cell_type": "code",
   "execution_count": 34,
   "metadata": {},
   "outputs": [
    {
     "ename": "TypeError",
     "evalue": "conv2d(): argument 'input' (position 1) must be Tensor, not numpy.ndarray",
     "traceback": [
      "\u001b[1;31m---------------------------------------------------------------------------\u001b[0m",
      "\u001b[1;31mTypeError\u001b[0m                                 Traceback (most recent call last)",
      "\u001b[1;32m<ipython-input-34-dd84407ae3cb>\u001b[0m in \u001b[0;36m<module>\u001b[1;34m\u001b[0m\n\u001b[1;32m----> 1\u001b[1;33m \u001b[0mcnn\u001b[0m\u001b[1;33m(\u001b[0m\u001b[0mframe\u001b[0m\u001b[1;33m)\u001b[0m\u001b[1;33m\u001b[0m\u001b[1;33m\u001b[0m\u001b[0m\n\u001b[0m",
      "\u001b[1;32m~\\Anaconda3\\envs\\RL_pytorch_03\\lib\\site-packages\\torch\\nn\\modules\\module.py\u001b[0m in \u001b[0;36m__call__\u001b[1;34m(self, *input, **kwargs)\u001b[0m\n\u001b[0;32m    487\u001b[0m             \u001b[0mresult\u001b[0m \u001b[1;33m=\u001b[0m \u001b[0mself\u001b[0m\u001b[1;33m.\u001b[0m\u001b[0m_slow_forward\u001b[0m\u001b[1;33m(\u001b[0m\u001b[1;33m*\u001b[0m\u001b[0minput\u001b[0m\u001b[1;33m,\u001b[0m \u001b[1;33m**\u001b[0m\u001b[0mkwargs\u001b[0m\u001b[1;33m)\u001b[0m\u001b[1;33m\u001b[0m\u001b[1;33m\u001b[0m\u001b[0m\n\u001b[0;32m    488\u001b[0m         \u001b[1;32melse\u001b[0m\u001b[1;33m:\u001b[0m\u001b[1;33m\u001b[0m\u001b[1;33m\u001b[0m\u001b[0m\n\u001b[1;32m--> 489\u001b[1;33m             \u001b[0mresult\u001b[0m \u001b[1;33m=\u001b[0m \u001b[0mself\u001b[0m\u001b[1;33m.\u001b[0m\u001b[0mforward\u001b[0m\u001b[1;33m(\u001b[0m\u001b[1;33m*\u001b[0m\u001b[0minput\u001b[0m\u001b[1;33m,\u001b[0m \u001b[1;33m**\u001b[0m\u001b[0mkwargs\u001b[0m\u001b[1;33m)\u001b[0m\u001b[1;33m\u001b[0m\u001b[1;33m\u001b[0m\u001b[0m\n\u001b[0m\u001b[0;32m    490\u001b[0m         \u001b[1;32mfor\u001b[0m \u001b[0mhook\u001b[0m \u001b[1;32min\u001b[0m \u001b[0mself\u001b[0m\u001b[1;33m.\u001b[0m\u001b[0m_forward_hooks\u001b[0m\u001b[1;33m.\u001b[0m\u001b[0mvalues\u001b[0m\u001b[1;33m(\u001b[0m\u001b[1;33m)\u001b[0m\u001b[1;33m:\u001b[0m\u001b[1;33m\u001b[0m\u001b[1;33m\u001b[0m\u001b[0m\n\u001b[0;32m    491\u001b[0m             \u001b[0mhook_result\u001b[0m \u001b[1;33m=\u001b[0m \u001b[0mhook\u001b[0m\u001b[1;33m(\u001b[0m\u001b[0mself\u001b[0m\u001b[1;33m,\u001b[0m \u001b[0minput\u001b[0m\u001b[1;33m,\u001b[0m \u001b[0mresult\u001b[0m\u001b[1;33m)\u001b[0m\u001b[1;33m\u001b[0m\u001b[1;33m\u001b[0m\u001b[0m\n",
      "\u001b[1;32m<ipython-input-23-aa0b06206cdd>\u001b[0m in \u001b[0;36mforward\u001b[1;34m(self, x)\u001b[0m\n\u001b[0;32m     22\u001b[0m             \u001b[0mx\u001b[0m \u001b[1;33m=\u001b[0m \u001b[0mx\u001b[0m \u001b[1;33m/\u001b[0m \u001b[1;36m255\u001b[0m\u001b[1;33m\u001b[0m\u001b[1;33m\u001b[0m\u001b[0m\n\u001b[0;32m     23\u001b[0m \u001b[1;33m\u001b[0m\u001b[0m\n\u001b[1;32m---> 24\u001b[1;33m         \u001b[0moutput_conv\u001b[0m \u001b[1;33m=\u001b[0m \u001b[0mself\u001b[0m\u001b[1;33m.\u001b[0m\u001b[0mconv1\u001b[0m\u001b[1;33m(\u001b[0m\u001b[0mx\u001b[0m\u001b[1;33m)\u001b[0m\u001b[1;33m\u001b[0m\u001b[1;33m\u001b[0m\u001b[0m\n\u001b[0m\u001b[0;32m     25\u001b[0m         \u001b[0moutput_conv\u001b[0m \u001b[1;33m=\u001b[0m \u001b[0mself\u001b[0m\u001b[1;33m.\u001b[0m\u001b[0mactivation\u001b[0m\u001b[1;33m(\u001b[0m\u001b[0moutput_conv\u001b[0m\u001b[1;33m)\u001b[0m\u001b[1;33m\u001b[0m\u001b[1;33m\u001b[0m\u001b[0m\n\u001b[0;32m     26\u001b[0m         \u001b[0moutput_conv\u001b[0m \u001b[1;33m=\u001b[0m \u001b[0mself\u001b[0m\u001b[1;33m.\u001b[0m\u001b[0mconv2\u001b[0m\u001b[1;33m(\u001b[0m\u001b[0moutput_conv\u001b[0m\u001b[1;33m)\u001b[0m\u001b[1;33m\u001b[0m\u001b[1;33m\u001b[0m\u001b[0m\n",
      "\u001b[1;32m~\\Anaconda3\\envs\\RL_pytorch_03\\lib\\site-packages\\torch\\nn\\modules\\module.py\u001b[0m in \u001b[0;36m__call__\u001b[1;34m(self, *input, **kwargs)\u001b[0m\n\u001b[0;32m    487\u001b[0m             \u001b[0mresult\u001b[0m \u001b[1;33m=\u001b[0m \u001b[0mself\u001b[0m\u001b[1;33m.\u001b[0m\u001b[0m_slow_forward\u001b[0m\u001b[1;33m(\u001b[0m\u001b[1;33m*\u001b[0m\u001b[0minput\u001b[0m\u001b[1;33m,\u001b[0m \u001b[1;33m**\u001b[0m\u001b[0mkwargs\u001b[0m\u001b[1;33m)\u001b[0m\u001b[1;33m\u001b[0m\u001b[1;33m\u001b[0m\u001b[0m\n\u001b[0;32m    488\u001b[0m         \u001b[1;32melse\u001b[0m\u001b[1;33m:\u001b[0m\u001b[1;33m\u001b[0m\u001b[1;33m\u001b[0m\u001b[0m\n\u001b[1;32m--> 489\u001b[1;33m             \u001b[0mresult\u001b[0m \u001b[1;33m=\u001b[0m \u001b[0mself\u001b[0m\u001b[1;33m.\u001b[0m\u001b[0mforward\u001b[0m\u001b[1;33m(\u001b[0m\u001b[1;33m*\u001b[0m\u001b[0minput\u001b[0m\u001b[1;33m,\u001b[0m \u001b[1;33m**\u001b[0m\u001b[0mkwargs\u001b[0m\u001b[1;33m)\u001b[0m\u001b[1;33m\u001b[0m\u001b[1;33m\u001b[0m\u001b[0m\n\u001b[0m\u001b[0;32m    490\u001b[0m         \u001b[1;32mfor\u001b[0m \u001b[0mhook\u001b[0m \u001b[1;32min\u001b[0m \u001b[0mself\u001b[0m\u001b[1;33m.\u001b[0m\u001b[0m_forward_hooks\u001b[0m\u001b[1;33m.\u001b[0m\u001b[0mvalues\u001b[0m\u001b[1;33m(\u001b[0m\u001b[1;33m)\u001b[0m\u001b[1;33m:\u001b[0m\u001b[1;33m\u001b[0m\u001b[1;33m\u001b[0m\u001b[0m\n\u001b[0;32m    491\u001b[0m             \u001b[0mhook_result\u001b[0m \u001b[1;33m=\u001b[0m \u001b[0mhook\u001b[0m\u001b[1;33m(\u001b[0m\u001b[0mself\u001b[0m\u001b[1;33m,\u001b[0m \u001b[0minput\u001b[0m\u001b[1;33m,\u001b[0m \u001b[0mresult\u001b[0m\u001b[1;33m)\u001b[0m\u001b[1;33m\u001b[0m\u001b[1;33m\u001b[0m\u001b[0m\n",
      "\u001b[1;32m~\\Anaconda3\\envs\\RL_pytorch_03\\lib\\site-packages\\torch\\nn\\modules\\conv.py\u001b[0m in \u001b[0;36mforward\u001b[1;34m(self, input)\u001b[0m\n\u001b[0;32m    318\u001b[0m     \u001b[1;32mdef\u001b[0m \u001b[0mforward\u001b[0m\u001b[1;33m(\u001b[0m\u001b[0mself\u001b[0m\u001b[1;33m,\u001b[0m \u001b[0minput\u001b[0m\u001b[1;33m)\u001b[0m\u001b[1;33m:\u001b[0m\u001b[1;33m\u001b[0m\u001b[1;33m\u001b[0m\u001b[0m\n\u001b[0;32m    319\u001b[0m         return F.conv2d(input, self.weight, self.bias, self.stride,\n\u001b[1;32m--> 320\u001b[1;33m                         self.padding, self.dilation, self.groups)\n\u001b[0m\u001b[0;32m    321\u001b[0m \u001b[1;33m\u001b[0m\u001b[0m\n\u001b[0;32m    322\u001b[0m \u001b[1;33m\u001b[0m\u001b[0m\n",
      "\u001b[1;31mTypeError\u001b[0m: conv2d(): argument 'input' (position 1) must be Tensor, not numpy.ndarray"
     ],
     "output_type": "error"
    }
   ],
   "source": [
    "cnn(frame)"
   ]
  }
 ],
 "metadata": {
  "kernelspec": {
   "display_name": "Python 3",
   "language": "python",
   "name": "python3"
  },
  "language_info": {
   "codemirror_mode": {
    "name": "ipython",
    "version": 3
   },
   "file_extension": ".py",
   "mimetype": "text/x-python",
   "name": "python",
   "nbconvert_exporter": "python",
   "pygments_lexer": "ipython3",
   "version": "3.6.8"
  },
  "toc": {
   "base_numbering": 1.0,
   "nav_menu": {},
   "number_sections": true,
   "sideBar": true,
   "skip_h1_title": false,
   "title_cell": "Table of Contents",
   "title_sidebar": "Contents",
   "toc_cell": true,
   "toc_position": {
    "height": "calc(100% - 180px)",
    "left": "10px",
    "top": "150px",
    "width": "165px"
   },
   "toc_section_display": true,
   "toc_window_display": true
  }
 },
 "nbformat": 4,
 "nbformat_minor": 2
}
